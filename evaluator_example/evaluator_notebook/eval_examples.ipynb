{
 "cells": [
  {
   "cell_type": "markdown",
   "metadata": {},
   "source": [
    "# Core Imports and Setup"
   ]
  },
  {
   "cell_type": "code",
   "execution_count": 1,
   "metadata": {},
   "outputs": [],
   "source": [
    "import os\n",
    "from pathlib import Path\n",
    "\n",
    "import warnings\n",
    "warnings.filterwarnings(\"ignore\")\n",
    "\n",
    "import logging\n",
    "logging.getLogger(\"openff.toolkit\").setLevel(logging.ERROR)\n",
    "\n",
    "from openff import toolkit, evaluator"
   ]
  },
  {
   "cell_type": "markdown",
   "metadata": {},
   "source": [
    "# 0) Registering Custom ThermoML Properties"
   ]
  },
  {
   "cell_type": "code",
   "execution_count": 2,
   "metadata": {},
   "outputs": [],
   "source": [
    "from openff.units import unit\n",
    "from openff.evaluator import properties\n",
    "from openff.evaluator.datasets.thermoml import thermoml_property\n",
    "from openff.evaluator.datasets import PhysicalProperty, PropertyPhase\n",
    "\n",
    "@thermoml_property(\"Osmotic coefficient\", supported_phases=PropertyPhase.Liquid)\n",
    "class OsmoticCoefficient(PhysicalProperty):\n",
    "    \"\"\"A class representation of a osmotic coeff property\"\"\"\n",
    "\n",
    "    @classmethod\n",
    "    def default_unit(cls):\n",
    "        return unit.dimensionless\n",
    "    \n",
    "...\n",
    "\n",
    "custom_thermoml_props = [\n",
    "    OsmoticCoefficient,\n",
    "]\n",
    "\n",
    "for custom_prop_cls in custom_thermoml_props:    \n",
    "    setattr(properties, custom_prop_cls.__name__, custom_prop_cls)"
   ]
  },
  {
   "cell_type": "markdown",
   "metadata": {},
   "source": [
    "# 1) - Loading ThermoML Data Sets"
   ]
  },
  {
   "cell_type": "markdown",
   "metadata": {},
   "source": [
    "## Extracting data from ThermoML"
   ]
  },
  {
   "cell_type": "code",
   "execution_count": 3,
   "metadata": {},
   "outputs": [],
   "source": [
    "from openff.evaluator.datasets import PhysicalProperty, PropertyPhase\n",
    "from openff.evaluator.datasets.thermoml import thermoml_property\n",
    "from openff.units import unit\n",
    "\n",
    "from openff.evaluator.datasets.thermoml import ThermoMLDataSet\n",
    "\n",
    "# data_set = ThermoMLDataSet.from_doi(\n",
    "#     '10.1016/j.jct.2011.03.012',\n",
    "#     # \"10.1016/j.fluid.2013.10.034\",\n",
    "# )\n",
    "data_set = ThermoMLDataSet.from_doi( # defaults from exaple notebook\n",
    "    \"10.1016/j.fluid.2013.10.034\",\n",
    "    \"10.1021/je1013476\",\n",
    ")"
   ]
  },
  {
   "cell_type": "markdown",
   "metadata": {},
   "source": [
    "## Filtering data set"
   ]
  },
  {
   "cell_type": "code",
   "execution_count": 4,
   "metadata": {},
   "outputs": [
    {
     "name": "stdout",
     "output_type": "stream",
     "text": [
      "4\n"
     ]
    }
   ],
   "source": [
    "from openff.evaluator.datasets.curation.components.filtering import FilterByPropertyTypes, FilterByPropertyTypesSchema\n",
    "from openff.evaluator.datasets.curation.components.filtering import FilterByTemperature, FilterByTemperatureSchema\n",
    "from openff.evaluator.datasets.curation.components.filtering import FilterByPressure, FilterByPressureSchema\n",
    "from openff.evaluator.datasets.curation.components.filtering import FilterBySmiles, FilterBySmilesSchema\n",
    "\n",
    "# Property\n",
    "data_set = FilterByPropertyTypes.apply(\n",
    "    data_set, FilterByPropertyTypesSchema(property_types=[\"Density\"])\n",
    ")\n",
    "\n",
    "# Temperature\n",
    "data_set = FilterByTemperature.apply(\n",
    "    data_set, FilterByTemperatureSchema(minimum_temperature=298.0, maximum_temperature=330.0)\n",
    ")\n",
    "\n",
    "# Pressure\n",
    "data_set = FilterByPressure.apply(\n",
    "    data_set, FilterByPressureSchema(minimum_pressure=100.0, maximum_pressure=101.426)\n",
    ")\n",
    "\n",
    "# Solvent\n",
    "data_set = FilterBySmiles.apply(\n",
    "    data_set, FilterBySmilesSchema(smiles_to_include=[\"CCO\", \"CC(C)O\"])\n",
    ")\n",
    "\n",
    "print(len(data_set))"
   ]
  },
  {
   "cell_type": "code",
   "execution_count": 5,
   "metadata": {},
   "outputs": [
    {
     "data": {
      "text/html": [
       "<div>\n",
       "<style scoped>\n",
       "    .dataframe tbody tr th:only-of-type {\n",
       "        vertical-align: middle;\n",
       "    }\n",
       "\n",
       "    .dataframe tbody tr th {\n",
       "        vertical-align: top;\n",
       "    }\n",
       "\n",
       "    .dataframe thead th {\n",
       "        text-align: right;\n",
       "    }\n",
       "</style>\n",
       "<table border=\"1\" class=\"dataframe\">\n",
       "  <thead>\n",
       "    <tr style=\"text-align: right;\">\n",
       "      <th></th>\n",
       "      <th>Temperature (K)</th>\n",
       "      <th>Pressure (kPa)</th>\n",
       "      <th>Component 1</th>\n",
       "      <th>Density Value (g / ml)</th>\n",
       "      <th>Source</th>\n",
       "    </tr>\n",
       "  </thead>\n",
       "  <tbody>\n",
       "    <tr>\n",
       "      <th>0</th>\n",
       "      <td>298.15</td>\n",
       "      <td>101.325</td>\n",
       "      <td>CC(C)O</td>\n",
       "      <td>0.78270</td>\n",
       "      <td>10.1016/j.fluid.2013.10.034</td>\n",
       "    </tr>\n",
       "    <tr>\n",
       "      <th>1</th>\n",
       "      <td>298.15</td>\n",
       "      <td>101.325</td>\n",
       "      <td>CCO</td>\n",
       "      <td>0.78507</td>\n",
       "      <td>10.1021/je1013476</td>\n",
       "    </tr>\n",
       "    <tr>\n",
       "      <th>2</th>\n",
       "      <td>303.15</td>\n",
       "      <td>101.325</td>\n",
       "      <td>CCO</td>\n",
       "      <td>0.78072</td>\n",
       "      <td>10.1021/je1013476</td>\n",
       "    </tr>\n",
       "    <tr>\n",
       "      <th>3</th>\n",
       "      <td>313.15</td>\n",
       "      <td>101.325</td>\n",
       "      <td>CCO</td>\n",
       "      <td>0.77197</td>\n",
       "      <td>10.1021/je1013476</td>\n",
       "    </tr>\n",
       "  </tbody>\n",
       "</table>\n",
       "</div>"
      ],
      "text/plain": [
       "   Temperature (K)  Pressure (kPa) Component 1  Density Value (g / ml)  \\\n",
       "0           298.15         101.325      CC(C)O                 0.78270   \n",
       "1           298.15         101.325         CCO                 0.78507   \n",
       "2           303.15         101.325         CCO                 0.78072   \n",
       "3           313.15         101.325         CCO                 0.77197   \n",
       "\n",
       "                        Source  \n",
       "0  10.1016/j.fluid.2013.10.034  \n",
       "1            10.1021/je1013476  \n",
       "2            10.1021/je1013476  \n",
       "3            10.1021/je1013476  "
      ]
     },
     "execution_count": 5,
     "metadata": {},
     "output_type": "execute_result"
    }
   ],
   "source": [
    "pandas_data_set = data_set.to_pandas()\n",
    "pandas_data_set[\n",
    "    [\n",
    "        \"Temperature (K)\",\n",
    "        \"Pressure (kPa)\",\n",
    "        \"Component 1\",\n",
    "        \"Density Value (g / ml)\",\n",
    "        \"Source\",\n",
    "    ]\n",
    "].head()"
   ]
  },
  {
   "cell_type": "markdown",
   "metadata": {},
   "source": [
    "## Adding Extra Data"
   ]
  },
  {
   "cell_type": "markdown",
   "metadata": {},
   "source": [
    "### Defining new properties"
   ]
  },
  {
   "cell_type": "code",
   "execution_count": 6,
   "metadata": {},
   "outputs": [],
   "source": [
    "from openff.evaluator.datasets import MeasurementSource, PropertyPhase\n",
    "from openff.evaluator.substances import Substance\n",
    "from openff.evaluator.thermodynamics import ThermodynamicState\n",
    "from openff.evaluator.properties import EnthalpyOfVaporization\n",
    "\n",
    "from openff.units import unit\n",
    "\n",
    "# define thermo state\n",
    "thermodynamic_state = ThermodynamicState(\n",
    "    temperature=298.15 * unit.kelvin, pressure=1.0 * unit.atmosphere\n",
    ")\n",
    "\n",
    "# define compounds \n",
    "ethanol = Substance.from_components(\"CCO\")\n",
    "isopropanol = Substance.from_components(\"CC(C)O\")\n",
    "\n",
    "# define source of measurements\n",
    "source = MeasurementSource(doi=\"10.1016/S0021-9614(71)80108-8\")\n",
    "\n",
    "# define measurement values\n",
    "ethanol_hvap = EnthalpyOfVaporization(\n",
    "    thermodynamic_state=thermodynamic_state,\n",
    "    phase=PropertyPhase.Liquid | PropertyPhase.Gas,\n",
    "    substance=ethanol,\n",
    "    value=42.26 * unit.kilojoule / unit.mole,\n",
    "    uncertainty=0.02 * unit.kilojoule / unit.mole,\n",
    "    source=source,\n",
    ")\n",
    "isopropanol_hvap = EnthalpyOfVaporization(\n",
    "    thermodynamic_state=thermodynamic_state,\n",
    "    phase=PropertyPhase.Liquid | PropertyPhase.Gas,\n",
    "    substance=isopropanol,\n",
    "    value=45.34 * unit.kilojoule / unit.mole,\n",
    "    uncertainty=0.02 * unit.kilojoule / unit.mole,\n",
    "    source=source,\n",
    ")\n",
    "data_set.add_properties(ethanol_hvap, isopropanol_hvap)"
   ]
  },
  {
   "cell_type": "markdown",
   "metadata": {},
   "source": [
    "### Inspecting and saving new properties"
   ]
  },
  {
   "cell_type": "code",
   "execution_count": 7,
   "metadata": {},
   "outputs": [
    {
     "data": {
      "text/html": [
       "<div>\n",
       "<style scoped>\n",
       "    .dataframe tbody tr th:only-of-type {\n",
       "        vertical-align: middle;\n",
       "    }\n",
       "\n",
       "    .dataframe tbody tr th {\n",
       "        vertical-align: top;\n",
       "    }\n",
       "\n",
       "    .dataframe thead th {\n",
       "        text-align: right;\n",
       "    }\n",
       "</style>\n",
       "<table border=\"1\" class=\"dataframe\">\n",
       "  <thead>\n",
       "    <tr style=\"text-align: right;\">\n",
       "      <th></th>\n",
       "      <th>Id</th>\n",
       "      <th>Temperature (K)</th>\n",
       "      <th>Pressure (kPa)</th>\n",
       "      <th>Phase</th>\n",
       "      <th>N Components</th>\n",
       "      <th>Component 1</th>\n",
       "      <th>Role 1</th>\n",
       "      <th>Mole Fraction 1</th>\n",
       "      <th>Exact Amount 1</th>\n",
       "      <th>EnthalpyOfVaporization Value (kJ / mol)</th>\n",
       "      <th>EnthalpyOfVaporization Uncertainty (kJ / mol)</th>\n",
       "      <th>Density Value (g / ml)</th>\n",
       "      <th>Density Uncertainty (g / ml)</th>\n",
       "      <th>Source</th>\n",
       "    </tr>\n",
       "  </thead>\n",
       "  <tbody>\n",
       "    <tr>\n",
       "      <th>0</th>\n",
       "      <td>01412c21add74ded9671fc4cce3c7ec4</td>\n",
       "      <td>298.15</td>\n",
       "      <td>101.325</td>\n",
       "      <td>Liquid</td>\n",
       "      <td>1</td>\n",
       "      <td>CC(C)O</td>\n",
       "      <td>Solvent</td>\n",
       "      <td>1.0</td>\n",
       "      <td>None</td>\n",
       "      <td>NaN</td>\n",
       "      <td>NaN</td>\n",
       "      <td>0.78270</td>\n",
       "      <td>0.000075</td>\n",
       "      <td>10.1016/j.fluid.2013.10.034</td>\n",
       "    </tr>\n",
       "    <tr>\n",
       "      <th>1</th>\n",
       "      <td>3b7ad8267a1344b4945e0b58dcf6df60</td>\n",
       "      <td>298.15</td>\n",
       "      <td>101.325</td>\n",
       "      <td>Liquid</td>\n",
       "      <td>1</td>\n",
       "      <td>CCO</td>\n",
       "      <td>Solvent</td>\n",
       "      <td>1.0</td>\n",
       "      <td>None</td>\n",
       "      <td>NaN</td>\n",
       "      <td>NaN</td>\n",
       "      <td>0.78507</td>\n",
       "      <td>0.000060</td>\n",
       "      <td>10.1021/je1013476</td>\n",
       "    </tr>\n",
       "    <tr>\n",
       "      <th>2</th>\n",
       "      <td>9efa7efc89894f168035ff524268c53c</td>\n",
       "      <td>303.15</td>\n",
       "      <td>101.325</td>\n",
       "      <td>Liquid</td>\n",
       "      <td>1</td>\n",
       "      <td>CCO</td>\n",
       "      <td>Solvent</td>\n",
       "      <td>1.0</td>\n",
       "      <td>None</td>\n",
       "      <td>NaN</td>\n",
       "      <td>NaN</td>\n",
       "      <td>0.78072</td>\n",
       "      <td>0.000060</td>\n",
       "      <td>10.1021/je1013476</td>\n",
       "    </tr>\n",
       "    <tr>\n",
       "      <th>3</th>\n",
       "      <td>ccb1bbf056364d30b5ce8d39e78c4941</td>\n",
       "      <td>313.15</td>\n",
       "      <td>101.325</td>\n",
       "      <td>Liquid</td>\n",
       "      <td>1</td>\n",
       "      <td>CCO</td>\n",
       "      <td>Solvent</td>\n",
       "      <td>1.0</td>\n",
       "      <td>None</td>\n",
       "      <td>NaN</td>\n",
       "      <td>NaN</td>\n",
       "      <td>0.77197</td>\n",
       "      <td>0.000065</td>\n",
       "      <td>10.1021/je1013476</td>\n",
       "    </tr>\n",
       "    <tr>\n",
       "      <th>4</th>\n",
       "      <td>d9c6b048ff2c43a4b518dabffb7ec2c2</td>\n",
       "      <td>298.15</td>\n",
       "      <td>101.325</td>\n",
       "      <td>Liquid + Gas</td>\n",
       "      <td>1</td>\n",
       "      <td>CCO</td>\n",
       "      <td>Solvent</td>\n",
       "      <td>1.0</td>\n",
       "      <td>None</td>\n",
       "      <td>42.26</td>\n",
       "      <td>0.02</td>\n",
       "      <td>NaN</td>\n",
       "      <td>NaN</td>\n",
       "      <td>10.1016/S0021-9614(71)80108-8</td>\n",
       "    </tr>\n",
       "    <tr>\n",
       "      <th>5</th>\n",
       "      <td>4ee0a14ccf194500bffefd9aa59bb052</td>\n",
       "      <td>298.15</td>\n",
       "      <td>101.325</td>\n",
       "      <td>Liquid + Gas</td>\n",
       "      <td>1</td>\n",
       "      <td>CC(C)O</td>\n",
       "      <td>Solvent</td>\n",
       "      <td>1.0</td>\n",
       "      <td>None</td>\n",
       "      <td>45.34</td>\n",
       "      <td>0.02</td>\n",
       "      <td>NaN</td>\n",
       "      <td>NaN</td>\n",
       "      <td>10.1016/S0021-9614(71)80108-8</td>\n",
       "    </tr>\n",
       "  </tbody>\n",
       "</table>\n",
       "</div>"
      ],
      "text/plain": [
       "                                 Id  Temperature (K)  Pressure (kPa)  \\\n",
       "0  01412c21add74ded9671fc4cce3c7ec4           298.15         101.325   \n",
       "1  3b7ad8267a1344b4945e0b58dcf6df60           298.15         101.325   \n",
       "2  9efa7efc89894f168035ff524268c53c           303.15         101.325   \n",
       "3  ccb1bbf056364d30b5ce8d39e78c4941           313.15         101.325   \n",
       "4  d9c6b048ff2c43a4b518dabffb7ec2c2           298.15         101.325   \n",
       "5  4ee0a14ccf194500bffefd9aa59bb052           298.15         101.325   \n",
       "\n",
       "          Phase  N Components Component 1   Role 1  Mole Fraction 1  \\\n",
       "0        Liquid             1      CC(C)O  Solvent              1.0   \n",
       "1        Liquid             1         CCO  Solvent              1.0   \n",
       "2        Liquid             1         CCO  Solvent              1.0   \n",
       "3        Liquid             1         CCO  Solvent              1.0   \n",
       "4  Liquid + Gas             1         CCO  Solvent              1.0   \n",
       "5  Liquid + Gas             1      CC(C)O  Solvent              1.0   \n",
       "\n",
       "  Exact Amount 1  EnthalpyOfVaporization Value (kJ / mol)  \\\n",
       "0           None                                      NaN   \n",
       "1           None                                      NaN   \n",
       "2           None                                      NaN   \n",
       "3           None                                      NaN   \n",
       "4           None                                    42.26   \n",
       "5           None                                    45.34   \n",
       "\n",
       "   EnthalpyOfVaporization Uncertainty (kJ / mol)  Density Value (g / ml)  \\\n",
       "0                                            NaN                 0.78270   \n",
       "1                                            NaN                 0.78507   \n",
       "2                                            NaN                 0.78072   \n",
       "3                                            NaN                 0.77197   \n",
       "4                                           0.02                     NaN   \n",
       "5                                           0.02                     NaN   \n",
       "\n",
       "   Density Uncertainty (g / ml)                         Source  \n",
       "0                      0.000075    10.1016/j.fluid.2013.10.034  \n",
       "1                      0.000060              10.1021/je1013476  \n",
       "2                      0.000060              10.1021/je1013476  \n",
       "3                      0.000065              10.1021/je1013476  \n",
       "4                           NaN  10.1016/S0021-9614(71)80108-8  \n",
       "5                           NaN  10.1016/S0021-9614(71)80108-8  "
      ]
     },
     "execution_count": 7,
     "metadata": {},
     "output_type": "execute_result"
    }
   ],
   "source": [
    "# save for future use\n",
    "data_set_path = Path('filtered_data_set.json')\n",
    "data_set.json(data_set_path, format=True)\n",
    "\n",
    "# inspect new properties\n",
    "pandas_data_set = data_set.to_pandas()\n",
    "pandas_data_set"
   ]
  },
  {
   "cell_type": "markdown",
   "metadata": {},
   "source": [
    "# 2) Estimating Data Sets"
   ]
  },
  {
   "cell_type": "markdown",
   "metadata": {},
   "source": [
    "## Loading data set and FF parameters"
   ]
  },
  {
   "cell_type": "code",
   "execution_count": 8,
   "metadata": {},
   "outputs": [],
   "source": [
    "from openff.evaluator.datasets import PhysicalPropertyDataSet\n",
    "from openff.evaluator.forcefield import SmirnoffForceFieldSource\n",
    "\n",
    "# load data\n",
    "data_set_path = Path('filtered_data_set.json')\n",
    "data_set = PhysicalPropertyDataSet.from_json(data_set_path)\n",
    "\n",
    "# load FF\n",
    "force_field_path = \"openff-1.0.0.offxml\"\n",
    "force_field_source = SmirnoffForceFieldSource.from_path(force_field_path)"
   ]
  },
  {
   "cell_type": "markdown",
   "metadata": {},
   "source": [
    "## Defining Calculation Schemas"
   ]
  },
  {
   "cell_type": "code",
   "execution_count": 9,
   "metadata": {},
   "outputs": [],
   "source": [
    "from openff.evaluator.properties import Density, EnthalpyOfVaporization\n",
    "from openff.evaluator.client import RequestOptions\n",
    "\n",
    "density_schema = Density.default_simulation_schema(n_molecules=256)\n",
    "h_vap_schema = EnthalpyOfVaporization.default_simulation_schema(n_molecules=256)\n",
    "\n",
    "# Create an options object which defines how the data set should be estimated.\n",
    "estimation_options = RequestOptions()\n",
    "\n",
    "# Specify that we only wish to use molecular simulation to estimate the data set.\n",
    "estimation_options.calculation_layers = [\"SimulationLayer\"]\n",
    "\n",
    "# Add our custom schemas, specifying that the should be used by the 'SimulationLayer'\n",
    "estimation_options.add_schema(\"SimulationLayer\", \"Density\", density_schema)\n",
    "estimation_options.add_schema(\"SimulationLayer\", \"EnthalpyOfVaporization\", h_vap_schema)"
   ]
  },
  {
   "cell_type": "markdown",
   "metadata": {},
   "source": [
    "## Launching a Server and Client"
   ]
  },
  {
   "cell_type": "code",
   "execution_count": 36,
   "metadata": {},
   "outputs": [
    {
     "data": {
      "text/plain": [
       "{'date': '2024-02-23T19:11:48+0100',\n",
       " 'dirty': False,\n",
       " 'error': None,\n",
       " 'full-revisionid': '9bdb381f9e05d3b66b0a6500754f2df033d204db',\n",
       " 'version': '2024.2.1'}"
      ]
     },
     "execution_count": 36,
     "metadata": {},
     "output_type": "execute_result"
    }
   ],
   "source": [
    "from dask.distributed import get_versions\n",
    "from openff.evaluator.backends import ComputeResources\n",
    "from openff.evaluator.backends.dask import DaskLocalCluster\n",
    "from openff.evaluator.server import EvaluatorServer\n",
    "from openff.evaluator.client import EvaluatorClient\n",
    "from openff.evaluator.client import ConnectionOptions\n",
    "\n",
    "port = 8117\n",
    "evaluator_client = EvaluatorClient(ConnectionOptions(server_port=port))\n",
    "dict(get_versions())"
   ]
  },
  {
   "cell_type": "code",
   "execution_count": 32,
   "metadata": {},
   "outputs": [
    {
     "name": "stderr",
     "output_type": "stream",
     "text": [
      "INFO:distributed.scheduler:State start\n"
     ]
    },
    {
     "name": "stderr",
     "output_type": "stream",
     "text": [
      "INFO:distributed.scheduler:  Scheduler at: inproc://172.21.16.71/342382/26\n",
      "INFO:distributed.scheduler:  dashboard at:  http://172.21.16.71:8787/status\n",
      "INFO:distributed.scheduler:Registering Worker plugin shuffle\n",
      "INFO:distributed.worker:      Start worker at: inproc://172.21.16.71/342382/29\n",
      "INFO:distributed.worker:         Listening to:         inproc172.21.16.71\n",
      "INFO:distributed.worker:          Worker name:                          0\n",
      "INFO:distributed.worker:         dashboard at:         172.21.16.71:43581\n",
      "INFO:distributed.worker:Waiting to connect to: inproc://172.21.16.71/342382/26\n",
      "INFO:distributed.worker:-------------------------------------------------\n",
      "INFO:distributed.worker:              Threads:                          1\n",
      "INFO:distributed.worker:               Memory:                  31.00 GiB\n",
      "INFO:distributed.worker:      Local Directory: /tmp/dask-scratch-space/worker-2tr8bzex\n",
      "INFO:distributed.worker:-------------------------------------------------\n",
      "INFO:distributed.scheduler:Register worker <WorkerState 'inproc://172.21.16.71/342382/29', name: 0, status: init, memory: 0, processing: 0>\n",
      "INFO:distributed.scheduler:Starting worker compute stream, inproc://172.21.16.71/342382/29\n",
      "INFO:distributed.core:Starting established connection to inproc://172.21.16.71/342382/30\n",
      "INFO:distributed.worker:Starting Worker plugin shuffle\n",
      "INFO:distributed.worker:        Registered to: inproc://172.21.16.71/342382/26\n",
      "INFO:distributed.worker:-------------------------------------------------\n",
      "INFO:distributed.core:Starting established connection to inproc://172.21.16.71/342382/26\n",
      "INFO:distributed.scheduler:Receive client connection: Client-9f1d193b-38aa-11ef-b96e-a4bb6da12f27\n",
      "INFO:distributed.core:Starting established connection to inproc://172.21.16.71/342382/31\n",
      "Warning: Cannot perform Hydrogen sampling with GPU-Omega: GPU-Omega disabled.\n",
      "Warning: Cannot perform Hydrogen sampling with GPU-Omega: GPU-Omega disabled.\n",
      "Warning: Cannot perform Hydrogen sampling with GPU-Omega: GPU-Omega disabled.\n",
      "Warning: Cannot perform Hydrogen sampling with GPU-Omega: GPU-Omega disabled.\n",
      "Warning: Cannot perform Hydrogen sampling with GPU-Omega: GPU-Omega disabled.\n",
      "Warning: Cannot perform Hydrogen sampling with GPU-Omega: GPU-Omega disabled.\n",
      "Warning: Cannot perform Hydrogen sampling with GPU-Omega: GPU-Omega disabled.\n",
      "Warning: Cannot perform Hydrogen sampling with GPU-Omega: GPU-Omega disabled.\n",
      "INFO:distributed.scheduler:Remove client Client-9f1d193b-38aa-11ef-b96e-a4bb6da12f27\n",
      "INFO:distributed.core:Received 'close-stream' from inproc://172.21.16.71/342382/31; closing.\n",
      "INFO:distributed.scheduler:Remove client Client-9f1d193b-38aa-11ef-b96e-a4bb6da12f27\n",
      "INFO:distributed.scheduler:Close client connection: Client-9f1d193b-38aa-11ef-b96e-a4bb6da12f27\n",
      "INFO:distributed.worker:Stopping worker at inproc://172.21.16.71/342382/29. Reason: worker-close\n",
      "INFO:distributed.core:Received 'close-stream' from inproc://172.21.16.71/342382/30; closing.\n",
      "INFO:distributed.scheduler:Remove worker <WorkerState 'inproc://172.21.16.71/342382/29', name: 0, status: closing, memory: 0, processing: 0> (stimulus_id='handle-worker-cleanup-1719949154.1827154')\n",
      "INFO:distributed.scheduler:Lost all workers\n",
      "INFO:distributed.core:Connection to inproc://172.21.16.71/342382/26 has been closed.\n",
      "INFO:distributed.scheduler:Scheduler closing due to unknown reason...\n",
      "INFO:distributed.scheduler:Scheduler closing all comms\n"
     ]
    }
   ],
   "source": [
    "from openff.evaluator.backends import ComputeResources\n",
    "from openff.evaluator.backends.dask import DaskLocalCluster\n",
    "from openff.evaluator.server import EvaluatorServer\n",
    "from openff.evaluator.client import EvaluatorClient\n",
    "from openff.evaluator.client import ConnectionOptions\n",
    "\n",
    "# define client to submit queries\n",
    "port = 8116\n",
    "evaluator_client = EvaluatorClient(ConnectionOptions(server_port=port))\n",
    "\n",
    "# define available / preferred resources\n",
    "os.environ[\"CUDA_VISIBLE_DEVICES\"] = \"0\"\n",
    "resources = ComputeResources(\n",
    "    number_of_threads=1,\n",
    "    number_of_gpus=1,\n",
    "    preferred_gpu_toolkit=ComputeResources.GPUToolkit.CUDA,\n",
    ")\n",
    "\n",
    "with DaskLocalCluster(number_of_workers=1, resources_per_worker=resources) as calculation_backend:\n",
    "    # spin up server\n",
    "    evaluator_server = EvaluatorServer(calculation_backend=calculation_backend, delete_working_files=False, port=port)\n",
    "    evaluator_server.start(asynchronous=True)\n",
    "\n",
    "    # estimate data set by submitting calculation schemas to newly-created server\n",
    "    request, exception = evaluator_client.request_estimate(\n",
    "        property_set=data_set,\n",
    "        force_field_source=force_field_source,\n",
    "        options=estimation_options,\n",
    "    )\n",
    "\n",
    "    # Wait for the results.\n",
    "    results, exception = request.results(synchronous=True, polling_interval=30)\n",
    "    assert exception is None"
   ]
  },
  {
   "cell_type": "code",
   "execution_count": 11,
   "metadata": {},
   "outputs": [],
   "source": [
    "a = results.estimated_properties.json(\"estimated_data_set.json\", format=True)"
   ]
  },
  {
   "cell_type": "code",
   "execution_count": 12,
   "metadata": {},
   "outputs": [
    {
     "name": "stdout",
     "output_type": "stream",
     "text": [
      "{\n",
      "  \"@type\": \"openff.evaluator.datasets.datasets.PhysicalPropertyDataSet\",\n",
      "  \"properties\": []\n",
      "}\n"
     ]
    }
   ],
   "source": [
    "print(a)"
   ]
  },
  {
   "cell_type": "code",
   "execution_count": null,
   "metadata": {},
   "outputs": [],
   "source": []
  }
 ],
 "metadata": {
  "kernelspec": {
   "display_name": "Python 3",
   "language": "python",
   "name": "python3"
  },
  "language_info": {
   "codemirror_mode": {
    "name": "ipython",
    "version": 3
   },
   "file_extension": ".py",
   "mimetype": "text/x-python",
   "name": "python",
   "nbconvert_exporter": "python",
   "pygments_lexer": "ipython3",
   "version": "3.10.14"
  },
  "orig_nbformat": 4
 },
 "nbformat": 4,
 "nbformat_minor": 2
}
