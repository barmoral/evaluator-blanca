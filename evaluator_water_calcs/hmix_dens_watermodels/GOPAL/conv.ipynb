{
 "cells": [
  {
   "cell_type": "code",
   "execution_count": 57,
   "metadata": {},
   "outputs": [],
   "source": [
    "import numpy as np \n",
    "\n",
    "import pandas as pd\n",
    "\n",
    "import os\n",
    "from pathlib import Path\n",
    "\n",
    "from openmm.unit import Quantity, Unit\n",
    "from openmm.unit import kelvin, bar, litre, kilojoule_per_mole, mole, nanometer, angstrom, kilocalorie_per_mole\n",
    "from openmm.unit import AVOGADRO_CONSTANT_NA, BOLTZMANN_CONSTANT_kB\n",
    "R = BOLTZMANN_CONSTANT_kB * AVOGADRO_CONSTANT_NA # gas constant"
   ]
  },
  {
   "cell_type": "markdown",
   "metadata": {},
   "source": [
    "## OPC to GOPAL"
   ]
  },
  {
   "cell_type": "code",
   "execution_count": 58,
   "metadata": {},
   "outputs": [
    {
     "data": {
      "text/html": [
       "<div>\n",
       "<style scoped>\n",
       "    .dataframe tbody tr th:only-of-type {\n",
       "        vertical-align: middle;\n",
       "    }\n",
       "\n",
       "    .dataframe tbody tr th {\n",
       "        vertical-align: top;\n",
       "    }\n",
       "\n",
       "    .dataframe thead th {\n",
       "        text-align: right;\n",
       "    }\n",
       "</style>\n",
       "<table border=\"1\" class=\"dataframe\">\n",
       "  <thead>\n",
       "    <tr style=\"text-align: right;\">\n",
       "      <th></th>\n",
       "      <th>Water</th>\n",
       "      <th>OH</th>\n",
       "      <th>HH</th>\n",
       "      <th>HOH</th>\n",
       "      <th>OM</th>\n",
       "      <th>Charge O</th>\n",
       "      <th>Charge H</th>\n",
       "      <th>c6</th>\n",
       "      <th>c12</th>\n",
       "      <th>Sigma</th>\n",
       "      <th>...</th>\n",
       "      <th>Unnamed: 11</th>\n",
       "      <th>Unnamed: 12</th>\n",
       "      <th>Unnamed: 13</th>\n",
       "      <th>sinthetaby2</th>\n",
       "      <th>costhetaby2</th>\n",
       "      <th>theta from costhetaby2</th>\n",
       "      <th>Unnamed: 17</th>\n",
       "      <th>Unnamed: 18</th>\n",
       "      <th>Unnamed: 19</th>\n",
       "      <th>Unnamed: 20</th>\n",
       "    </tr>\n",
       "  </thead>\n",
       "  <tbody>\n",
       "    <tr>\n",
       "      <th>0</th>\n",
       "      <td>FF</td>\n",
       "      <td>nm</td>\n",
       "      <td>nm</td>\n",
       "      <td>Deg</td>\n",
       "      <td>nm</td>\n",
       "      <td>e</td>\n",
       "      <td>e</td>\n",
       "      <td>kJ/mol-nm3</td>\n",
       "      <td>kJ/mol-nm6</td>\n",
       "      <td>nm</td>\n",
       "      <td>...</td>\n",
       "      <td>NaN</td>\n",
       "      <td>NaN</td>\n",
       "      <td>NaN</td>\n",
       "      <td>NaN</td>\n",
       "      <td>NaN</td>\n",
       "      <td>NaN</td>\n",
       "      <td>NaN</td>\n",
       "      <td>NaN</td>\n",
       "      <td>NaN</td>\n",
       "      <td>NaN</td>\n",
       "    </tr>\n",
       "    <tr>\n",
       "      <th>9</th>\n",
       "      <td>OPC</td>\n",
       "      <td>0.0872400000</td>\n",
       "      <td>0.13711631100</td>\n",
       "      <td>103.60000</td>\n",
       "      <td>0.015940000</td>\n",
       "      <td>-1.3582000000</td>\n",
       "      <td>0.6791000000</td>\n",
       "      <td>0.0035905056</td>\n",
       "      <td>3.620052370E-06</td>\n",
       "      <td>0.31666</td>\n",
       "      <td>...</td>\n",
       "      <td>0.14772952080</td>\n",
       "      <td>0.14772952080</td>\n",
       "      <td>NaN</td>\n",
       "      <td>0.79</td>\n",
       "      <td>0.62</td>\n",
       "      <td>103.6000</td>\n",
       "      <td>0.00E+00</td>\n",
       "      <td>NaN</td>\n",
       "      <td>NaN</td>\n",
       "      <td>NaN</td>\n",
       "    </tr>\n",
       "    <tr>\n",
       "      <th>13</th>\n",
       "      <td>GOPAL</td>\n",
       "      <td>0.0894642608</td>\n",
       "      <td>0.14166163700</td>\n",
       "      <td>104.69344</td>\n",
       "      <td>0.015192861</td>\n",
       "      <td>-1.2676837700</td>\n",
       "      <td>0.6338418850</td>\n",
       "      <td>0.0032850341</td>\n",
       "      <td>3.288916150E-06</td>\n",
       "      <td>0.31629</td>\n",
       "      <td>...</td>\n",
       "      <td>0.13899619534</td>\n",
       "      <td>0.13899619534</td>\n",
       "      <td>NaN</td>\n",
       "      <td>0.79</td>\n",
       "      <td>0.61</td>\n",
       "      <td>104.6934</td>\n",
       "      <td>0.00E+00</td>\n",
       "      <td>NaN</td>\n",
       "      <td>NaN</td>\n",
       "      <td>NaN</td>\n",
       "    </tr>\n",
       "  </tbody>\n",
       "</table>\n",
       "<p>3 rows × 21 columns</p>\n",
       "</div>"
      ],
      "text/plain": [
       "    Water            OH             HH        HOH           OM       Charge O  \\\n",
       "0      FF            nm             nm        Deg           nm              e   \n",
       "9     OPC  0.0872400000  0.13711631100  103.60000  0.015940000  -1.3582000000   \n",
       "13  GOPAL  0.0894642608  0.14166163700  104.69344  0.015192861  -1.2676837700   \n",
       "\n",
       "        Charge H            c6              c12   Sigma   ...    Unnamed: 11  \\\n",
       "0              e    kJ/mol-nm3       kJ/mol-nm6       nm  ...            NaN   \n",
       "9   0.6791000000  0.0035905056  3.620052370E-06  0.31666  ...  0.14772952080   \n",
       "13  0.6338418850  0.0032850341  3.288916150E-06  0.31629  ...  0.13899619534   \n",
       "\n",
       "      Unnamed: 12 Unnamed: 13  sinthetaby2  costhetaby2  \\\n",
       "0             NaN         NaN          NaN          NaN   \n",
       "9   0.14772952080         NaN         0.79         0.62   \n",
       "13  0.13899619534         NaN         0.79         0.61   \n",
       "\n",
       "    theta from costhetaby2  Unnamed: 17 Unnamed: 18  Unnamed: 19  Unnamed: 20  \n",
       "0                      NaN          NaN         NaN          NaN          NaN  \n",
       "9                 103.6000     0.00E+00         NaN          NaN          NaN  \n",
       "13                104.6934     0.00E+00         NaN          NaN          NaN  \n",
       "\n",
       "[3 rows x 21 columns]"
      ]
     },
     "execution_count": 58,
     "metadata": {},
     "output_type": "execute_result"
    }
   ],
   "source": [
    "df = pd.read_csv('Force_field_parameters.csv')\n",
    "df.iloc[[0,9,13],:]"
   ]
  },
  {
   "cell_type": "code",
   "execution_count": 59,
   "metadata": {},
   "outputs": [],
   "source": [
    "red_df=df.iloc[[9,13],:].copy()"
   ]
  },
  {
   "cell_type": "code",
   "execution_count": 69,
   "metadata": {},
   "outputs": [],
   "source": [
    "def conversion(column, current_unit, wanted_unit):\n",
    "    series=red_df[column]\n",
    "    lst=series.to_list()\n",
    "    values=[float(x) for x in lst]\n",
    "    values_init=values*current_unit\n",
    "    values_final=values_init.in_units_of(wanted_unit)\n",
    "    print('Initial values:',values_init)\n",
    "    print('Final values', values_final)\n",
    "    results={}\n",
    "    results['OPC_initial']=values_init[0]\n",
    "    results['GOPAL_initial']=values_init[1]\n",
    "    results['OPC_final']=values_final[0]\n",
    "    results['GOPAL_final']=values_final[1]\n",
    "\n",
    "    return results"
   ]
  },
  {
   "cell_type": "code",
   "execution_count": 70,
   "metadata": {},
   "outputs": [
    {
     "name": "stdout",
     "output_type": "stream",
     "text": [
      "Initial values: [0.08724, 0.0894642608] nm\n",
      "Final values [0.8724, 0.8946426080000001] A\n"
     ]
    },
    {
     "data": {
      "text/plain": [
       "{'OPC_initial': Quantity(value=0.08724, unit=nanometer),\n",
       " 'GOPAL_initial': Quantity(value=0.0894642608, unit=nanometer),\n",
       " 'OPC_final': Quantity(value=0.8724, unit=angstrom),\n",
       " 'GOPAL_final': Quantity(value=0.8946426080000001, unit=angstrom)}"
      ]
     },
     "execution_count": 70,
     "metadata": {},
     "output_type": "execute_result"
    }
   ],
   "source": [
    "conversion('OH',nanometer,angstrom)"
   ]
  },
  {
   "cell_type": "code",
   "execution_count": 71,
   "metadata": {},
   "outputs": [
    {
     "name": "stdout",
     "output_type": "stream",
     "text": [
      "Initial values: [0.137116311, 0.141661637] nm\n",
      "Final values [1.37116311, 1.41661637] A\n"
     ]
    },
    {
     "data": {
      "text/plain": [
       "{'OPC_initial': Quantity(value=0.137116311, unit=nanometer),\n",
       " 'GOPAL_initial': Quantity(value=0.141661637, unit=nanometer),\n",
       " 'OPC_final': Quantity(value=1.37116311, unit=angstrom),\n",
       " 'GOPAL_final': Quantity(value=1.41661637, unit=angstrom)}"
      ]
     },
     "execution_count": 71,
     "metadata": {},
     "output_type": "execute_result"
    }
   ],
   "source": [
    "conversion('HH', nanometer,angstrom)"
   ]
  },
  {
   "cell_type": "code",
   "execution_count": 72,
   "metadata": {},
   "outputs": [
    {
     "name": "stdout",
     "output_type": "stream",
     "text": [
      "Initial values: [0.01594, 0.015192861] nm\n",
      "Final values [0.1594, 0.15192861] A\n"
     ]
    },
    {
     "data": {
      "text/plain": [
       "{'OPC_initial': Quantity(value=0.01594, unit=nanometer),\n",
       " 'GOPAL_initial': Quantity(value=0.015192861, unit=nanometer),\n",
       " 'OPC_final': Quantity(value=0.1594, unit=angstrom),\n",
       " 'GOPAL_final': Quantity(value=0.15192861, unit=angstrom)}"
      ]
     },
     "execution_count": 72,
     "metadata": {},
     "output_type": "execute_result"
    }
   ],
   "source": [
    "conversion('OM', nanometer,angstrom)"
   ]
  },
  {
   "cell_type": "code",
   "execution_count": 73,
   "metadata": {},
   "outputs": [
    {
     "name": "stdout",
     "output_type": "stream",
     "text": [
      "Initial values: [0.0035905056, 0.0032850341] kJ/(nm**3 mol)\n",
      "Final values [8.581514340344169e-07, 7.851419933078394e-07] kcal/(A**3 mol)\n"
     ]
    },
    {
     "data": {
      "text/plain": [
       "{'OPC_initial': Quantity(value=0.0035905056, unit=kilojoule/(nanometer**3*mole)),\n",
       " 'GOPAL_initial': Quantity(value=0.0032850341, unit=kilojoule/(nanometer**3*mole)),\n",
       " 'OPC_final': Quantity(value=8.581514340344169e-07, unit=kilocalorie/(angstrom**3*mole)),\n",
       " 'GOPAL_final': Quantity(value=7.851419933078394e-07, unit=kilocalorie/(angstrom**3*mole))}"
      ]
     },
     "execution_count": 73,
     "metadata": {},
     "output_type": "execute_result"
    }
   ],
   "source": [
    "conversion('c6', (kilojoule_per_mole/nanometer**3),(kilocalorie_per_mole/angstrom**3))"
   ]
  },
  {
   "cell_type": "code",
   "execution_count": 74,
   "metadata": {},
   "outputs": [
    {
     "name": "stdout",
     "output_type": "stream",
     "text": [
      "Initial values: [3.62005237e-06, 3.28891615e-06] kJ/(nm**6 mol)\n",
      "Final values [8.652132815487571e-13, 7.860698255258125e-13] kcal/(A**6 mol)\n"
     ]
    },
    {
     "data": {
      "text/plain": [
       "{'OPC_initial': Quantity(value=3.62005237e-06, unit=kilojoule/(nanometer**6*mole)),\n",
       " 'GOPAL_initial': Quantity(value=3.28891615e-06, unit=kilojoule/(nanometer**6*mole)),\n",
       " 'OPC_final': Quantity(value=8.652132815487571e-13, unit=kilocalorie/(angstrom**6*mole)),\n",
       " 'GOPAL_final': Quantity(value=7.860698255258125e-13, unit=kilocalorie/(angstrom**6*mole))}"
      ]
     },
     "execution_count": 74,
     "metadata": {},
     "output_type": "execute_result"
    }
   ],
   "source": [
    "conversion('c12', (kilojoule_per_mole/nanometer**6),(kilocalorie_per_mole/angstrom**6))"
   ]
  },
  {
   "cell_type": "code",
   "execution_count": 76,
   "metadata": {},
   "outputs": [
    {
     "name": "stdout",
     "output_type": "stream",
     "text": [
      "Initial values: [0.31666, 0.31629] nm\n",
      "Final values [3.1666, 3.1629] A\n"
     ]
    }
   ],
   "source": [
    "sigma=conversion('Sigma ', nanometer,angstrom)"
   ]
  },
  {
   "cell_type": "code",
   "execution_count": 95,
   "metadata": {},
   "outputs": [],
   "source": [
    "def sigma2rmin(sigma:Quantity)-> Quantity:\n",
    "    #rmin2=rmin2.in_units_of(angstrom)\n",
    "    rmin=sigma*(2**(1/6))\n",
    "    rmin_half=rmin/2\n",
    "    print('Sigma=',sigma)\n",
    "    print('Rmin=',rmin)\n",
    "    print('Rmin_half=',rmin_half)\n",
    "    return rmin, rmin_half\n"
   ]
  },
  {
   "cell_type": "code",
   "execution_count": 96,
   "metadata": {},
   "outputs": [
    {
     "name": "stdout",
     "output_type": "stream",
     "text": [
      "Sigma= 3.1666 A\n",
      "Rmin= 3.5543883221764605 A\n",
      "Rmin_half= 1.7771941610882303 A\n"
     ]
    }
   ],
   "source": [
    "rmin_opc=sigma2rmin(sigma['OPC_final'])"
   ]
  },
  {
   "cell_type": "code",
   "execution_count": 97,
   "metadata": {},
   "outputs": [
    {
     "name": "stdout",
     "output_type": "stream",
     "text": [
      "Sigma= 3.1629 A\n",
      "Rmin= 3.550235212597716 A\n",
      "Rmin_half= 1.775117606298858 A\n"
     ]
    }
   ],
   "source": [
    "rmin_gopal=sigma2rmin(sigma['GOPAL_final'])"
   ]
  },
  {
   "cell_type": "code",
   "execution_count": 98,
   "metadata": {},
   "outputs": [
    {
     "data": {
      "text/plain": [
       "Quantity(value=1.775117606298858, unit=angstrom)"
      ]
     },
     "execution_count": 98,
     "metadata": {},
     "output_type": "execute_result"
    }
   ],
   "source": [
    "rmin_gopal[1]"
   ]
  },
  {
   "cell_type": "code",
   "execution_count": 99,
   "metadata": {},
   "outputs": [
    {
     "name": "stdout",
     "output_type": "stream",
     "text": [
      "Initial values: [0.8903, 0.82029] kJ/mol\n",
      "Final values [0.21278680688336518, 0.1960540152963671] kcal/mol\n"
     ]
    },
    {
     "data": {
      "text/plain": [
       "{'OPC_initial': Quantity(value=0.8903, unit=kilojoule/mole),\n",
       " 'GOPAL_initial': Quantity(value=0.82029, unit=kilojoule/mole),\n",
       " 'OPC_final': Quantity(value=0.21278680688336518, unit=kilocalorie/mole),\n",
       " 'GOPAL_final': Quantity(value=0.1960540152963671, unit=kilocalorie/mole)}"
      ]
     },
     "execution_count": 99,
     "metadata": {},
     "output_type": "execute_result"
    }
   ],
   "source": [
    "conversion('Epsilon', kilojoule_per_mole, kilocalorie_per_mole)"
   ]
  },
  {
   "cell_type": "code",
   "execution_count": null,
   "metadata": {},
   "outputs": [],
   "source": [
    "from openff.toolkit.typing.engines.smirnoff import forcefield, ForceField\n",
    "from openff.evaluator.forcefield import SmirnoffForceFieldSource\n",
    "\n",
    "# forcefield.get_available_force_fields()"
   ]
  },
  {
   "cell_type": "code",
   "execution_count": null,
   "metadata": {},
   "outputs": [],
   "source": [
    "ff_path = ForceField(\"opc.offxml\")"
   ]
  },
  {
   "cell_type": "code",
   "execution_count": null,
   "metadata": {},
   "outputs": [],
   "source": [
    "# from openff.toolkit import Topology\n",
    "\n",
    "# gopal_top = Topology.__init__(['GOPAL.top'])"
   ]
  },
  {
   "cell_type": "code",
   "execution_count": null,
   "metadata": {},
   "outputs": [],
   "source": [
    "ff_path.reg"
   ]
  },
  {
   "cell_type": "code",
   "execution_count": null,
   "metadata": {},
   "outputs": [],
   "source": []
  }
 ],
 "metadata": {
  "kernelspec": {
   "display_name": "evaluator-blanca",
   "language": "python",
   "name": "python3"
  },
  "language_info": {
   "codemirror_mode": {
    "name": "ipython",
    "version": 3
   },
   "file_extension": ".py",
   "mimetype": "text/x-python",
   "name": "python",
   "nbconvert_exporter": "python",
   "pygments_lexer": "ipython3",
   "version": "3.10.13"
  }
 },
 "nbformat": 4,
 "nbformat_minor": 2
}
