{
 "cells": [
  {
   "cell_type": "markdown",
   "metadata": {},
   "source": [
    "# Core Imports and Setup"
   ]
  },
  {
   "cell_type": "code",
   "execution_count": 1,
   "metadata": {},
   "outputs": [],
   "source": [
    "import os\n",
    "from pathlib import Path\n",
    "\n",
    "import warnings\n",
    "warnings.filterwarnings(\"ignore\")\n",
    "\n",
    "import logging\n",
    "logging.getLogger(\"openff.toolkit\").setLevel(logging.ERROR)\n",
    "\n",
    "from openff import toolkit, evaluator"
   ]
  },
  {
   "cell_type": "code",
   "execution_count": 2,
   "metadata": {},
   "outputs": [],
   "source": [
    "import logging\n",
    "from collections import defaultdict\n",
    "from enum import Enum\n",
    "from os import path\n",
    "\n",
    "import numpy as np\n",
    "from openff.units import unit\n",
    "from openmm import app\n",
    "\n",
    "from openff.evaluator.forcefield import SmirnoffForceFieldSource\n",
    "from openff.evaluator.attributes import UNDEFINED\n",
    "from openff.evaluator.substances import Component, ExactAmount, MoleFraction, Substance\n",
    "from openff.evaluator.utils import packmol\n",
    "from openff.evaluator.workflow import Protocol, workflow_protocol\n",
    "from openff.evaluator.workflow.attributes import InputAttribute, OutputAttribute\n",
    "from openff.evaluator.protocols import coordinates, forcefield\n",
    "from openff.evaluator.workflow import utils\n",
    "from openff.evaluator.workflow import Workflow"
   ]
  },
  {
   "cell_type": "markdown",
   "metadata": {},
   "source": [
    "# Step 1: generating force field"
   ]
  },
  {
   "cell_type": "code",
   "execution_count": 3,
   "metadata": {},
   "outputs": [],
   "source": [
    "from openff.toolkit.typing.engines.smirnoff import ForceField\n",
    "from openff.evaluator.forcefield import SmirnoffForceFieldSource\n",
    "\n",
    "# Evaluator wants to work with a JSON file for the force field\n",
    "force_field = ForceField(\"openff-1.0.0.offxml\")\n",
    "with open(\"force-field.json\", \"w\") as file:\n",
    "    file.write(SmirnoffForceFieldSource.from_object(force_field).json())"
   ]
  },
  {
   "cell_type": "markdown",
   "metadata": {},
   "source": [
    "# Option 1: generating default metadata\n",
    "\n",
    "This pathway generates default metadata from an already-defined physical property."
   ]
  },
  {
   "cell_type": "code",
   "execution_count": 4,
   "metadata": {},
   "outputs": [],
   "source": [
    "from openff.units import unit\n",
    "from openff.evaluator import properties\n",
    "from openff.evaluator.datasets.thermoml import thermoml_property\n",
    "from openff.evaluator.datasets import PhysicalProperty, PropertyPhase\n",
    "from openff.evaluator.properties import Density, EnthalpyOfMixing\n",
    "from openff.evaluator.client import RequestOptions\n",
    "from openff.evaluator.thermodynamics import ThermodynamicState\n",
    "\n",
    "# create substance from multiple components\n",
    "substance = Substance()\n",
    "substance.add_component(Component(smiles='O'), MoleFraction(0.2))\n",
    "substance.add_component(Component(smiles='CO'), MoleFraction(0.8))\n",
    "\n",
    "# create enthalpy of mixing property target\n",
    "thermodynamic_state = ThermodynamicState(\n",
    "    temperature=298 * unit.kelvin,\n",
    "    pressure=1 * unit.atmosphere\n",
    ")\n",
    "physical_property = EnthalpyOfMixing(\n",
    "    thermodynamic_state=thermodynamic_state,\n",
    "    phase=PropertyPhase.Liquid,\n",
    "    substance=substance,\n",
    "    value=10.0 * unit.kilojoules_per_mole,\n",
    "    uncertainty=1.0 * unit.kilojoules_per_mole,\n",
    ")\n",
    "\n",
    "# create default metadata\n",
    "metadata = Workflow.generate_default_metadata(\n",
    "    physical_property,\n",
    "    \"force-field.json\"\n",
    ")"
   ]
  },
  {
   "cell_type": "markdown",
   "metadata": {},
   "source": [
    "# Option 2: manually generating metadata without pre-defined values"
   ]
  },
  {
   "cell_type": "code",
   "execution_count": 5,
   "metadata": {},
   "outputs": [],
   "source": [
    "components = [\n",
    "    Substance.from_components(\"CO\"),\n",
    "    Substance.from_components(\"O\"),\n",
    "]\n",
    "\n",
    "metadata = {\n",
    "    \"substance\": substance,  # from cell defined above\n",
    "    \"components\": components,\n",
    "    \"thermodynamic_state\": thermodynamic_state,  # from cell defined above\n",
    "    \"force_field_path\": \"force-field.json\",\n",
    "    \"parameter_gradient_keys\": []\n",
    "}"
   ]
  },
  {
   "cell_type": "markdown",
   "metadata": {},
   "source": [
    "# Creating workflow from schema and executing"
   ]
  },
  {
   "cell_type": "code",
   "execution_count": 6,
   "metadata": {},
   "outputs": [],
   "source": [
    "h_mix_schema = EnthalpyOfMixing.default_simulation_schema()\n",
    "workflow_schema = h_mix_schema.workflow_schema\n",
    "\n",
    "# replace default system building with SMIRNOFF type for a smirnoff force field\n",
    "# (can also have tleap, ligpargen)\n",
    "workflow_schema.replace_protocol_types(\n",
    "    {\"BaseBuildSystem\": \"BuildSmirnoffSystem\"}\n",
    ")\n",
    "\n",
    "# quickly hacking and re-setting steps to finish fast\n",
    "# don't do this in production!\n",
    "for schema in workflow_schema.protocol_schemas:\n",
    "    # equilibration_simulation is a Protocol\n",
    "    if \"simulation\" in schema.id:\n",
    "        schema.inputs[\".steps_per_iteration\"] = 10\n",
    "        schema.inputs[\".output_frequency\"] = 10\n",
    "    # conditional_group is a group of protocols\n",
    "    if \"conditional\" in schema.id:\n",
    "        for protocol_name, protocol in schema.protocol_schemas.items():\n",
    "            if \"simulation\" in protocol_name:\n",
    "                protocol.inputs[\".steps_per_iteration\"] = 10\n",
    "                protocol.inputs[\".output_frequency\"] = 10\n",
    "\n",
    "workflow = Workflow.from_schema(workflow_schema, metadata=metadata)"
   ]
  },
  {
   "cell_type": "code",
   "execution_count": 7,
   "metadata": {},
   "outputs": [
    {
     "data": {
      "text/plain": [
       "{'.allow_merging': True,\n",
       " '.steps_per_iteration': 10,\n",
       " '.total_number_of_iterations': 1,\n",
       " '.output_frequency': 10,\n",
       " '.checkpoint_frequency': 10,\n",
       " '.timestep': 2.0 <Unit('femtosecond')>,\n",
       " '.thermodynamic_state': <ProtocolPath full_path=global.thermodynamic_state>,\n",
       " '.ensemble': <Ensemble.NPT: 'NPT'>,\n",
       " '.thermostat_friction': 1.0 <Unit('1 / picosecond')>,\n",
       " '.input_coordinate_file': <ProtocolPath full_path=energy_minimisation_mixture.output_coordinate_file>,\n",
       " '.parameterized_system': <ProtocolPath full_path=assign_parameters_mixture.parameterized_system>,\n",
       " '.enable_pbc': True,\n",
       " '.allow_gpu_platforms': True,\n",
       " '.high_precision': False,\n",
       " '.gradient_parameters': []}"
      ]
     },
     "execution_count": 7,
     "metadata": {},
     "output_type": "execute_result"
    }
   ],
   "source": [
    "workflow_schema.protocol_schemas[-8].inputs"
   ]
  },
  {
   "cell_type": "markdown",
   "metadata": {},
   "source": [
    "# Executing workflow"
   ]
  },
  {
   "cell_type": "code",
   "execution_count": 8,
   "metadata": {},
   "outputs": [
    {
     "name": "stderr",
     "output_type": "stream",
     "text": [
      "Warning: Cannot perform Hydrogen sampling with GPU-Omega: GPU-Omega disabled.\n"
     ]
    }
   ],
   "source": [
    "result = workflow.execute()"
   ]
  },
  {
   "cell_type": "code",
   "execution_count": 9,
   "metadata": {},
   "outputs": [
    {
     "data": {
      "text/html": [
       "(-0.1443301750476746 &plusmn; 0.0000000000000008) kilojoule/mole"
      ],
      "text/latex": [
       "$\\left(-0.1443301750476746 \\pm 0.0000000000000008\\right)\\ \\frac{\\mathrm{kilojoule}}{\\mathrm{mole}}$"
      ],
      "text/plain": [
       "<Measurement(-0.14433017504767465, 8.379058453350834e-16, kilojoule / mole)>"
      ]
     },
     "execution_count": 9,
     "metadata": {},
     "output_type": "execute_result"
    }
   ],
   "source": [
    "result.value"
   ]
  }
 ],
 "metadata": {
  "kernelspec": {
   "display_name": "evaluator-blanca",
   "language": "python",
   "name": "python3"
  },
  "language_info": {
   "codemirror_mode": {
    "name": "ipython",
    "version": 3
   },
   "file_extension": ".py",
   "mimetype": "text/x-python",
   "name": "python",
   "nbconvert_exporter": "python",
   "pygments_lexer": "ipython3",
   "version": "3.10.14"
  }
 },
 "nbformat": 4,
 "nbformat_minor": 4
}
