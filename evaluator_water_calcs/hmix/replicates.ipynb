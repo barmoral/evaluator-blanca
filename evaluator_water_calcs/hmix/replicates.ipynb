{
 "cells": [
  {
   "cell_type": "code",
   "execution_count": 1,
   "metadata": {},
   "outputs": [],
   "source": [
    "import numpy as np"
   ]
  },
  {
   "cell_type": "code",
   "execution_count": 4,
   "metadata": {},
   "outputs": [],
   "source": [
    "hmix_500_vals=np.array([-1.535,-1.465,-1.501,-1.103,-1.503])\n",
    "hmix_500_errs=np.array([ 0.091,0.101,  0.110, 0.117,0.077])\n",
    "hmix_1000_vals=np.array([-1.113,-1.471,-1.335,-0.957,-1.599])\n",
    "hmix_1000_errs=np.array([0.056,0.061,0.081,0.171,0.064])"
   ]
  },
  {
   "cell_type": "code",
   "execution_count": 6,
   "metadata": {},
   "outputs": [],
   "source": [
    "std_500=hmix_500_vals.std(ddof=1)\n",
    "std_1000=hmix_1000_vals.std(ddof=1)"
   ]
  },
  {
   "cell_type": "code",
   "execution_count": 7,
   "metadata": {},
   "outputs": [],
   "source": [
    "mean_500=hmix_500_vals.mean()\n",
    "mean_1000=hmix_1000_vals.mean()"
   ]
  },
  {
   "cell_type": "code",
   "execution_count": 8,
   "metadata": {},
   "outputs": [],
   "source": [
    "err_500=std_500/np.sqrt(len(hmix_500_vals))\n",
    "err_1000=std_1000/np.sqrt(len(hmix_1000_vals))"
   ]
  },
  {
   "cell_type": "code",
   "execution_count": 9,
   "metadata": {},
   "outputs": [
    {
     "name": "stdout",
     "output_type": "stream",
     "text": [
      "Hmix 500: -1.421 +/- 0.080\n",
      "Hmix 1000: -1.295 +/- 0.117\n"
     ]
    }
   ],
   "source": [
    "print(f'Hmix 500: {mean_500:.3f} +/- {err_500:.3f}')\n",
    "print(f'Hmix 1000: {mean_1000:.3f} +/- {err_1000:.3f}')"
   ]
  },
  {
   "cell_type": "code",
   "execution_count": null,
   "metadata": {},
   "outputs": [],
   "source": []
  }
 ],
 "metadata": {
  "kernelspec": {
   "display_name": "calculus",
   "language": "python",
   "name": "python3"
  },
  "language_info": {
   "codemirror_mode": {
    "name": "ipython",
    "version": 3
   },
   "file_extension": ".py",
   "mimetype": "text/x-python",
   "name": "python",
   "nbconvert_exporter": "python",
   "pygments_lexer": "ipython3",
   "version": "3.10.13"
  }
 },
 "nbformat": 4,
 "nbformat_minor": 2
}
