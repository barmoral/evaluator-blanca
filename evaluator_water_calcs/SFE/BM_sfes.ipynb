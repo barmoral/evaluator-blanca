{
 "cells": [
  {
   "cell_type": "markdown",
   "metadata": {},
   "source": [
    "# Core Imports and Setup"
   ]
  },
  {
   "cell_type": "code",
   "execution_count": 1,
   "metadata": {},
   "outputs": [],
   "source": [
    "import os\n",
    "from pathlib import Path\n",
    "\n",
    "import warnings\n",
    "warnings.filterwarnings(\"ignore\")\n",
    "\n",
    "import logging\n",
    "logging.getLogger(\"openff.toolkit\").setLevel(logging.ERROR)\n",
    "\n",
    "import pint\n",
    "from pint import measurement\n",
    "from openff import evaluator, toolkit\n",
    "\n",
    "# from openff.units import unit"
   ]
  },
  {
   "cell_type": "markdown",
   "metadata": {},
   "source": [
    "# 1) - Loading ThermoML Data Sets"
   ]
  },
  {
   "cell_type": "markdown",
   "metadata": {},
   "source": [
    "## Extracting data from ThermoML"
   ]
  },
  {
   "cell_type": "code",
   "execution_count": 2,
   "metadata": {},
   "outputs": [
    {
     "data": {
      "text/html": [
       "<div>\n",
       "<style scoped>\n",
       "    .dataframe tbody tr th:only-of-type {\n",
       "        vertical-align: middle;\n",
       "    }\n",
       "\n",
       "    .dataframe tbody tr th {\n",
       "        vertical-align: top;\n",
       "    }\n",
       "\n",
       "    .dataframe thead th {\n",
       "        text-align: right;\n",
       "    }\n",
       "</style>\n",
       "<table border=\"1\" class=\"dataframe\">\n",
       "  <thead>\n",
       "    <tr style=\"text-align: right;\">\n",
       "      <th></th>\n",
       "      <th>Id</th>\n",
       "      <th>Temperature (K)</th>\n",
       "      <th>Pressure (kPa)</th>\n",
       "      <th>Phase</th>\n",
       "      <th>N Components</th>\n",
       "      <th>Component 1</th>\n",
       "      <th>Role 1</th>\n",
       "      <th>Mole Fraction 1</th>\n",
       "      <th>Exact Amount 1</th>\n",
       "      <th>Component 2</th>\n",
       "      <th>Role 2</th>\n",
       "      <th>Mole Fraction 2</th>\n",
       "      <th>Exact Amount 2</th>\n",
       "      <th>SolvationFreeEnergy Value (kJ / mol)</th>\n",
       "      <th>SolvationFreeEnergy Uncertainty (kJ / mol)</th>\n",
       "      <th>Source</th>\n",
       "    </tr>\n",
       "  </thead>\n",
       "  <tbody>\n",
       "    <tr>\n",
       "      <th>0</th>\n",
       "      <td>265c7378309c4355aa01d60af70d3fca</td>\n",
       "      <td>298.15</td>\n",
       "      <td>101.325</td>\n",
       "      <td>Liquid</td>\n",
       "      <td>2</td>\n",
       "      <td>O</td>\n",
       "      <td>Solvent</td>\n",
       "      <td>1.0</td>\n",
       "      <td>None</td>\n",
       "      <td>CCCCCC(=O)OC</td>\n",
       "      <td>Solute</td>\n",
       "      <td>None</td>\n",
       "      <td>1</td>\n",
       "      <td>-10.41816</td>\n",
       "      <td>2.5104</td>\n",
       "      <td>10.1021/ct050097l</td>\n",
       "    </tr>\n",
       "    <tr>\n",
       "      <th>1</th>\n",
       "      <td>f89c43a7ef684aca89df924b29c487b1</td>\n",
       "      <td>298.15</td>\n",
       "      <td>101.325</td>\n",
       "      <td>Liquid</td>\n",
       "      <td>2</td>\n",
       "      <td>O</td>\n",
       "      <td>Solvent</td>\n",
       "      <td>1.0</td>\n",
       "      <td>None</td>\n",
       "      <td>CCCCO</td>\n",
       "      <td>Solute</td>\n",
       "      <td>None</td>\n",
       "      <td>1</td>\n",
       "      <td>-19.74848</td>\n",
       "      <td>2.5104</td>\n",
       "      <td>10.1021/ct050097l</td>\n",
       "    </tr>\n",
       "    <tr>\n",
       "      <th>2</th>\n",
       "      <td>198b886769694cc39828af5af498fd24</td>\n",
       "      <td>298.15</td>\n",
       "      <td>101.325</td>\n",
       "      <td>Liquid</td>\n",
       "      <td>2</td>\n",
       "      <td>O</td>\n",
       "      <td>Solvent</td>\n",
       "      <td>1.0</td>\n",
       "      <td>None</td>\n",
       "      <td>Clc1ccc(-c2cc(Cl)c(Cl)c(Cl)c2Cl)cc1Cl</td>\n",
       "      <td>Solute</td>\n",
       "      <td>None</td>\n",
       "      <td>1</td>\n",
       "      <td>-12.71936</td>\n",
       "      <td>0.4184</td>\n",
       "      <td>10.1007/s10822-012-9568-8</td>\n",
       "    </tr>\n",
       "    <tr>\n",
       "      <th>3</th>\n",
       "      <td>6cdf0d7abd354d8284ffe115d4c0ef33</td>\n",
       "      <td>298.15</td>\n",
       "      <td>101.325</td>\n",
       "      <td>Liquid</td>\n",
       "      <td>2</td>\n",
       "      <td>O</td>\n",
       "      <td>Solvent</td>\n",
       "      <td>1.0</td>\n",
       "      <td>None</td>\n",
       "      <td>NC1CCCCC1</td>\n",
       "      <td>Solute</td>\n",
       "      <td>None</td>\n",
       "      <td>1</td>\n",
       "      <td>-19.20456</td>\n",
       "      <td>2.5104</td>\n",
       "      <td>10.1021/ct050097l</td>\n",
       "    </tr>\n",
       "    <tr>\n",
       "      <th>4</th>\n",
       "      <td>e3e4778832a240eba754b5d4d010d21d</td>\n",
       "      <td>298.15</td>\n",
       "      <td>101.325</td>\n",
       "      <td>Liquid</td>\n",
       "      <td>2</td>\n",
       "      <td>O</td>\n",
       "      <td>Solvent</td>\n",
       "      <td>1.0</td>\n",
       "      <td>None</td>\n",
       "      <td>O=COc1ccccc1</td>\n",
       "      <td>Solute</td>\n",
       "      <td>None</td>\n",
       "      <td>1</td>\n",
       "      <td>-15.98288</td>\n",
       "      <td>2.5104</td>\n",
       "      <td>10.5281/zenodo.596537</td>\n",
       "    </tr>\n",
       "    <tr>\n",
       "      <th>...</th>\n",
       "      <td>...</td>\n",
       "      <td>...</td>\n",
       "      <td>...</td>\n",
       "      <td>...</td>\n",
       "      <td>...</td>\n",
       "      <td>...</td>\n",
       "      <td>...</td>\n",
       "      <td>...</td>\n",
       "      <td>...</td>\n",
       "      <td>...</td>\n",
       "      <td>...</td>\n",
       "      <td>...</td>\n",
       "      <td>...</td>\n",
       "      <td>...</td>\n",
       "      <td>...</td>\n",
       "      <td>...</td>\n",
       "    </tr>\n",
       "    <tr>\n",
       "      <th>637</th>\n",
       "      <td>0821476bf69143c4bd07f6e0d7f8e584</td>\n",
       "      <td>298.15</td>\n",
       "      <td>101.325</td>\n",
       "      <td>Liquid</td>\n",
       "      <td>2</td>\n",
       "      <td>O</td>\n",
       "      <td>Solvent</td>\n",
       "      <td>1.0</td>\n",
       "      <td>None</td>\n",
       "      <td>Cl/C=C/Cl</td>\n",
       "      <td>Solute</td>\n",
       "      <td>None</td>\n",
       "      <td>1</td>\n",
       "      <td>-3.26352</td>\n",
       "      <td>2.5104</td>\n",
       "      <td>10.1021/ct050097l</td>\n",
       "    </tr>\n",
       "    <tr>\n",
       "      <th>638</th>\n",
       "      <td>2e03601fd70142dd8092cc1eceb17b83</td>\n",
       "      <td>298.15</td>\n",
       "      <td>101.325</td>\n",
       "      <td>Liquid</td>\n",
       "      <td>2</td>\n",
       "      <td>O</td>\n",
       "      <td>Solvent</td>\n",
       "      <td>1.0</td>\n",
       "      <td>None</td>\n",
       "      <td>CCc1ccc(C)cc1</td>\n",
       "      <td>Solute</td>\n",
       "      <td>None</td>\n",
       "      <td>1</td>\n",
       "      <td>-3.97480</td>\n",
       "      <td>2.5104</td>\n",
       "      <td>10.1021/ct050097l</td>\n",
       "    </tr>\n",
       "    <tr>\n",
       "      <th>639</th>\n",
       "      <td>4ceca25966d64d3c88b9380829e7fa86</td>\n",
       "      <td>298.15</td>\n",
       "      <td>101.325</td>\n",
       "      <td>Liquid</td>\n",
       "      <td>2</td>\n",
       "      <td>O</td>\n",
       "      <td>Solvent</td>\n",
       "      <td>1.0</td>\n",
       "      <td>None</td>\n",
       "      <td>CCBr</td>\n",
       "      <td>Solute</td>\n",
       "      <td>None</td>\n",
       "      <td>1</td>\n",
       "      <td>-3.09616</td>\n",
       "      <td>2.5104</td>\n",
       "      <td>10.1021/ct050097l</td>\n",
       "    </tr>\n",
       "    <tr>\n",
       "      <th>640</th>\n",
       "      <td>bca16f5d94f54cf987903bcec2f9662b</td>\n",
       "      <td>298.15</td>\n",
       "      <td>101.325</td>\n",
       "      <td>Liquid</td>\n",
       "      <td>2</td>\n",
       "      <td>O</td>\n",
       "      <td>Solvent</td>\n",
       "      <td>1.0</td>\n",
       "      <td>None</td>\n",
       "      <td>CC(C)SC(C)C</td>\n",
       "      <td>Solute</td>\n",
       "      <td>None</td>\n",
       "      <td>1</td>\n",
       "      <td>-5.06264</td>\n",
       "      <td>2.5104</td>\n",
       "      <td>10.1021/ct050097l</td>\n",
       "    </tr>\n",
       "    <tr>\n",
       "      <th>641</th>\n",
       "      <td>48aae6d8e89b43d89380a28682d0a7f3</td>\n",
       "      <td>298.15</td>\n",
       "      <td>101.325</td>\n",
       "      <td>Liquid</td>\n",
       "      <td>2</td>\n",
       "      <td>O</td>\n",
       "      <td>Solvent</td>\n",
       "      <td>1.0</td>\n",
       "      <td>None</td>\n",
       "      <td>C[C@@H](O)C(F)(F)F</td>\n",
       "      <td>Solute</td>\n",
       "      <td>None</td>\n",
       "      <td>1</td>\n",
       "      <td>-17.57280</td>\n",
       "      <td>0.8368</td>\n",
       "      <td>10.1039/P29900000291</td>\n",
       "    </tr>\n",
       "  </tbody>\n",
       "</table>\n",
       "<p>642 rows × 16 columns</p>\n",
       "</div>"
      ],
      "text/plain": [
       "                                   Id  Temperature (K)  Pressure (kPa)  \\\n",
       "0    265c7378309c4355aa01d60af70d3fca           298.15         101.325   \n",
       "1    f89c43a7ef684aca89df924b29c487b1           298.15         101.325   \n",
       "2    198b886769694cc39828af5af498fd24           298.15         101.325   \n",
       "3    6cdf0d7abd354d8284ffe115d4c0ef33           298.15         101.325   \n",
       "4    e3e4778832a240eba754b5d4d010d21d           298.15         101.325   \n",
       "..                                ...              ...             ...   \n",
       "637  0821476bf69143c4bd07f6e0d7f8e584           298.15         101.325   \n",
       "638  2e03601fd70142dd8092cc1eceb17b83           298.15         101.325   \n",
       "639  4ceca25966d64d3c88b9380829e7fa86           298.15         101.325   \n",
       "640  bca16f5d94f54cf987903bcec2f9662b           298.15         101.325   \n",
       "641  48aae6d8e89b43d89380a28682d0a7f3           298.15         101.325   \n",
       "\n",
       "      Phase  N Components Component 1   Role 1  Mole Fraction 1  \\\n",
       "0    Liquid             2           O  Solvent              1.0   \n",
       "1    Liquid             2           O  Solvent              1.0   \n",
       "2    Liquid             2           O  Solvent              1.0   \n",
       "3    Liquid             2           O  Solvent              1.0   \n",
       "4    Liquid             2           O  Solvent              1.0   \n",
       "..      ...           ...         ...      ...              ...   \n",
       "637  Liquid             2           O  Solvent              1.0   \n",
       "638  Liquid             2           O  Solvent              1.0   \n",
       "639  Liquid             2           O  Solvent              1.0   \n",
       "640  Liquid             2           O  Solvent              1.0   \n",
       "641  Liquid             2           O  Solvent              1.0   \n",
       "\n",
       "    Exact Amount 1                            Component 2  Role 2  \\\n",
       "0             None                           CCCCCC(=O)OC  Solute   \n",
       "1             None                                  CCCCO  Solute   \n",
       "2             None  Clc1ccc(-c2cc(Cl)c(Cl)c(Cl)c2Cl)cc1Cl  Solute   \n",
       "3             None                              NC1CCCCC1  Solute   \n",
       "4             None                           O=COc1ccccc1  Solute   \n",
       "..             ...                                    ...     ...   \n",
       "637           None                              Cl/C=C/Cl  Solute   \n",
       "638           None                          CCc1ccc(C)cc1  Solute   \n",
       "639           None                                   CCBr  Solute   \n",
       "640           None                            CC(C)SC(C)C  Solute   \n",
       "641           None                     C[C@@H](O)C(F)(F)F  Solute   \n",
       "\n",
       "    Mole Fraction 2  Exact Amount 2  SolvationFreeEnergy Value (kJ / mol)  \\\n",
       "0              None               1                             -10.41816   \n",
       "1              None               1                             -19.74848   \n",
       "2              None               1                             -12.71936   \n",
       "3              None               1                             -19.20456   \n",
       "4              None               1                             -15.98288   \n",
       "..              ...             ...                                   ...   \n",
       "637            None               1                              -3.26352   \n",
       "638            None               1                              -3.97480   \n",
       "639            None               1                              -3.09616   \n",
       "640            None               1                              -5.06264   \n",
       "641            None               1                             -17.57280   \n",
       "\n",
       "     SolvationFreeEnergy Uncertainty (kJ / mol)                     Source  \n",
       "0                                        2.5104          10.1021/ct050097l  \n",
       "1                                        2.5104          10.1021/ct050097l  \n",
       "2                                        0.4184  10.1007/s10822-012-9568-8  \n",
       "3                                        2.5104          10.1021/ct050097l  \n",
       "4                                        2.5104      10.5281/zenodo.596537  \n",
       "..                                          ...                        ...  \n",
       "637                                      2.5104          10.1021/ct050097l  \n",
       "638                                      2.5104          10.1021/ct050097l  \n",
       "639                                      2.5104          10.1021/ct050097l  \n",
       "640                                      2.5104          10.1021/ct050097l  \n",
       "641                                      0.8368       10.1039/P29900000291  \n",
       "\n",
       "[642 rows x 16 columns]"
      ]
     },
     "execution_count": 2,
     "metadata": {},
     "output_type": "execute_result"
    }
   ],
   "source": [
    "from openff.evaluator.datasets import PhysicalProperty, PropertyPhase, PhysicalPropertyDataSet\n",
    "from openff.evaluator.datasets.thermoml import thermoml_property, ThermoMLDataSet\n",
    "\n",
    "data_set_initial = PhysicalPropertyDataSet.from_json(\"freesolv.json\")\n",
    "data_set_initial.to_pandas()"
   ]
  },
  {
   "cell_type": "code",
   "execution_count": 3,
   "metadata": {},
   "outputs": [
    {
     "name": "stdout",
     "output_type": "stream",
     "text": [
      "642\n",
      "{'SolvationFreeEnergy'}\n",
      "{<Substance Clc1cc(-c2c(Cl)cc(Cl)c(Cl)c2Cl)c(Cl)c(Cl)c1Cl{sol}{n=1}|O{solv}{x=1.000000}>, <Substance FC(F)(F)[C@H](Cl)Br{sol}{n=1}|O{solv}{x=1.000000}>, <Substance CCCC1CCCC1{sol}{n=1}|O{solv}{x=1.000000}>, <Substance CCC(C)(C)CC{sol}{n=1}|O{solv}{x=1.000000}>, <Substance FC(F)(F)CCl{sol}{n=1}|O{solv}{x=1.000000}>, <Substance Oc1ccccc1{sol}{n=1}|O{solv}{x=1.000000}>, <Substance CCC(=O)CC{sol}{n=1}|O{solv}{x=1.000000}>, <Substance CC(C)Cc1cnccn1{sol}{n=1}|O{solv}{x=1.000000}>, <Substance C=C{sol}{n=1}|O{solv}{x=1.000000}>, <Substance CC(C)COC(=O)C(C)C{sol}{n=1}|O{solv}{x=1.000000}>, <Substance CC(C)(C)C{sol}{n=1}|O{solv}{x=1.000000}>, <Substance CCc1cccnc1{sol}{n=1}|O{solv}{x=1.000000}>, <Substance CCOP(=S)(OCC)Oc1cc(C)nc(C(C)C)n1{sol}{n=1}|O{solv}{x=1.000000}>, <Substance Cc1cccc2ccccc12{sol}{n=1}|O{solv}{x=1.000000}>, <Substance CCOc1ccccc1{sol}{n=1}|O{solv}{x=1.000000}>, <Substance COc1ccccc1{sol}{n=1}|O{solv}{x=1.000000}>, <Substance Cc1ccnc(C)c1{sol}{n=1}|O{solv}{x=1.000000}>, <Substance CCCOC(=O)c1ccc(O)cc1{sol}{n=1}|O{solv}{x=1.000000}>, <Substance CC(C)[C@@H]1CC[C@@H](C)C[C@H]1O{sol}{n=1}|O{solv}{x=1.000000}>, <Substance CC[C@H](C)O[N+](=O)[O-]{sol}{n=1}|O{solv}{x=1.000000}>, <Substance CCCCCCCCBr{sol}{n=1}|O{solv}{x=1.000000}>, <Substance Clc1cccc(Cl)c1{sol}{n=1}|O{solv}{x=1.000000}>, <Substance CCOP(=S)(OCC)SCSc1ccc(Cl)cc1{sol}{n=1}|O{solv}{x=1.000000}>, <Substance Cc1ccc(Br)cc1{sol}{n=1}|O{solv}{x=1.000000}>, <Substance COc1cccc(O)c1{sol}{n=1}|O{solv}{x=1.000000}>, <Substance CCCCCCCCCC{sol}{n=1}|O{solv}{x=1.000000}>, <Substance CNC{sol}{n=1}|O{solv}{x=1.000000}>, <Substance Cc1ccc(C=O)cc1{sol}{n=1}|O{solv}{x=1.000000}>, <Substance CN(C)C{sol}{n=1}|O{solv}{x=1.000000}>, <Substance N#Cc1cccc(O)c1{sol}{n=1}|O{solv}{x=1.000000}>, <Substance O=[N+]([O-])c1c(Cl)c(Cl)c(Cl)c(Cl)c1Cl{sol}{n=1}|O{solv}{x=1.000000}>, <Substance Cc1ccccc1O{sol}{n=1}|O{solv}{x=1.000000}>, <Substance Clc1cc(Cl)cc(Cl)c1{sol}{n=1}|O{solv}{x=1.000000}>, <Substance BrCCBr{sol}{n=1}|O{solv}{x=1.000000}>, <Substance CC(C)Cc1ccc([C@H](C)C(=O)O)cc1{sol}{n=1}|O{solv}{x=1.000000}>, <Substance Cc1ccc(C)cc1{sol}{n=1}|O{solv}{x=1.000000}>, <Substance CN(C)c1ccccc1{sol}{n=1}|O{solv}{x=1.000000}>, <Substance ClC(Cl)(Cl)Cl{sol}{n=1}|O{solv}{x=1.000000}>, <Substance Nc1ccccc1{sol}{n=1}|O{solv}{x=1.000000}>, <Substance Cc1cccc(O)c1{sol}{n=1}|O{solv}{x=1.000000}>, <Substance Clc1ccccc1-c1ccccc1{sol}{n=1}|O{solv}{x=1.000000}>, <Substance O=C(O)c1cc(-c2ccc(F)cc2F)ccc1O{sol}{n=1}|O{solv}{x=1.000000}>, <Substance O{solv}{x=1.000000}|c1ccccc1{sol}{n=1}>, <Substance COC=O{sol}{n=1}|O{solv}{x=1.000000}>, <Substance CCCCCCCCCCO{sol}{n=1}|O{solv}{x=1.000000}>, <Substance N#Cc1ccccc1{sol}{n=1}|O{solv}{x=1.000000}>, <Substance CCCC[C@@H](C)CC{sol}{n=1}|O{solv}{x=1.000000}>, <Substance Nc1ccc2ccccc2c1{sol}{n=1}|O{solv}{x=1.000000}>, <Substance O=C1CCCC1{sol}{n=1}|O{solv}{x=1.000000}>, <Substance CC(C)C(C)C(C)C{sol}{n=1}|O{solv}{x=1.000000}>, <Substance CCNCC{sol}{n=1}|O{solv}{x=1.000000}>, <Substance CC(=O)c1ccc(C)cc1{sol}{n=1}|O{solv}{x=1.000000}>, <Substance C/C=C/C=O{sol}{n=1}|O{solv}{x=1.000000}>, <Substance CCN(CC)c1c([N+](=O)[O-])cc(C(F)(F)F)c(N)c1[N+](=O)[O-]{sol}{n=1}|O{solv}{x=1.000000}>, <Substance CN(C)CCOC(c1ccccc1)c1ccccc1{sol}{n=1}|O{solv}{x=1.000000}>, <Substance CCNc1nc(Cl)nc(NCC)n1{sol}{n=1}|O{solv}{x=1.000000}>, <Substance Brc1ccccc1{sol}{n=1}|O{solv}{x=1.000000}>, <Substance CC(C)[N+](=O)[O-]{sol}{n=1}|O{solv}{x=1.000000}>, <Substance O=C1CCCCC1{sol}{n=1}|O{solv}{x=1.000000}>, <Substance CCCCCc1ccccc1{sol}{n=1}|O{solv}{x=1.000000}>, <Substance C1CCNC1{sol}{n=1}|O{solv}{x=1.000000}>, <Substance Clc1ccc2c(c1)Oc1cc(Cl)c(Cl)c(Cl)c1O2{sol}{n=1}|O{solv}{x=1.000000}>, <Substance CC(=O)CO[N+](=O)[O-]{sol}{n=1}|O{solv}{x=1.000000}>, <Substance CC[C@@H](O)C(C)C{sol}{n=1}|O{solv}{x=1.000000}>, <Substance CCCCC(=O)O{sol}{n=1}|O{solv}{x=1.000000}>, <Substance CC(C)OC=O{sol}{n=1}|O{solv}{x=1.000000}>, <Substance CN(CC(F)(F)F)c1ccccc1{sol}{n=1}|O{solv}{x=1.000000}>, <Substance CC(=O)C(C)C{sol}{n=1}|O{solv}{x=1.000000}>, <Substance CBr{sol}{n=1}|O{solv}{x=1.000000}>, <Substance O{solv}{x=1.000000}|c1cc[nH]c1{sol}{n=1}>, <Substance COc1ccccc1OC{sol}{n=1}|O{solv}{x=1.000000}>, <Substance O=[N+]([O-])c1ccc(O)cc1{sol}{n=1}|O{solv}{x=1.000000}>, <Substance CCC{sol}{n=1}|O{solv}{x=1.000000}>, <Substance C1CCNCC1{sol}{n=1}|O{solv}{x=1.000000}>, <Substance C=C(C)[C@@H]1CC=C(C=O)CC1{sol}{n=1}|O{solv}{x=1.000000}>, <Substance CCCCNCCCC{sol}{n=1}|O{solv}{x=1.000000}>, <Substance C[C@@H]1CCCC[C@@H]1C{sol}{n=1}|O{solv}{x=1.000000}>, <Substance COc1c(Cl)cc(Cl)c(OC)c1O{sol}{n=1}|O{solv}{x=1.000000}>, <Substance COC(C)=O{sol}{n=1}|O{solv}{x=1.000000}>, <Substance Clc1ccc(Cl)cc1{sol}{n=1}|O{solv}{x=1.000000}>, <Substance CCCCCCCBr{sol}{n=1}|O{solv}{x=1.000000}>, <Substance CCCNCCC{sol}{n=1}|O{solv}{x=1.000000}>, <Substance C=C(C)[C@@H]1CC=C(C)[C@@H](O)C1{sol}{n=1}|O{solv}{x=1.000000}>, <Substance Cc1cc(C)cc(C)c1{sol}{n=1}|O{solv}{x=1.000000}>, <Substance ClCCOCCCl{sol}{n=1}|O{solv}{x=1.000000}>, <Substance C1CNCCN1{sol}{n=1}|O{solv}{x=1.000000}>, <Substance CC(C)C{sol}{n=1}|O{solv}{x=1.000000}>, <Substance CN1CCNCC1{sol}{n=1}|O{solv}{x=1.000000}>, <Substance CCCCCCCCN{sol}{n=1}|O{solv}{x=1.000000}>, <Substance O{solv}{x=1.000000}|c1ccc2c(c1)Oc1ccccc1O2{sol}{n=1}>, <Substance CCNc1nc(NC(C)C)nc(SC)n1{sol}{n=1}|O{solv}{x=1.000000}>, <Substance O=[N+]([O-])C(Cl)(Cl)Cl{sol}{n=1}|O{solv}{x=1.000000}>, <Substance CC(C)(C)c1ccc(O)cc1{sol}{n=1}|O{solv}{x=1.000000}>, <Substance CC=C(C)C{sol}{n=1}|O{solv}{x=1.000000}>, <Substance COc1ccc(C(C)=O)cc1{sol}{n=1}|O{solv}{x=1.000000}>, <Substance CCC(O)CC{sol}{n=1}|O{solv}{x=1.000000}>, <Substance CC(=O)Oc1ccccc1C(=O)O{sol}{n=1}|O{solv}{x=1.000000}>, <Substance O=[N+]([O-])OCCO[N+](=O)[O-]{sol}{n=1}|O{solv}{x=1.000000}>, <Substance Clc1ccc(-c2cc(Cl)c(Cl)c(Cl)c2Cl)c(Cl)c1Cl{sol}{n=1}|O{solv}{x=1.000000}>, <Substance OC1CCCCCC1{sol}{n=1}|O{solv}{x=1.000000}>, <Substance CO{sol}{n=1}|O{solv}{x=1.000000}>, <Substance C=C(C)C(=C)C{sol}{n=1}|O{solv}{x=1.000000}>, <Substance Brc1ccc(Br)cc1{sol}{n=1}|O{solv}{x=1.000000}>, <Substance CC(C)C=O{sol}{n=1}|O{solv}{x=1.000000}>, <Substance CC(=O)O{sol}{n=1}|O{solv}{x=1.000000}>, <Substance CCCCO{sol}{n=1}|O{solv}{x=1.000000}>, <Substance CCCCC(C)=O{sol}{n=1}|O{solv}{x=1.000000}>, <Substance Cc1ccccc1C=O{sol}{n=1}|O{solv}{x=1.000000}>, <Substance CC(N)=O{sol}{n=1}|O{solv}{x=1.000000}>, <Substance Clc1cccc(Cl)c1Cl{sol}{n=1}|O{solv}{x=1.000000}>, <Substance CNC(C)=O{sol}{n=1}|O{solv}{x=1.000000}>, <Substance Cc1cccc(C)c1C{sol}{n=1}|O{solv}{x=1.000000}>, <Substance COc1cccc(N)c1{sol}{n=1}|O{solv}{x=1.000000}>, <Substance Oc1cccc(Cl)c1{sol}{n=1}|O{solv}{x=1.000000}>, <Substance Cc1cccc([N+](=O)[O-])c1{sol}{n=1}|O{solv}{x=1.000000}>, <Substance N#Cc1ccncc1{sol}{n=1}|O{solv}{x=1.000000}>, <Substance Cc1cccc(C)n1{sol}{n=1}|O{solv}{x=1.000000}>, <Substance COc1cc(C=O)c(Cl)c(OC)c1O{sol}{n=1}|O{solv}{x=1.000000}>, <Substance C=C(C)[C@@H]1CC[C@@H](C)C(=O)C1{sol}{n=1}|O{solv}{x=1.000000}>, <Substance Cc1[nH]c(=O)n(C(C)(C)C)c(=O)c1Cl{sol}{n=1}|O{solv}{x=1.000000}>, <Substance C#CCCCCC{sol}{n=1}|O{solv}{x=1.000000}>, <Substance CCCN{sol}{n=1}|O{solv}{x=1.000000}>, <Substance CCOC(=O)CC{sol}{n=1}|O{solv}{x=1.000000}>, <Substance CCCN(CC1CC1)c1c([N+](=O)[O-])cc(C(F)(F)F)cc1[N+](=O)[O-]{sol}{n=1}|O{solv}{x=1.000000}>, <Substance Oc1ccccc1F{sol}{n=1}|O{solv}{x=1.000000}>, <Substance CC(=O)C1CCCCC1{sol}{n=1}|O{solv}{x=1.000000}>, <Substance Clc1cc(Cl)c(-c2ccccc2)c(Cl)c1{sol}{n=1}|O{solv}{x=1.000000}>, <Substance C[C@H](C(=O)O)c1cccc(C(=O)c2ccccc2)c1{sol}{n=1}|O{solv}{x=1.000000}>, <Substance COCC(OC)(OC)OC{sol}{n=1}|O{solv}{x=1.000000}>, <Substance CCOC(=O)c1ccc(O)cc1{sol}{n=1}|O{solv}{x=1.000000}>, <Substance CC[C@@H](C)c1cc([N+](=O)[O-])cc([N+](=O)[O-])c1O{sol}{n=1}|O{solv}{x=1.000000}>, <Substance ClCC(Cl)(Cl)Cl{sol}{n=1}|O{solv}{x=1.000000}>, <Substance CCOP(=S)(OCC)Oc1nc(Cl)c(Cl)cc1Cl{sol}{n=1}|O{solv}{x=1.000000}>, <Substance CSc1ccccc1{sol}{n=1}|O{solv}{x=1.000000}>, <Substance CCc1ccncc1{sol}{n=1}|O{solv}{x=1.000000}>, <Substance COCOC{sol}{n=1}|O{solv}{x=1.000000}>, <Substance CCOC(OCC)Oc1ccccc1{sol}{n=1}|O{solv}{x=1.000000}>, <Substance OCCCc1ccccc1{sol}{n=1}|O{solv}{x=1.000000}>, <Substance CCCN(CCC)c1c([N+](=O)[O-])cc(S(C)(=O)=O)cc1[N+](=O)[O-]{sol}{n=1}|O{solv}{x=1.000000}>, <Substance OCc1ccccc1{sol}{n=1}|O{solv}{x=1.000000}>, <Substance CCc1ccc(O)cc1{sol}{n=1}|O{solv}{x=1.000000}>, <Substance C=CCCCCC{sol}{n=1}|O{solv}{x=1.000000}>, <Substance CCCCCC(=O)OCC{sol}{n=1}|O{solv}{x=1.000000}>, <Substance CCCCCCC{sol}{n=1}|O{solv}{x=1.000000}>, <Substance ClCCCl{sol}{n=1}|O{solv}{x=1.000000}>, <Substance ClCCCCCl{sol}{n=1}|O{solv}{x=1.000000}>, <Substance CC(=O)OC(C)OC(C)=O{sol}{n=1}|O{solv}{x=1.000000}>, <Substance OCCc1ccccc1{sol}{n=1}|O{solv}{x=1.000000}>, <Substance COc1ccccc1N{sol}{n=1}|O{solv}{x=1.000000}>, <Substance OC[C@H]1O[C@@H](O)[C@H](O)[C@@H](O)[C@@H]1O{sol}{n=1}|O{solv}{x=1.000000}>, <Substance C{sol}{n=1}|O{solv}{x=1.000000}>, <Substance C#CC{sol}{n=1}|O{solv}{x=1.000000}>, <Substance CCCN(CCC)c1c([N+](=O)[O-])cc(C(F)(F)F)cc1[N+](=O)[O-]{sol}{n=1}|O{solv}{x=1.000000}>, <Substance O=c1[nH]cc(Br)c(=O)[nH]1{sol}{n=1}|O{solv}{x=1.000000}>, <Substance CCC/C=C/C=O{sol}{n=1}|O{solv}{x=1.000000}>, <Substance Clc1ccc(-c2cc(Cl)c(Cl)c(Cl)c2Cl)cc1Cl{sol}{n=1}|O{solv}{x=1.000000}>, <Substance Cc1ccncc1{sol}{n=1}|O{solv}{x=1.000000}>, <Substance CC(C)CC(C)(C)C{sol}{n=1}|O{solv}{x=1.000000}>, <Substance CC1=CC(=O)CC(C)(C)C1{sol}{n=1}|O{solv}{x=1.000000}>, <Substance CCc1cccc(O)c1{sol}{n=1}|O{solv}{x=1.000000}>, <Substance Clc1ccc(Cl)c(-c2ccccc2)c1{sol}{n=1}|O{solv}{x=1.000000}>, <Substance Cc1ccc(O)c(C)c1{sol}{n=1}|O{solv}{x=1.000000}>, <Substance Cc1cccc(C)c1{sol}{n=1}|O{solv}{x=1.000000}>, <Substance C#CCCC{sol}{n=1}|O{solv}{x=1.000000}>, <Substance Clc1cc(Cl)c(Cl)c(Cl)c1{sol}{n=1}|O{solv}{x=1.000000}>, <Substance C=CC{sol}{n=1}|O{solv}{x=1.000000}>, <Substance COC(=O)c1ccc(OC)cc1{sol}{n=1}|O{solv}{x=1.000000}>, <Substance CCCCC/C=C/C=O{sol}{n=1}|O{solv}{x=1.000000}>, <Substance CCC(=O)O{sol}{n=1}|O{solv}{x=1.000000}>, <Substance CCC[C@H](C)CC{sol}{n=1}|O{solv}{x=1.000000}>, <Substance CCI{sol}{n=1}|O{solv}{x=1.000000}>, <Substance CI{sol}{n=1}|O{solv}{x=1.000000}>, <Substance Cc1ccc(C)c(C)c1{sol}{n=1}|O{solv}{x=1.000000}>, <Substance CCOC(=O)CCC(=O)OCC{sol}{n=1}|O{solv}{x=1.000000}>, <Substance CCOP(=S)(OCC)SCSP(=S)(OCC)OCC{sol}{n=1}|O{solv}{x=1.000000}>, <Substance Nc1ccc(N)c2c1C(=O)c1ccccc1C2=O{sol}{n=1}|O{solv}{x=1.000000}>, <Substance Cc1cccnc1{sol}{n=1}|O{solv}{x=1.000000}>, <Substance C=CC(=C)C{sol}{n=1}|O{solv}{x=1.000000}>, <Substance Clc1cc2c(cc1Cl)Oc1c(Cl)c(Cl)c(Cl)c(Cl)c1O2{sol}{n=1}|O{solv}{x=1.000000}>, <Substance CC(=O)c1cccnc1{sol}{n=1}|O{solv}{x=1.000000}>, <Substance CCBr{sol}{n=1}|O{solv}{x=1.000000}>, <Substance Nc1ccccc1Cl{sol}{n=1}|O{solv}{x=1.000000}>, <Substance CCCCI{sol}{n=1}|O{solv}{x=1.000000}>, <Substance COP(=S)(OC)Oc1ccc([N+](=O)[O-])cc1{sol}{n=1}|O{solv}{x=1.000000}>, <Substance CC[C@H](C)Cl{sol}{n=1}|O{solv}{x=1.000000}>, <Substance CC(Cl)(Cl)Cl{sol}{n=1}|O{solv}{x=1.000000}>, <Substance CC(C)Cl{sol}{n=1}|O{solv}{x=1.000000}>, <Substance Cc1ccccc1N{sol}{n=1}|O{solv}{x=1.000000}>, <Substance CCCSCCC{sol}{n=1}|O{solv}{x=1.000000}>, <Substance CCC(C)C{sol}{n=1}|O{solv}{x=1.000000}>, <Substance CCc1ccccc1O{sol}{n=1}|O{solv}{x=1.000000}>, <Substance Nc1ccc2c(c1)C(=O)c1ccccc1C2=O{sol}{n=1}|O{solv}{x=1.000000}>, <Substance F[C@H](Br)C(F)(F)F{sol}{n=1}|O{solv}{x=1.000000}>, <Substance CCCCCCC=O{sol}{n=1}|O{solv}{x=1.000000}>, <Substance CCO{sol}{n=1}|O{solv}{x=1.000000}>, <Substance CCCC(C)(C)O{sol}{n=1}|O{solv}{x=1.000000}>, <Substance CCOC(=O)c1ccccc1{sol}{n=1}|O{solv}{x=1.000000}>, <Substance Oc1ccc(Cl)c(Cl)c1{sol}{n=1}|O{solv}{x=1.000000}>, <Substance Clc1c(Cl)c(Cl)c2c(c1Cl)Oc1ccccc1O2{sol}{n=1}|O{solv}{x=1.000000}>, <Substance O=c1[nH]cc(F)c(=O)[nH]1{sol}{n=1}|O{solv}{x=1.000000}>, <Substance O{solv}{x=1.000000}|c1ccc(Oc2ccccc2)cc1{sol}{n=1}>, <Substance CCCC(=O)O{sol}{n=1}|O{solv}{x=1.000000}>, <Substance CN(C)C(=O)c1ccccc1{sol}{n=1}|O{solv}{x=1.000000}>, <Substance Clc1cccc(Cl)c1-c1c(Cl)cccc1Cl{sol}{n=1}|O{solv}{x=1.000000}>, <Substance FC(F)(Cl)C(F)(Cl)Cl{sol}{n=1}|O{solv}{x=1.000000}>, <Substance CC(=O)OCC(C)C{sol}{n=1}|O{solv}{x=1.000000}>, <Substance CC[C@H](C)O{sol}{n=1}|O{solv}{x=1.000000}>, <Substance CCCCCCO{sol}{n=1}|O{solv}{x=1.000000}>, <Substance CCCCOC[C@H](C)O{sol}{n=1}|O{solv}{x=1.000000}>, <Substance COC(=O)CC#N{sol}{n=1}|O{solv}{x=1.000000}>, <Substance O=C1NC(=O)c2ccccc21{sol}{n=1}|O{solv}{x=1.000000}>, <Substance C=CCCC=C{sol}{n=1}|O{solv}{x=1.000000}>, <Substance COc1ccc(C(=O)N(C)C)cc1{sol}{n=1}|O{solv}{x=1.000000}>, <Substance CC#N{sol}{n=1}|O{solv}{x=1.000000}>, <Substance C=C(Cl)Cl{sol}{n=1}|O{solv}{x=1.000000}>, <Substance CS(C)=O{sol}{n=1}|O{solv}{x=1.000000}>, <Substance Cc1cncc(C)c1{sol}{n=1}|O{solv}{x=1.000000}>, <Substance CCCCC(=O)CCCC{sol}{n=1}|O{solv}{x=1.000000}>, <Substance O{solv}{x=1.000000}|c1ccncc1{sol}{n=1}>, <Substance Nc1cccc([N+](=O)[O-])c1{sol}{n=1}|O{solv}{x=1.000000}>, <Substance CCCC(=O)OCC{sol}{n=1}|O{solv}{x=1.000000}>, <Substance CCCCC{sol}{n=1}|O{solv}{x=1.000000}>, <Substance Nc1cccc2c1C(=O)c1ccccc1C2=O{sol}{n=1}|O{solv}{x=1.000000}>, <Substance Clc1c(Cl)c(Cl)c(Cl)c(Cl)c1Cl{sol}{n=1}|O{solv}{x=1.000000}>, <Substance COC(C)(OC)OC{sol}{n=1}|O{solv}{x=1.000000}>, <Substance CCOP(=S)(OCC)SCSCC{sol}{n=1}|O{solv}{x=1.000000}>, <Substance O{solv}{x=1.000000}|c1c[nH]cn1{sol}{n=1}>, <Substance CCCCCl{sol}{n=1}|O{solv}{x=1.000000}>, <Substance C=CCl{sol}{n=1}|O{solv}{x=1.000000}>, <Substance OCC(O)CO{sol}{n=1}|O{solv}{x=1.000000}>, <Substance CCCCCCCI{sol}{n=1}|O{solv}{x=1.000000}>, <Substance CN(C)CCC=C1c2ccccc2CCc2ccccc21{sol}{n=1}|O{solv}{x=1.000000}>, <Substance NC(=O)c1ccccc1{sol}{n=1}|O{solv}{x=1.000000}>, <Substance Cn1cccc1{sol}{n=1}|O{solv}{x=1.000000}>, <Substance CCCCCCCCO{sol}{n=1}|O{solv}{x=1.000000}>, <Substance C=CCC{sol}{n=1}|O{solv}{x=1.000000}>, <Substance Cc1ccccn1{sol}{n=1}|O{solv}{x=1.000000}>, <Substance Clc1cc(-c2cc(Cl)c(Cl)c(Cl)c2Cl)cc(Cl)c1Cl{sol}{n=1}|O{solv}{x=1.000000}>, <Substance O{solv}{x=1.000000}|c1ccc2c(c1)Cc1ccccc1C2{sol}{n=1}>, <Substance COC(OC)(OC)C(F)(F)F{sol}{n=1}|O{solv}{x=1.000000}>, <Substance O{solv}{x=1.000000}|c1ccc2cc3ccccc3cc2c1{sol}{n=1}>, <Substance CS(C)(=O)=O{sol}{n=1}|O{solv}{x=1.000000}>, <Substance CCOCCOC(C)=O{sol}{n=1}|O{solv}{x=1.000000}>, <Substance Cc1c[nH]cn1{sol}{n=1}|O{solv}{x=1.000000}>, <Substance Cc1ccc(C)c2ccccc12{sol}{n=1}|O{solv}{x=1.000000}>, <Substance Clc1ccc(Cl)c(-c2cc(Cl)c(Cl)c(Cl)c2)c1{sol}{n=1}|O{solv}{x=1.000000}>, <Substance Cc1cnccn1{sol}{n=1}|O{solv}{x=1.000000}>, <Substance CCCCC(=O)OC{sol}{n=1}|O{solv}{x=1.000000}>, <Substance C=CCC=C{sol}{n=1}|O{solv}{x=1.000000}>, <Substance CCCCN(CC)C(=O)SCCC{sol}{n=1}|O{solv}{x=1.000000}>, <Substance FC(F)(F)c1ccccc1C(F)(F)F{sol}{n=1}|O{solv}{x=1.000000}>, <Substance Clc1cccc2c1Oc1ccccc1O2{sol}{n=1}|O{solv}{x=1.000000}>, <Substance O{solv}{x=1.000000}|c1ccc2c(c1)Cc1ccccc1-2{sol}{n=1}>, <Substance OC1CCCCC1{sol}{n=1}|O{solv}{x=1.000000}>, <Substance CC(C)CCC(C)(C)C{sol}{n=1}|O{solv}{x=1.000000}>, <Substance Cc1cccs1{sol}{n=1}|O{solv}{x=1.000000}>, <Substance CC[C@@H](C)C(C)C{sol}{n=1}|O{solv}{x=1.000000}>, <Substance Clc1cccnc1{sol}{n=1}|O{solv}{x=1.000000}>, <Substance Cn1ccnc1{sol}{n=1}|O{solv}{x=1.000000}>, <Substance CCC[C@@H](O)CC{sol}{n=1}|O{solv}{x=1.000000}>, <Substance O{solv}{x=1.000000}|[O-][S+2]1([O-])CCCC1{sol}{n=1}>, <Substance CCC#N{sol}{n=1}|O{solv}{x=1.000000}>, <Substance CCCCOC(C)=O{sol}{n=1}|O{solv}{x=1.000000}>, <Substance BrCBr{sol}{n=1}|O{solv}{x=1.000000}>, <Substance CCc1ccccc1C{sol}{n=1}|O{solv}{x=1.000000}>, <Substance CCCC(=O)CCC{sol}{n=1}|O{solv}{x=1.000000}>, <Substance O=Cc1cccnc1{sol}{n=1}|O{solv}{x=1.000000}>, <Substance Oc1cccc2ccccc12{sol}{n=1}|O{solv}{x=1.000000}>, <Substance CN(C)C(=O)c1ccc([N+](=O)[O-])cc1{sol}{n=1}|O{solv}{x=1.000000}>, <Substance C=C(C)CCC{sol}{n=1}|O{solv}{x=1.000000}>, <Substance CCCI{sol}{n=1}|O{solv}{x=1.000000}>, <Substance Cc1ccc(C(C)C)cc1{sol}{n=1}|O{solv}{x=1.000000}>, <Substance CCOC=O{sol}{n=1}|O{solv}{x=1.000000}>, <Substance CC(C)CCOC=O{sol}{n=1}|O{solv}{x=1.000000}>, <Substance CCCCCC(N)=O{sol}{n=1}|O{solv}{x=1.000000}>, <Substance CCCCBr{sol}{n=1}|O{solv}{x=1.000000}>, <Substance CC(C)C(C)C{sol}{n=1}|O{solv}{x=1.000000}>, <Substance CC[N+](=O)[O-]{sol}{n=1}|O{solv}{x=1.000000}>, <Substance CC(C)OC(C)C{sol}{n=1}|O{solv}{x=1.000000}>, <Substance C=CCCCC{sol}{n=1}|O{solv}{x=1.000000}>, <Substance O{solv}{x=1.000000}|c1ccc2c(c1)ccc1ccccc12{sol}{n=1}>, <Substance CCCS{sol}{n=1}|O{solv}{x=1.000000}>, <Substance CCc1cccc(CC)c1N(COC)C(=O)CCl{sol}{n=1}|O{solv}{x=1.000000}>, <Substance C=CCCC{sol}{n=1}|O{solv}{x=1.000000}>, <Substance FC(F)[C@@H](F)Oc1ccccc1{sol}{n=1}|O{solv}{x=1.000000}>, <Substance ClC(Cl)C(Cl)(Cl)Cl{sol}{n=1}|O{solv}{x=1.000000}>, <Substance CCCCCCCO{sol}{n=1}|O{solv}{x=1.000000}>, <Substance CC=O{sol}{n=1}|O{solv}{x=1.000000}>, <Substance COc1ccc2cc([C@H](C)C(=O)O)ccc2c1{sol}{n=1}|O{solv}{x=1.000000}>, <Substance CC(C)C(=O)C(C)C{sol}{n=1}|O{solv}{x=1.000000}>, <Substance Ic1ccccc1{sol}{n=1}|O{solv}{x=1.000000}>, <Substance CCCC(C)(C)C{sol}{n=1}|O{solv}{x=1.000000}>, <Substance C[C@@H](CO[N+](=O)[O-])O[N+](=O)[O-]{sol}{n=1}|O{solv}{x=1.000000}>, <Substance C=CC=C{sol}{n=1}|O{solv}{x=1.000000}>, <Substance CC(C)C[C@@H](C)O{sol}{n=1}|O{solv}{x=1.000000}>, <Substance CCCCCCCC(=O)OC{sol}{n=1}|O{solv}{x=1.000000}>, <Substance OC[C@@H](O)[C@@H](O)[C@H](O)[C@H](O)CO{sol}{n=1}|O{solv}{x=1.000000}>, <Substance O=c1[nH]cc(C(F)(F)F)c(=O)[nH]1{sol}{n=1}|O{solv}{x=1.000000}>, <Substance COC(C)(C)C{sol}{n=1}|O{solv}{x=1.000000}>, <Substance C1COCCN1{sol}{n=1}|O{solv}{x=1.000000}>, <Substance O=c1[nH]c(=O)[nH]c(=O)[nH]1{sol}{n=1}|O{solv}{x=1.000000}>, <Substance Cc1ccc(C(=O)N(C)C)cc1{sol}{n=1}|O{solv}{x=1.000000}>, <Substance ClCc1ccccc1{sol}{n=1}|O{solv}{x=1.000000}>, <Substance C=C(C)c1ccccc1{sol}{n=1}|O{solv}{x=1.000000}>, <Substance CCCCN(CC)c1c([N+](=O)[O-])cc(C(F)(F)F)cc1[N+](=O)[O-]{sol}{n=1}|O{solv}{x=1.000000}>, <Substance CC(C)CCO{sol}{n=1}|O{solv}{x=1.000000}>, <Substance CCCCCBr{sol}{n=1}|O{solv}{x=1.000000}>, <Substance COC(=O)C1CCCCC1{sol}{n=1}|O{solv}{x=1.000000}>, <Substance COc1c(O)c(OC)c(Cl)c(C=O)c1Cl{sol}{n=1}|O{solv}{x=1.000000}>, <Substance ClCCCCl{sol}{n=1}|O{solv}{x=1.000000}>, <Substance CC(=O)C1CC1{sol}{n=1}|O{solv}{x=1.000000}>, <Substance CCCl{sol}{n=1}|O{solv}{x=1.000000}>, <Substance O=S1OCC2C(CO1)C1(Cl)C(Cl)=C(Cl)C2(Cl)C1(Cl)Cl{sol}{n=1}|O{solv}{x=1.000000}>, <Substance Clc1ccccc1{sol}{n=1}|O{solv}{x=1.000000}>, <Substance CN(C)C(=O)Nc1ccccc1{sol}{n=1}|O{solv}{x=1.000000}>, <Substance O{solv}{x=1.000000}|c1ccc(Cn2ccnc2)cc1{sol}{n=1}>, <Substance CNC(=O)O/N=C\\C(C)(C)SC{sol}{n=1}|O{solv}{x=1.000000}>, <Substance O{solv}{x=1.000000}|c1cc2c3c(cccc3c1)CC2{sol}{n=1}>, <Substance FC(F)(F)Br{sol}{n=1}|O{solv}{x=1.000000}>, <Substance CCCOC=O{sol}{n=1}|O{solv}{x=1.000000}>, <Substance Cc1ccc(C)nc1{sol}{n=1}|O{solv}{x=1.000000}>, <Substance CCOP(=O)(OCC)OCC{sol}{n=1}|O{solv}{x=1.000000}>, <Substance CC(F)F{sol}{n=1}|O{solv}{x=1.000000}>, <Substance O=C1c2ccccc2C(=O)c2c(NCCO)cccc21{sol}{n=1}|O{solv}{x=1.000000}>, <Substance Cc1ccccc1{sol}{n=1}|O{solv}{x=1.000000}>, <Substance O[C@@H]1[C@@H](O)[C@@H](O)OC[C@H]1O{sol}{n=1}|O{solv}{x=1.000000}>, <Substance CCCO{sol}{n=1}|O{solv}{x=1.000000}>, <Substance CC1=CC(=O)[C@H](C(C)C)CC1{sol}{n=1}|O{solv}{x=1.000000}>, <Substance CSSC{sol}{n=1}|O{solv}{x=1.000000}>, <Substance COC(=O)c1ccc([N+](=O)[O-])cc1{sol}{n=1}|O{solv}{x=1.000000}>, <Substance O{solv}{x=1.000000}|c1ccc(-c2ccccc2)cc1{sol}{n=1}>, <Substance CC(C)Br{sol}{n=1}|O{solv}{x=1.000000}>, <Substance CC(=O)C(C)(C)C{sol}{n=1}|O{solv}{x=1.000000}>, <Substance CF{sol}{n=1}|O{solv}{x=1.000000}>, <Substance CC(=O)N1CCCC1{sol}{n=1}|O{solv}{x=1.000000}>, <Substance CS(=O)(=O)Cl{sol}{n=1}|O{solv}{x=1.000000}>, <Substance Nc1ccc([N+](=O)[O-])cc1{sol}{n=1}|O{solv}{x=1.000000}>, <Substance FC(F)Cl{sol}{n=1}|O{solv}{x=1.000000}>, <Substance CC(C)CC(C)C{sol}{n=1}|O{solv}{x=1.000000}>, <Substance CCCCCCCCCC(C)=O{sol}{n=1}|O{solv}{x=1.000000}>, <Substance CCOC{sol}{n=1}|O{solv}{x=1.000000}>, <Substance CCCCCN{sol}{n=1}|O{solv}{x=1.000000}>, <Substance O{solv}{x=1.000000}|S{sol}{n=1}>, <Substance Clc1ccc2c(c1)Oc1ccc(Cl)cc1O2{sol}{n=1}|O{solv}{x=1.000000}>, <Substance Clc1ccc(-c2c(Cl)c(Cl)cc(Cl)c2Cl)cc1Cl{sol}{n=1}|O{solv}{x=1.000000}>, <Substance CCCOCCC{sol}{n=1}|O{solv}{x=1.000000}>, <Substance C1CCCC1{sol}{n=1}|O{solv}{x=1.000000}>, <Substance C1CCOC1{sol}{n=1}|O{solv}{x=1.000000}>, <Substance O=[N+]([O-])OCCO{sol}{n=1}|O{solv}{x=1.000000}>, <Substance CC(C)(C)Cl{sol}{n=1}|O{solv}{x=1.000000}>, <Substance Cc1cccc(O)c1C{sol}{n=1}|O{solv}{x=1.000000}>, <Substance Oc1ccccc1Cl{sol}{n=1}|O{solv}{x=1.000000}>, <Substance N#Cc1cccnc1{sol}{n=1}|O{solv}{x=1.000000}>, <Substance C=CCCCCCC{sol}{n=1}|O{solv}{x=1.000000}>, <Substance Cc1ccccc1[N+](=O)[O-]{sol}{n=1}|O{solv}{x=1.000000}>, <Substance C[C@@H](O)C(F)(F)F{sol}{n=1}|O{solv}{x=1.000000}>, <Substance COC{sol}{n=1}|O{solv}{x=1.000000}>, <Substance O=[N+]([O-])c1cccc(O)c1{sol}{n=1}|O{solv}{x=1.000000}>, <Substance CCCCCCCl{sol}{n=1}|O{solv}{x=1.000000}>, <Substance Clc1c(Cl)c(Cl)c2c(c1Cl)Oc1c(Cl)c(Cl)c(Cl)c(Cl)c1O2{sol}{n=1}|O{solv}{x=1.000000}>, <Substance CCOC(C)OCC{sol}{n=1}|O{solv}{x=1.000000}>, <Substance C=CCCl{sol}{n=1}|O{solv}{x=1.000000}>, <Substance ClC(Cl)=C(Cl)Cl{sol}{n=1}|O{solv}{x=1.000000}>, <Substance O=[N+]([O-])OCCCO[N+](=O)[O-]{sol}{n=1}|O{solv}{x=1.000000}>, <Substance C1CCCCC1{sol}{n=1}|O{solv}{x=1.000000}>, <Substance CCCCCCCCC{sol}{n=1}|O{solv}{x=1.000000}>, <Substance CCCC(=O)OC{sol}{n=1}|O{solv}{x=1.000000}>, <Substance COC(C)C{sol}{n=1}|O{solv}{x=1.000000}>, <Substance CC(C)(C)O{sol}{n=1}|O{solv}{x=1.000000}>, <Substance CC(C)SC(C)C{sol}{n=1}|O{solv}{x=1.000000}>, <Substance BrCc1ccccc1{sol}{n=1}|O{solv}{x=1.000000}>, <Substance C=Cc1ccccc1{sol}{n=1}|O{solv}{x=1.000000}>, <Substance O=C1[C@@H]2CC=CC[C@H]2C(=O)N1SC(Cl)(Cl)Cl{sol}{n=1}|O{solv}{x=1.000000}>, <Substance Cc1cccnc1C{sol}{n=1}|O{solv}{x=1.000000}>, <Substance CC(C)=CCC/C(C)=C\\CO{sol}{n=1}|O{solv}{x=1.000000}>, <Substance CCCCCCc1ccccc1{sol}{n=1}|O{solv}{x=1.000000}>, <Substance CCOCCO{sol}{n=1}|O{solv}{x=1.000000}>, <Substance COC(=O)c1ccccc1{sol}{n=1}|O{solv}{x=1.000000}>, <Substance COP(=O)(OC)OC{sol}{n=1}|O{solv}{x=1.000000}>, <Substance Nc1cnn(-c2ccccc2)c(=O)c1Cl{sol}{n=1}|O{solv}{x=1.000000}>, <Substance CCCCCCCCl{sol}{n=1}|O{solv}{x=1.000000}>, <Substance Clc1cc(Cl)c2c(c1Cl)Oc1ccccc1O2{sol}{n=1}|O{solv}{x=1.000000}>, <Substance CCOP(=S)(OCC)S[C@@H](CCl)N1C(=O)c2ccccc2C1=O{sol}{n=1}|O{solv}{x=1.000000}>, <Substance CCCC[N+](=O)[O-]{sol}{n=1}|O{solv}{x=1.000000}>, <Substance CCNc1nc(NC(C)(C)C)nc(SC)n1{sol}{n=1}|O{solv}{x=1.000000}>, <Substance NN{sol}{n=1}|O{solv}{x=1.000000}>, <Substance CC(=O)CC(C)C{sol}{n=1}|O{solv}{x=1.000000}>, <Substance C1=CC=CCC=C1{sol}{n=1}|O{solv}{x=1.000000}>, <Substance CC(=O)OCCOC(C)=O{sol}{n=1}|O{solv}{x=1.000000}>, <Substance CCCCS{sol}{n=1}|O{solv}{x=1.000000}>, <Substance CC(C)(C)Br{sol}{n=1}|O{solv}{x=1.000000}>, <Substance CCCCCCl{sol}{n=1}|O{solv}{x=1.000000}>, <Substance Cc1ccc(O)cc1C{sol}{n=1}|O{solv}{x=1.000000}>, <Substance CC(C)=O{sol}{n=1}|O{solv}{x=1.000000}>, <Substance Oc1ccc(Br)cc1{sol}{n=1}|O{solv}{x=1.000000}>, <Substance C=C(c1ccccc1)c1ccccc1{sol}{n=1}|O{solv}{x=1.000000}>, <Substance COc1ccc(N)cc1{sol}{n=1}|O{solv}{x=1.000000}>, <Substance C[C@H]1CC[C@H](C)O1{sol}{n=1}|O{solv}{x=1.000000}>, <Substance COCCO{sol}{n=1}|O{solv}{x=1.000000}>, <Substance CCCSC(=O)N(CCC)CCC{sol}{n=1}|O{solv}{x=1.000000}>, <Substance COCCN{sol}{n=1}|O{solv}{x=1.000000}>, <Substance CC(C)NC(C)C{sol}{n=1}|O{solv}{x=1.000000}>, <Substance CCCCOCCO{sol}{n=1}|O{solv}{x=1.000000}>, <Substance ClC=C(Cl)Cl{sol}{n=1}|O{solv}{x=1.000000}>, <Substance CSC{sol}{n=1}|O{solv}{x=1.000000}>, <Substance C=C[C@@](C)(CCC=C(C)C)OC(C)=O{sol}{n=1}|O{solv}{x=1.000000}>, <Substance COP(=O)(OC)[C@@H](O)C(Cl)(Cl)Cl{sol}{n=1}|O{solv}{x=1.000000}>, <Substance Cc1cc2ccccc2cc1C{sol}{n=1}|O{solv}{x=1.000000}>, <Substance CCOP(=O)(OCC)O/C(=C/Cl)c1ccc(Cl)cc1Cl{sol}{n=1}|O{solv}{x=1.000000}>, <Substance C#CCCCCCC{sol}{n=1}|O{solv}{x=1.000000}>, <Substance N#Cc1c(Cl)cccc1Cl{sol}{n=1}|O{solv}{x=1.000000}>, <Substance CCc1cccc2ccccc12{sol}{n=1}|O{solv}{x=1.000000}>, <Substance Oc1ccc(F)cc1{sol}{n=1}|O{solv}{x=1.000000}>, <Substance CCCCCCCCC=O{sol}{n=1}|O{solv}{x=1.000000}>, <Substance CCCOC(=O)CC{sol}{n=1}|O{solv}{x=1.000000}>, <Substance ICI{sol}{n=1}|O{solv}{x=1.000000}>, <Substance CC1CCC(C)CC1{sol}{n=1}|O{solv}{x=1.000000}>, <Substance CN1CCCCC1{sol}{n=1}|O{solv}{x=1.000000}>, <Substance O=[N+]([O-])c1ccccc1O{sol}{n=1}|O{solv}{x=1.000000}>, <Substance CCl{sol}{n=1}|O{solv}{x=1.000000}>, <Substance CCSSCC{sol}{n=1}|O{solv}{x=1.000000}>, <Substance CC(C)CBr{sol}{n=1}|O{solv}{x=1.000000}>, <Substance CCCCCCOC(C)=O{sol}{n=1}|O{solv}{x=1.000000}>, <Substance CCOC(=O)C[C@@H](SP(=S)(OC)OC)C(=O)OCC{sol}{n=1}|O{solv}{x=1.000000}>, <Substance CCCCCCN{sol}{n=1}|O{solv}{x=1.000000}>, <Substance Oc1ccccc1I{sol}{n=1}|O{solv}{x=1.000000}>, <Substance CCCCCC(=O)O{sol}{n=1}|O{solv}{x=1.000000}>, <Substance CCCCC=O{sol}{n=1}|O{solv}{x=1.000000}>, <Substance COc1cccc(OC)c1O{sol}{n=1}|O{solv}{x=1.000000}>, <Substance Cc1ccccc1C{sol}{n=1}|O{solv}{x=1.000000}>, <Substance ClC(Cl)(Cl)C(Cl)(Cl)Cl{sol}{n=1}|O{solv}{x=1.000000}>, <Substance CS{sol}{n=1}|O{solv}{x=1.000000}>, <Substance C1CNC1{sol}{n=1}|O{solv}{x=1.000000}>, <Substance CNC(=O)Oc1cccc2ccccc12{sol}{n=1}|O{solv}{x=1.000000}>, <Substance CC1CCCCC1{sol}{n=1}|O{solv}{x=1.000000}>, <Substance Cc1cc(C)cc(O)c1{sol}{n=1}|O{solv}{x=1.000000}>, <Substance CCCCN{sol}{n=1}|O{solv}{x=1.000000}>, <Substance CCC(=O)OC{sol}{n=1}|O{solv}{x=1.000000}>, <Substance O{solv}{x=1.000000}|c1cc2ccc3cccc4ccc(c1)c2c34{sol}{n=1}>, <Substance CCCCC#N{sol}{n=1}|O{solv}{x=1.000000}>, <Substance COC(F)(F)C(Cl)Cl{sol}{n=1}|O{solv}{x=1.000000}>, <Substance CC(=O)OCCC(C)C{sol}{n=1}|O{solv}{x=1.000000}>, <Substance Cc1cccc(C)c1N{sol}{n=1}|O{solv}{x=1.000000}>, <Substance CCC(N)=O{sol}{n=1}|O{solv}{x=1.000000}>, <Substance CCCCC(C)C{sol}{n=1}|O{solv}{x=1.000000}>, <Substance O=COc1ccccc1{sol}{n=1}|O{solv}{x=1.000000}>, <Substance COCCOC{sol}{n=1}|O{solv}{x=1.000000}>, <Substance CCN(CC)CC{sol}{n=1}|O{solv}{x=1.000000}>, <Substance COC(CC#N)(OC)OC{sol}{n=1}|O{solv}{x=1.000000}>, <Substance CCCBr{sol}{n=1}|O{solv}{x=1.000000}>, <Substance Nc1ccc(Cl)cc1{sol}{n=1}|O{solv}{x=1.000000}>, <Substance Cc1c[nH]c2ccccc12{sol}{n=1}|O{solv}{x=1.000000}>, <Substance Cc1ccccc1Cl{sol}{n=1}|O{solv}{x=1.000000}>, <Substance CC{sol}{n=1}|O{solv}{x=1.000000}>, <Substance CCC[N+](=O)[O-]{sol}{n=1}|O{solv}{x=1.000000}>, <Substance CN1CCN(C)CC1{sol}{n=1}|O{solv}{x=1.000000}>, <Substance CCOC(=O)CC(=O)OCC{sol}{n=1}|O{solv}{x=1.000000}>, <Substance CCCCOC(=O)c1ccc(O)cc1{sol}{n=1}|O{solv}{x=1.000000}>, <Substance FC(F)O[C@H](Cl)C(F)(F)F{sol}{n=1}|O{solv}{x=1.000000}>, <Substance Clc1ccccc1Cl{sol}{n=1}|O{solv}{x=1.000000}>, <Substance CCCCCCBr{sol}{n=1}|O{solv}{x=1.000000}>, <Substance COC(CCl)(OC)OC{sol}{n=1}|O{solv}{x=1.000000}>, <Substance CCCCCCO[N+](=O)[O-]{sol}{n=1}|O{solv}{x=1.000000}>, <Substance CNc1ccccc1{sol}{n=1}|O{solv}{x=1.000000}>, <Substance Clc1ccc2c(c1)Oc1c(Cl)c(Cl)c(Cl)c(Cl)c1O2{sol}{n=1}|O{solv}{x=1.000000}>, <Substance CCCCCCCCC(C)=O{sol}{n=1}|O{solv}{x=1.000000}>, <Substance CCCCCCCC(C)=O{sol}{n=1}|O{solv}{x=1.000000}>, <Substance C[C@@H](CCO[N+](=O)[O-])O[N+](=O)[O-]{sol}{n=1}|O{solv}{x=1.000000}>, <Substance COC(OC)(OC)c1ccccc1{sol}{n=1}|O{solv}{x=1.000000}>, <Substance CCC[C@@H](C)O{sol}{n=1}|O{solv}{x=1.000000}>, <Substance O=c1cc(Cl)[nH]c(=O)[nH]1{sol}{n=1}|O{solv}{x=1.000000}>, <Substance O=c1[nH]cc(I)c(=O)[nH]1{sol}{n=1}|O{solv}{x=1.000000}>, <Substance Cc1nc(N(C)C)nc(OC(=O)N(C)C)c1C{sol}{n=1}|O{solv}{x=1.000000}>, <Substance CCC(C)(C)C{sol}{n=1}|O{solv}{x=1.000000}>, <Substance COP(=S)(OC)SCn1nnc2ccccc2c1=O{sol}{n=1}|O{solv}{x=1.000000}>, <Substance CCCCCCI{sol}{n=1}|O{solv}{x=1.000000}>, <Substance FC(F)(F)c1ccccc1{sol}{n=1}|O{solv}{x=1.000000}>, <Substance FC1(F)C(F)(F)C(F)(F)C1(F)F{sol}{n=1}|O{solv}{x=1.000000}>, <Substance CCCOC{sol}{n=1}|O{solv}{x=1.000000}>, <Substance CCCCCC(C)=O{sol}{n=1}|O{solv}{x=1.000000}>, <Substance O=Cc1ccc(O)cc1{sol}{n=1}|O{solv}{x=1.000000}>, <Substance C=CC(C)C{sol}{n=1}|O{solv}{x=1.000000}>, <Substance C1CC1{sol}{n=1}|O{solv}{x=1.000000}>, <Substance CCC=O{sol}{n=1}|O{solv}{x=1.000000}>, <Substance OCCO{sol}{n=1}|O{solv}{x=1.000000}>, <Substance CCSCC{sol}{n=1}|O{solv}{x=1.000000}>, <Substance Cc1cccc(C)c1O{sol}{n=1}|O{solv}{x=1.000000}>, <Substance CC(C)CO[N+](=O)[O-]{sol}{n=1}|O{solv}{x=1.000000}>, <Substance Cc1cccc(Nc2ccccc2C(=O)O)c1C{sol}{n=1}|O{solv}{x=1.000000}>, <Substance CN(C)C=O{sol}{n=1}|O{solv}{x=1.000000}>, <Substance O=Cc1ccccc1O{sol}{n=1}|O{solv}{x=1.000000}>, <Substance Cn1c(=O)c2c(ncn2C)n(C)c1=O{sol}{n=1}|O{solv}{x=1.000000}>, <Substance COC(=O)CCl{sol}{n=1}|O{solv}{x=1.000000}>, <Substance COS(C)(=O)=O{sol}{n=1}|O{solv}{x=1.000000}>, <Substance C#CCC{sol}{n=1}|O{solv}{x=1.000000}>, <Substance ClCC(Cl)Cl{sol}{n=1}|O{solv}{x=1.000000}>, <Substance CCOCC{sol}{n=1}|O{solv}{x=1.000000}>, <Substance CCc1ccccc1{sol}{n=1}|O{solv}{x=1.000000}>, <Substance CC(C)[C@@H]1CC[C@@H](C)CC1=O{sol}{n=1}|O{solv}{x=1.000000}>, <Substance C/C=C/CCCC{sol}{n=1}|O{solv}{x=1.000000}>, <Substance CC1=CCCCC1{sol}{n=1}|O{solv}{x=1.000000}>, <Substance C1COCCO1{sol}{n=1}|O{solv}{x=1.000000}>, <Substance C=O{sol}{n=1}|O{solv}{x=1.000000}>, <Substance OCC(F)(F)F{sol}{n=1}|O{solv}{x=1.000000}>, <Substance Cc1ccc(N)cc1{sol}{n=1}|O{solv}{x=1.000000}>, <Substance Fc1ccccc1{sol}{n=1}|O{solv}{x=1.000000}>, <Substance CCCC{sol}{n=1}|O{solv}{x=1.000000}>, <Substance Cl/C=C/Cl{sol}{n=1}|O{solv}{x=1.000000}>, <Substance CCCc1ccc(O)cc1{sol}{n=1}|O{solv}{x=1.000000}>, <Substance CC(=O)c1ccccc1{sol}{n=1}|O{solv}{x=1.000000}>, <Substance BrC(Br)Br{sol}{n=1}|O{solv}{x=1.000000}>, <Substance CCCCc1ccccc1{sol}{n=1}|O{solv}{x=1.000000}>, <Substance CCCC=O{sol}{n=1}|O{solv}{x=1.000000}>, <Substance CCCCCO{sol}{n=1}|O{solv}{x=1.000000}>, <Substance ClCCBr{sol}{n=1}|O{solv}{x=1.000000}>, <Substance Cc1ccncc1C{sol}{n=1}|O{solv}{x=1.000000}>, <Substance CCCCCCCC{sol}{n=1}|O{solv}{x=1.000000}>, <Substance CCCCCCCN{sol}{n=1}|O{solv}{x=1.000000}>, <Substance C[C@H](O)C(F)(F)F{sol}{n=1}|O{solv}{x=1.000000}>, <Substance NC1CCCCC1{sol}{n=1}|O{solv}{x=1.000000}>, <Substance CCCCCOC(=O)CC{sol}{n=1}|O{solv}{x=1.000000}>, <Substance C[C@H]1CCCO1{sol}{n=1}|O{solv}{x=1.000000}>, <Substance Cc1ccc(C)c(O)c1{sol}{n=1}|O{solv}{x=1.000000}>, <Substance C=CCCCCCCC{sol}{n=1}|O{solv}{x=1.000000}>, <Substance C[C@H](Cl)CCl{sol}{n=1}|O{solv}{x=1.000000}>, <Substance CCCCl{sol}{n=1}|O{solv}{x=1.000000}>, <Substance CCCC(C)=O{sol}{n=1}|O{solv}{x=1.000000}>, <Substance O{solv}{x=1.000000}|c1ccc2ncccc2c1{sol}{n=1}>, <Substance CC(Cl)Cl{sol}{n=1}|O{solv}{x=1.000000}>, <Substance O{solv}{x=1.000000}|c1ccsc1{sol}{n=1}>, <Substance Clc1ccc(Cl)c(Cl)c1Cl{sol}{n=1}|O{solv}{x=1.000000}>, <Substance ClC1=C(Cl)[C@]2(Cl)[C@@H]3[C@@H](Cl)C=C[C@@H]3[C@@]1(Cl)C2(Cl)Cl{sol}{n=1}|O{solv}{x=1.000000}>, <Substance ClC1=C(Cl)[C@]2(Cl)[C@H]3[C@H]4C[C@H]([C@@H]5O[C@H]45)[C@H]3[C@@]1(Cl)C2(Cl)Cl{sol}{n=1}|O{solv}{x=1.000000}>, <Substance CCCCCI{sol}{n=1}|O{solv}{x=1.000000}>, <Substance Cc1cc(C)c2ccccc2c1{sol}{n=1}|O{solv}{x=1.000000}>, <Substance CC(=O)OCC(COC(C)=O)OC(C)=O{sol}{n=1}|O{solv}{x=1.000000}>, <Substance CC(C)c1ccccc1{sol}{n=1}|O{solv}{x=1.000000}>, <Substance COC(=O)C(F)(F)F{sol}{n=1}|O{solv}{x=1.000000}>, <Substance CC(C)O{sol}{n=1}|O{solv}{x=1.000000}>, <Substance CCCOCCO{sol}{n=1}|O{solv}{x=1.000000}>, <Substance Clc1cc2c(cc1Cl)Oc1cc(Cl)c(Cl)cc1O2{sol}{n=1}|O{solv}{x=1.000000}>, <Substance CCCc1ccccc1{sol}{n=1}|O{solv}{x=1.000000}>, <Substance CC[C@@H](C)CO{sol}{n=1}|O{solv}{x=1.000000}>, <Substance CC(C)(C)c1ccccc1{sol}{n=1}|O{solv}{x=1.000000}>, <Substance COC(=O)C(C)(C)C{sol}{n=1}|O{solv}{x=1.000000}>, <Substance CCCCCC=O{sol}{n=1}|O{solv}{x=1.000000}>, <Substance C=CCO{sol}{n=1}|O{solv}{x=1.000000}>, <Substance O=Cc1cccc(O)c1{sol}{n=1}|O{solv}{x=1.000000}>, <Substance Nc1ccccc1[N+](=O)[O-]{sol}{n=1}|O{solv}{x=1.000000}>, <Substance CCS{sol}{n=1}|O{solv}{x=1.000000}>, <Substance Clc1cc(-c2ccccc2)c(Cl)c(Cl)c1Cl{sol}{n=1}|O{solv}{x=1.000000}>, <Substance ClC(Cl)C(Cl)Cl{sol}{n=1}|O{solv}{x=1.000000}>, <Substance CN1CCOCC1{sol}{n=1}|O{solv}{x=1.000000}>, <Substance CCCCO[N+](=O)[O-]{sol}{n=1}|O{solv}{x=1.000000}>, <Substance CCCCCC1CCCC1{sol}{n=1}|O{solv}{x=1.000000}>, <Substance Oc1ccc(Cl)cc1{sol}{n=1}|O{solv}{x=1.000000}>, <Substance Clc1ccccn1{sol}{n=1}|O{solv}{x=1.000000}>, <Substance COS(=O)(=O)OC{sol}{n=1}|O{solv}{x=1.000000}>, <Substance Nc1ccc(O)c2c1C(=O)c1ccccc1C2=O{sol}{n=1}|O{solv}{x=1.000000}>, <Substance CNC(=O)Oc1cccc2c1OC(C)(C)C2{sol}{n=1}|O{solv}{x=1.000000}>, <Substance FC(F)(F)F{sol}{n=1}|O{solv}{x=1.000000}>, <Substance CCCCC[N+](=O)[O-]{sol}{n=1}|O{solv}{x=1.000000}>, <Substance C[N+](=O)[O-]{sol}{n=1}|O{solv}{x=1.000000}>, <Substance CC1CCCC1{sol}{n=1}|O{solv}{x=1.000000}>, <Substance CC(C)COC=O{sol}{n=1}|O{solv}{x=1.000000}>, <Substance O=C1C=CC(=O)C=C1{sol}{n=1}|O{solv}{x=1.000000}>, <Substance FC(F)=C(F)C(F)(F)F{sol}{n=1}|O{solv}{x=1.000000}>, <Substance Nc1cccc(Cl)c1{sol}{n=1}|O{solv}{x=1.000000}>, <Substance O{solv}{x=1.000000}|Sc1ccccc1{sol}{n=1}>, <Substance OC1CCCC1{sol}{n=1}|O{solv}{x=1.000000}>, <Substance CC(=O)c1ccncc1{sol}{n=1}|O{solv}{x=1.000000}>, <Substance CCOCCOCC{sol}{n=1}|O{solv}{x=1.000000}>, <Substance C/C=C\\CC{sol}{n=1}|O{solv}{x=1.000000}>, <Substance O{solv}{x=1.000000}|c1ccc2c(c1)CCC2{sol}{n=1}>, <Substance Cc1ccc2cc(C)ccc2c1{sol}{n=1}|O{solv}{x=1.000000}>, <Substance Clc1cc(Cl)c(-c2c(Cl)cccc2Cl)c(Cl)c1{sol}{n=1}|O{solv}{x=1.000000}>, <Substance CN{sol}{n=1}|O{solv}{x=1.000000}>, <Substance CCCCCCCC=O{sol}{n=1}|O{solv}{x=1.000000}>, <Substance COc1cc(C)ccc1O{sol}{n=1}|O{solv}{x=1.000000}>, <Substance CC(C)CO{sol}{n=1}|O{solv}{x=1.000000}>, <Substance Cl/C=C\\Cl{sol}{n=1}|O{solv}{x=1.000000}>, <Substance O=[N+]([O-])c1ccccc1{sol}{n=1}|O{solv}{x=1.000000}>, <Substance ClCCl{sol}{n=1}|O{solv}{x=1.000000}>, <Substance C[C@H](C(=O)O)c1ccc(-c2ccccc2)c(F)c1{sol}{n=1}|O{solv}{x=1.000000}>, <Substance COc1ccccc1O{sol}{n=1}|O{solv}{x=1.000000}>, <Substance CCCOC(C)=O{sol}{n=1}|O{solv}{x=1.000000}>, <Substance O=Cc1ccncc1{sol}{n=1}|O{solv}{x=1.000000}>, <Substance CCCC(C)C{sol}{n=1}|O{solv}{x=1.000000}>, <Substance CCCCCC(=O)OC{sol}{n=1}|O{solv}{x=1.000000}>, <Substance CCCCCCC(C)=O{sol}{n=1}|O{solv}{x=1.000000}>, <Substance CCCCCC{sol}{n=1}|O{solv}{x=1.000000}>, <Substance CCN{sol}{n=1}|O{solv}{x=1.000000}>, <Substance CC(C)CC(=O)O{sol}{n=1}|O{solv}{x=1.000000}>, <Substance O{solv}{x=1.000000}|c1ccc2ccccc2c1{sol}{n=1}>, <Substance CC(C)Cc1ccccc1{sol}{n=1}|O{solv}{x=1.000000}>, <Substance CCCC#N{sol}{n=1}|O{solv}{x=1.000000}>, <Substance CCC(=O)Nc1ccc(Cl)c(Cl)c1{sol}{n=1}|O{solv}{x=1.000000}>, <Substance C1=CCCC1{sol}{n=1}|O{solv}{x=1.000000}>, <Substance CCOP(=S)(OCC)Oc1ccc([N+](=O)[O-])cc1{sol}{n=1}|O{solv}{x=1.000000}>, <Substance ClC1=C(Cl)[C@]2(Cl)[C@@H]3[C@@H]([C@H](Cl)C[C@@H]3Cl)[C@@]1(Cl)C2(Cl)Cl{sol}{n=1}|O{solv}{x=1.000000}>, <Substance Cc1cc(O)ccc1Cl{sol}{n=1}|O{solv}{x=1.000000}>, <Substance CCC(C)CC{sol}{n=1}|O{solv}{x=1.000000}>, <Substance Cc1ccc(O)cc1{sol}{n=1}|O{solv}{x=1.000000}>, <Substance CCCc1ccc(O)c(OC)c1{sol}{n=1}|O{solv}{x=1.000000}>, <Substance N#Cc1ccc(O)cc1{sol}{n=1}|O{solv}{x=1.000000}>, <Substance COC(OC)OC{sol}{n=1}|O{solv}{x=1.000000}>, <Substance CCCCCCCCCO{sol}{n=1}|O{solv}{x=1.000000}>, <Substance N{sol}{n=1}|O{solv}{x=1.000000}>, <Substance C=C(C)C{sol}{n=1}|O{solv}{x=1.000000}>, <Substance O=c1[nH]cc(Cl)c(=O)[nH]1{sol}{n=1}|O{solv}{x=1.000000}>, <Substance CCCCCOC(C)=O{sol}{n=1}|O{solv}{x=1.000000}>, <Substance C1=CCCCC1{sol}{n=1}|O{solv}{x=1.000000}>, <Substance Clc1c(Cl)c(Cl)c(-c2c(Cl)c(Cl)c(Cl)c(Cl)c2Cl)c(Cl)c1Cl{sol}{n=1}|O{solv}{x=1.000000}>, <Substance CCCOC(=O)CCC{sol}{n=1}|O{solv}{x=1.000000}>, <Substance CCc1cnccn1{sol}{n=1}|O{solv}{x=1.000000}>, <Substance FCCl{sol}{n=1}|O{solv}{x=1.000000}>, <Substance COc1c(Cl)ccc(Cl)c1C(=O)O{sol}{n=1}|O{solv}{x=1.000000}>, <Substance Clc1ccc(Cl)c(Cl)c1{sol}{n=1}|O{solv}{x=1.000000}>, <Substance CC(C)=CCC/C(C)=C/CO{sol}{n=1}|O{solv}{x=1.000000}>, <Substance CC[C@H](C)c1ccccc1{sol}{n=1}|O{solv}{x=1.000000}>, <Substance O=Cc1ccccc1{sol}{n=1}|O{solv}{x=1.000000}>, <Substance CC[C@H](C)n1c(=O)[nH]c(C)c(Br)c1=O{sol}{n=1}|O{solv}{x=1.000000}>, <Substance COC(=O)c1ccc(O)cc1{sol}{n=1}|O{solv}{x=1.000000}>, <Substance C1CCOCC1{sol}{n=1}|O{solv}{x=1.000000}>, <Substance CCSC{sol}{n=1}|O{solv}{x=1.000000}>, <Substance CCc1ccccn1{sol}{n=1}|O{solv}{x=1.000000}>, <Substance Clc1cc2c(cc1Cl)Oc1ccccc1O2{sol}{n=1}|O{solv}{x=1.000000}>, <Substance CCCCOCCCC{sol}{n=1}|O{solv}{x=1.000000}>, <Substance CCOC(C)=O{sol}{n=1}|O{solv}{x=1.000000}>, <Substance C#CCCCC{sol}{n=1}|O{solv}{x=1.000000}>, <Substance CC(C)I{sol}{n=1}|O{solv}{x=1.000000}>, <Substance FC(F)(F)c1cccc(C(F)(F)F)c1{sol}{n=1}|O{solv}{x=1.000000}>, <Substance CC(=O)OC(C)C{sol}{n=1}|O{solv}{x=1.000000}>, <Substance ClC(Cl)Cl{sol}{n=1}|O{solv}{x=1.000000}>, <Substance CCc1ccc(C)cc1{sol}{n=1}|O{solv}{x=1.000000}>, <Substance CCC(C)(C)O{sol}{n=1}|O{solv}{x=1.000000}>, <Substance CCCCC(=O)OCC{sol}{n=1}|O{solv}{x=1.000000}>, <Substance Clc1ccc2c(c1)Oc1ccccc1O2{sol}{n=1}|O{solv}{x=1.000000}>, <Substance Clc1cc(Cl)c(Cl)cc1Cl{sol}{n=1}|O{solv}{x=1.000000}>, <Substance Nc1cccc2ccccc12{sol}{n=1}|O{solv}{x=1.000000}>, <Substance Oc1ccc2ccccc2c1{sol}{n=1}|O{solv}{x=1.000000}>, <Substance COC(=O)C1CC1{sol}{n=1}|O{solv}{x=1.000000}>}\n"
     ]
    }
   ],
   "source": [
    "print(len(data_set_initial))\n",
    "print(data_set_initial.property_types)\n",
    "print(data_set_initial.substances)"
   ]
  },
  {
   "cell_type": "markdown",
   "metadata": {},
   "source": [
    "## Filtering data set"
   ]
  },
  {
   "cell_type": "code",
   "execution_count": 4,
   "metadata": {},
   "outputs": [
    {
     "name": "stdout",
     "output_type": "stream",
     "text": [
      "1\n"
     ]
    }
   ],
   "source": [
    "from openff.evaluator.datasets.curation.components.filtering import FilterBySmiles, FilterBySmilesSchema\n",
    "\n",
    "data_set_sfe= FilterBySmiles.apply(\n",
    "    data_set_initial, FilterBySmilesSchema(smiles_to_include=['CCCCCC(=O)OC','O']))\n",
    "\n",
    "print(len(data_set_sfe))"
   ]
  },
  {
   "cell_type": "markdown",
   "metadata": {},
   "source": [
    "### Inspecting and saving new properties"
   ]
  },
  {
   "cell_type": "code",
   "execution_count": 5,
   "metadata": {},
   "outputs": [],
   "source": [
    "# save for future use\n",
    "data_set_path = Path('filtered_dataset_sfes.json')\n",
    "data_set_sfe.json(data_set_path, format=True)\n",
    "\n",
    "# inspect new properties\n",
    "pandas_data_set = data_set_sfe.to_pandas()\n"
   ]
  },
  {
   "cell_type": "code",
   "execution_count": 6,
   "metadata": {},
   "outputs": [
    {
     "data": {
      "text/html": [
       "<div>\n",
       "<style scoped>\n",
       "    .dataframe tbody tr th:only-of-type {\n",
       "        vertical-align: middle;\n",
       "    }\n",
       "\n",
       "    .dataframe tbody tr th {\n",
       "        vertical-align: top;\n",
       "    }\n",
       "\n",
       "    .dataframe thead th {\n",
       "        text-align: right;\n",
       "    }\n",
       "</style>\n",
       "<table border=\"1\" class=\"dataframe\">\n",
       "  <thead>\n",
       "    <tr style=\"text-align: right;\">\n",
       "      <th></th>\n",
       "      <th>Id</th>\n",
       "      <th>Temperature (K)</th>\n",
       "      <th>Pressure (kPa)</th>\n",
       "      <th>Phase</th>\n",
       "      <th>N Components</th>\n",
       "      <th>Component 1</th>\n",
       "      <th>Role 1</th>\n",
       "      <th>Mole Fraction 1</th>\n",
       "      <th>Exact Amount 1</th>\n",
       "      <th>Component 2</th>\n",
       "      <th>Role 2</th>\n",
       "      <th>Mole Fraction 2</th>\n",
       "      <th>Exact Amount 2</th>\n",
       "      <th>SolvationFreeEnergy Value (kJ / mol)</th>\n",
       "      <th>SolvationFreeEnergy Uncertainty (kJ / mol)</th>\n",
       "      <th>Source</th>\n",
       "    </tr>\n",
       "  </thead>\n",
       "  <tbody>\n",
       "    <tr>\n",
       "      <th>0</th>\n",
       "      <td>265c7378309c4355aa01d60af70d3fca</td>\n",
       "      <td>298.15</td>\n",
       "      <td>101.325</td>\n",
       "      <td>Liquid</td>\n",
       "      <td>2</td>\n",
       "      <td>O</td>\n",
       "      <td>Solvent</td>\n",
       "      <td>1.0</td>\n",
       "      <td>None</td>\n",
       "      <td>CCCCCC(=O)OC</td>\n",
       "      <td>Solute</td>\n",
       "      <td>None</td>\n",
       "      <td>1</td>\n",
       "      <td>-10.41816</td>\n",
       "      <td>2.5104</td>\n",
       "      <td>10.1021/ct050097l</td>\n",
       "    </tr>\n",
       "  </tbody>\n",
       "</table>\n",
       "</div>"
      ],
      "text/plain": [
       "                                 Id  Temperature (K)  Pressure (kPa)   Phase  \\\n",
       "0  265c7378309c4355aa01d60af70d3fca           298.15         101.325  Liquid   \n",
       "\n",
       "   N Components Component 1   Role 1  Mole Fraction 1 Exact Amount 1  \\\n",
       "0             2           O  Solvent              1.0           None   \n",
       "\n",
       "    Component 2  Role 2 Mole Fraction 2  Exact Amount 2  \\\n",
       "0  CCCCCC(=O)OC  Solute            None               1   \n",
       "\n",
       "   SolvationFreeEnergy Value (kJ / mol)  \\\n",
       "0                             -10.41816   \n",
       "\n",
       "   SolvationFreeEnergy Uncertainty (kJ / mol)             Source  \n",
       "0                                      2.5104  10.1021/ct050097l  "
      ]
     },
     "execution_count": 6,
     "metadata": {},
     "output_type": "execute_result"
    }
   ],
   "source": [
    "pandas_data_set"
   ]
  },
  {
   "cell_type": "markdown",
   "metadata": {},
   "source": [
    "# 2) Estimating Data Sets"
   ]
  },
  {
   "cell_type": "markdown",
   "metadata": {},
   "source": [
    "### Loading data set and FF parameters"
   ]
  },
  {
   "cell_type": "code",
   "execution_count": 7,
   "metadata": {},
   "outputs": [],
   "source": [
    "# load data\n",
    "data_set_path = Path('filtered_dataset_sfes.json')\n",
    "data_set = PhysicalPropertyDataSet.from_json(data_set_path)"
   ]
  },
  {
   "cell_type": "code",
   "execution_count": 8,
   "metadata": {},
   "outputs": [],
   "source": [
    "from openff.toolkit.typing.engines.smirnoff import forcefield, ForceField\n",
    "from openff.evaluator.forcefield import SmirnoffForceFieldSource"
   ]
  },
  {
   "cell_type": "code",
   "execution_count": 9,
   "metadata": {},
   "outputs": [],
   "source": [
    "# load FF\n",
    "ff_path = ForceField(\"openff-2.0.0.offxml\")\n",
    "force_field_source = SmirnoffForceFieldSource.from_object(ff_path)"
   ]
  },
  {
   "cell_type": "code",
   "execution_count": 10,
   "metadata": {},
   "outputs": [],
   "source": [
    "# ff_path=('openff-2.0.0.offxml', 'opc.offxml')"
   ]
  },
  {
   "cell_type": "code",
   "execution_count": 11,
   "metadata": {},
   "outputs": [],
   "source": [
    "# load FF\n",
    "# # Evaluator wants to work with a JSON file for the force field\n",
    "# force_field = ForceField('openff-2.0.0.offxml', 'opc.offxml')\n",
    "# # with open(\"force-field.json\", \"w\") as file:\n",
    "# #     file.write(SmirnoffForceFieldSource.from_object(force_field).json())\n",
    "\n",
    "# force_field_source = SmirnoffForceFieldSource.from_json(\"force-field.json\")"
   ]
  },
  {
   "cell_type": "markdown",
   "metadata": {},
   "source": [
    "### Defining Calculation Schemas"
   ]
  },
  {
   "cell_type": "code",
   "execution_count": 12,
   "metadata": {},
   "outputs": [],
   "source": [
    "from openff.evaluator.properties import Density, EnthalpyOfMixing,SolvationFreeEnergy\n",
    "from openff.evaluator.client import RequestOptions\n",
    "\n",
    "# density_schema = Density.default_simulation_schema(n_molecules=256)\n",
    "sfe_schema = SolvationFreeEnergy.default_simulation_schema(n_molecules=156)\n",
    "\n",
    "# Create an options object which defines how the data set should be estimated.\n",
    "estimation_options = RequestOptions()\n",
    "\n",
    "# Specify that we only wish to use molecular simulation to estimate the data set.\n",
    "estimation_options.calculation_layers = [\"SimulationLayer\"]\n",
    "\n",
    "# Add our custom schemas, specifying that the should be used by the 'SimulationLayer'\n",
    "estimation_options.add_schema(\"SimulationLayer\", \"SFE\", sfe_schema)"
   ]
  },
  {
   "cell_type": "markdown",
   "metadata": {},
   "source": [
    "## Launching a Server and Client"
   ]
  },
  {
   "cell_type": "code",
   "execution_count": 18,
   "metadata": {},
   "outputs": [],
   "source": [
    "from openff.evaluator.backends import ComputeResources\n",
    "from openff.evaluator.backends.dask import DaskLocalCluster\n",
    "from openff.evaluator.server import EvaluatorServer\n",
    "from openff.evaluator.client import EvaluatorClient\n",
    "from openff.evaluator.client import ConnectionOptions\n",
    "\n",
    "# define client to submit queries\n",
    "port = 8119\n",
    "evaluator_client = EvaluatorClient(ConnectionOptions(server_port=port))\n",
    "\n",
    "# define available / preferred resources\n",
    "os.environ[\"CUDA_VISIBLE_DEVICES\"] = \"0\"\n",
    "resources = ComputeResources(\n",
    "    number_of_threads=1,\n",
    "    number_of_gpus=1,\n",
    "    preferred_gpu_toolkit=ComputeResources.GPUToolkit.CUDA,\n",
    ")\n",
    "\n",
    "with DaskLocalCluster(number_of_workers=1, resources_per_worker=resources) as calculation_backend:\n",
    "    # spin up server\n",
    "    evaluator_server = EvaluatorServer(calculation_backend=calculation_backend, delete_working_files=False, port=port)\n",
    "    evaluator_server.start(asynchronous=True)\n",
    "\n",
    "    # estimate data set by submitting calculation schemas to newly-created server\n",
    "    request, exception = evaluator_client.request_estimate(\n",
    "        property_set=data_set,\n",
    "        force_field_source=force_field_source,\n",
    "        options=estimation_options,\n",
    "    )\n",
    "\n",
    "    # Wait for the results.\n",
    "    results, exception = request.results(synchronous=True, polling_interval=30)\n",
    "    assert exception is None"
   ]
  },
  {
   "cell_type": "code",
   "execution_count": 14,
   "metadata": {},
   "outputs": [
    {
     "name": "stdout",
     "output_type": "stream",
     "text": [
      "0\n",
      "0\n",
      "1\n",
      "1\n"
     ]
    }
   ],
   "source": [
    "print(len(results.queued_properties))\n",
    "\n",
    "print(len(results.estimated_properties))\n",
    "\n",
    "print(len(results.unsuccessful_properties))\n",
    "print(len(results.exceptions))"
   ]
  },
  {
   "cell_type": "code",
   "execution_count": 15,
   "metadata": {},
   "outputs": [
    {
     "name": "stdout",
     "output_type": "stream",
     "text": [
      "[WorkflowException(None)]\n"
     ]
    }
   ],
   "source": [
    "print(results.exceptions)"
   ]
  },
  {
   "cell_type": "code",
   "execution_count": 16,
   "metadata": {},
   "outputs": [
    {
     "data": {
      "text/plain": [
       "'{\\n  \"@type\": \"openff.evaluator.datasets.datasets.PhysicalPropertyDataSet\",\\n  \"properties\": []\\n}'"
      ]
     },
     "execution_count": 16,
     "metadata": {},
     "output_type": "execute_result"
    }
   ],
   "source": [
    "results.estimated_properties.json(\"estimated_dataset_hmix_dens.json\", format=True)"
   ]
  },
  {
   "cell_type": "markdown",
   "metadata": {},
   "source": [
    "## 3) Analysing Data Sets"
   ]
  },
  {
   "cell_type": "markdown",
   "metadata": {},
   "source": [
    "### Loading the Data Sets"
   ]
  },
  {
   "cell_type": "code",
   "execution_count": 17,
   "metadata": {},
   "outputs": [
    {
     "ename": "FileNotFoundError",
     "evalue": "[Errno 2] No such file or directory: 'filtered_dataset_hmix.json'",
     "output_type": "error",
     "traceback": [
      "\u001b[0;31m---------------------------------------------------------------------------\u001b[0m",
      "\u001b[0;31mFileNotFoundError\u001b[0m                         Traceback (most recent call last)",
      "Cell \u001b[0;32mIn[17], line 4\u001b[0m\n\u001b[1;32m      1\u001b[0m experimental_data_set_path \u001b[38;5;241m=\u001b[39m \u001b[38;5;124m\"\u001b[39m\u001b[38;5;124mfiltered_dataset_hmix.json\u001b[39m\u001b[38;5;124m\"\u001b[39m\n\u001b[1;32m      2\u001b[0m estimated_data_set_path \u001b[38;5;241m=\u001b[39m \u001b[38;5;124m\"\u001b[39m\u001b[38;5;124mestimated_dataset_hmix.json\u001b[39m\u001b[38;5;124m\"\u001b[39m\n\u001b[0;32m----> 4\u001b[0m experimental_data_set \u001b[38;5;241m=\u001b[39m \u001b[43mPhysicalPropertyDataSet\u001b[49m\u001b[38;5;241;43m.\u001b[39;49m\u001b[43mfrom_json\u001b[49m\u001b[43m(\u001b[49m\u001b[43mexperimental_data_set_path\u001b[49m\u001b[43m)\u001b[49m\n\u001b[1;32m      5\u001b[0m estimated_data_set \u001b[38;5;241m=\u001b[39m PhysicalPropertyDataSet\u001b[38;5;241m.\u001b[39mfrom_json(estimated_data_set_path)\n",
      "File \u001b[0;32m~/miniconda3/envs/old-evaluator-test5/lib/python3.9/site-packages/openff/evaluator/utils/serialization.py:520\u001b[0m, in \u001b[0;36mTypedBaseModel.from_json\u001b[0;34m(cls, file_path)\u001b[0m\n\u001b[1;32m    506\u001b[0m \u001b[38;5;129m@classmethod\u001b[39m\n\u001b[1;32m    507\u001b[0m \u001b[38;5;28;01mdef\u001b[39;00m \u001b[38;5;21mfrom_json\u001b[39m(\u001b[38;5;28mcls\u001b[39m, file_path):\n\u001b[1;32m    508\u001b[0m \u001b[38;5;250m    \u001b[39m\u001b[38;5;124;03m\"\"\"Create this object from a JSON file.\u001b[39;00m\n\u001b[1;32m    509\u001b[0m \n\u001b[1;32m    510\u001b[0m \u001b[38;5;124;03m    Parameters\u001b[39;00m\n\u001b[0;32m   (...)\u001b[0m\n\u001b[1;32m    518\u001b[0m \u001b[38;5;124;03m        The parsed class.\u001b[39;00m\n\u001b[1;32m    519\u001b[0m \u001b[38;5;124;03m    \"\"\"\u001b[39;00m\n\u001b[0;32m--> 520\u001b[0m     \u001b[38;5;28;01mwith\u001b[39;00m \u001b[38;5;28;43mopen\u001b[39;49m\u001b[43m(\u001b[49m\u001b[43mfile_path\u001b[49m\u001b[43m,\u001b[49m\u001b[43m \u001b[49m\u001b[38;5;124;43m\"\u001b[39;49m\u001b[38;5;124;43mr\u001b[39;49m\u001b[38;5;124;43m\"\u001b[39;49m\u001b[43m)\u001b[49m \u001b[38;5;28;01mas\u001b[39;00m file:\n\u001b[1;32m    521\u001b[0m         \u001b[38;5;28;01mreturn\u001b[39;00m \u001b[38;5;28mcls\u001b[39m\u001b[38;5;241m.\u001b[39mparse_json(file\u001b[38;5;241m.\u001b[39mread())\n",
      "\u001b[0;31mFileNotFoundError\u001b[0m: [Errno 2] No such file or directory: 'filtered_dataset_hmix.json'"
     ]
    }
   ],
   "source": [
    "experimental_data_set_path = \"filtered_dataset_hmix.json\"\n",
    "estimated_data_set_path = \"estimated_dataset_hmix.json\"\n",
    "\n",
    "experimental_data_set = PhysicalPropertyDataSet.from_json(experimental_data_set_path)\n",
    "estimated_data_set = PhysicalPropertyDataSet.from_json(estimated_data_set_path)"
   ]
  },
  {
   "cell_type": "code",
   "execution_count": null,
   "metadata": {},
   "outputs": [
    {
     "data": {
      "text/html": [
       "<div>\n",
       "<style scoped>\n",
       "    .dataframe tbody tr th:only-of-type {\n",
       "        vertical-align: middle;\n",
       "    }\n",
       "\n",
       "    .dataframe tbody tr th {\n",
       "        vertical-align: top;\n",
       "    }\n",
       "\n",
       "    .dataframe thead th {\n",
       "        text-align: right;\n",
       "    }\n",
       "</style>\n",
       "<table border=\"1\" class=\"dataframe\">\n",
       "  <thead>\n",
       "    <tr style=\"text-align: right;\">\n",
       "      <th></th>\n",
       "      <th>Id</th>\n",
       "      <th>Temperature (K)</th>\n",
       "      <th>Pressure (kPa)</th>\n",
       "      <th>Phase</th>\n",
       "      <th>N Components</th>\n",
       "      <th>Component 1</th>\n",
       "      <th>Role 1</th>\n",
       "      <th>Mole Fraction 1</th>\n",
       "      <th>Exact Amount 1</th>\n",
       "      <th>Component 2</th>\n",
       "      <th>Role 2</th>\n",
       "      <th>Mole Fraction 2</th>\n",
       "      <th>Exact Amount 2</th>\n",
       "      <th>EnthalpyOfMixing Value (kJ / mol)</th>\n",
       "      <th>EnthalpyOfMixing Uncertainty (kJ / mol)</th>\n",
       "      <th>Source</th>\n",
       "    </tr>\n",
       "  </thead>\n",
       "  <tbody>\n",
       "    <tr>\n",
       "      <th>0</th>\n",
       "      <td>6391</td>\n",
       "      <td>298.15</td>\n",
       "      <td>101.0</td>\n",
       "      <td>Liquid</td>\n",
       "      <td>2</td>\n",
       "      <td>CN(C)CCO</td>\n",
       "      <td>Solvent</td>\n",
       "      <td>0.2052</td>\n",
       "      <td>None</td>\n",
       "      <td>O</td>\n",
       "      <td>Solvent</td>\n",
       "      <td>0.7948</td>\n",
       "      <td>None</td>\n",
       "      <td>-2.587</td>\n",
       "      <td>None</td>\n",
       "      <td>10.1016/j.jct.2007.03.010</td>\n",
       "    </tr>\n",
       "    <tr>\n",
       "      <th>1</th>\n",
       "      <td>6392</td>\n",
       "      <td>298.15</td>\n",
       "      <td>101.0</td>\n",
       "      <td>Liquid</td>\n",
       "      <td>2</td>\n",
       "      <td>CN(C)CCO</td>\n",
       "      <td>Solvent</td>\n",
       "      <td>0.5365</td>\n",
       "      <td>None</td>\n",
       "      <td>O</td>\n",
       "      <td>Solvent</td>\n",
       "      <td>0.4635</td>\n",
       "      <td>None</td>\n",
       "      <td>-2.575</td>\n",
       "      <td>None</td>\n",
       "      <td>10.1016/j.jct.2007.03.010</td>\n",
       "    </tr>\n",
       "    <tr>\n",
       "      <th>2</th>\n",
       "      <td>6393</td>\n",
       "      <td>298.15</td>\n",
       "      <td>101.0</td>\n",
       "      <td>Liquid</td>\n",
       "      <td>2</td>\n",
       "      <td>CN(C)CCO</td>\n",
       "      <td>Solvent</td>\n",
       "      <td>0.7996</td>\n",
       "      <td>None</td>\n",
       "      <td>O</td>\n",
       "      <td>Solvent</td>\n",
       "      <td>0.2004</td>\n",
       "      <td>None</td>\n",
       "      <td>-1.247</td>\n",
       "      <td>None</td>\n",
       "      <td>10.1016/j.jct.2007.03.010</td>\n",
       "    </tr>\n",
       "    <tr>\n",
       "      <th>3</th>\n",
       "      <td>6395</td>\n",
       "      <td>303.15</td>\n",
       "      <td>100.0</td>\n",
       "      <td>Liquid</td>\n",
       "      <td>2</td>\n",
       "      <td>CCN(CC)CCO</td>\n",
       "      <td>Solvent</td>\n",
       "      <td>0.2008</td>\n",
       "      <td>None</td>\n",
       "      <td>O</td>\n",
       "      <td>Solvent</td>\n",
       "      <td>0.7992</td>\n",
       "      <td>None</td>\n",
       "      <td>-2.185</td>\n",
       "      <td>None</td>\n",
       "      <td>10.1016/j.jct.2015.04.030</td>\n",
       "    </tr>\n",
       "    <tr>\n",
       "      <th>4</th>\n",
       "      <td>6396</td>\n",
       "      <td>303.15</td>\n",
       "      <td>100.0</td>\n",
       "      <td>Liquid</td>\n",
       "      <td>2</td>\n",
       "      <td>CCN(CC)CCO</td>\n",
       "      <td>Solvent</td>\n",
       "      <td>0.5002</td>\n",
       "      <td>None</td>\n",
       "      <td>O</td>\n",
       "      <td>Solvent</td>\n",
       "      <td>0.4998</td>\n",
       "      <td>None</td>\n",
       "      <td>-2.504</td>\n",
       "      <td>None</td>\n",
       "      <td>10.1016/j.jct.2015.04.030</td>\n",
       "    </tr>\n",
       "  </tbody>\n",
       "</table>\n",
       "</div>"
      ],
      "text/plain": [
       "     Id  Temperature (K)  Pressure (kPa)   Phase  N Components Component 1  \\\n",
       "0  6391           298.15           101.0  Liquid             2    CN(C)CCO   \n",
       "1  6392           298.15           101.0  Liquid             2    CN(C)CCO   \n",
       "2  6393           298.15           101.0  Liquid             2    CN(C)CCO   \n",
       "3  6395           303.15           100.0  Liquid             2  CCN(CC)CCO   \n",
       "4  6396           303.15           100.0  Liquid             2  CCN(CC)CCO   \n",
       "\n",
       "    Role 1  Mole Fraction 1 Exact Amount 1 Component 2   Role 2  \\\n",
       "0  Solvent           0.2052           None           O  Solvent   \n",
       "1  Solvent           0.5365           None           O  Solvent   \n",
       "2  Solvent           0.7996           None           O  Solvent   \n",
       "3  Solvent           0.2008           None           O  Solvent   \n",
       "4  Solvent           0.5002           None           O  Solvent   \n",
       "\n",
       "   Mole Fraction 2 Exact Amount 2  EnthalpyOfMixing Value (kJ / mol)  \\\n",
       "0           0.7948           None                             -2.587   \n",
       "1           0.4635           None                             -2.575   \n",
       "2           0.2004           None                             -1.247   \n",
       "3           0.7992           None                             -2.185   \n",
       "4           0.4998           None                             -2.504   \n",
       "\n",
       "  EnthalpyOfMixing Uncertainty (kJ / mol)                     Source  \n",
       "0                                    None  10.1016/j.jct.2007.03.010  \n",
       "1                                    None  10.1016/j.jct.2007.03.010  \n",
       "2                                    None  10.1016/j.jct.2007.03.010  \n",
       "3                                    None  10.1016/j.jct.2015.04.030  \n",
       "4                                    None  10.1016/j.jct.2015.04.030  "
      ]
     },
     "execution_count": 25,
     "metadata": {},
     "output_type": "execute_result"
    }
   ],
   "source": [
    "experimental_data_set.to_pandas().head()"
   ]
  },
  {
   "cell_type": "code",
   "execution_count": null,
   "metadata": {},
   "outputs": [
    {
     "data": {
      "text/html": [
       "<div>\n",
       "<style scoped>\n",
       "    .dataframe tbody tr th:only-of-type {\n",
       "        vertical-align: middle;\n",
       "    }\n",
       "\n",
       "    .dataframe tbody tr th {\n",
       "        vertical-align: top;\n",
       "    }\n",
       "\n",
       "    .dataframe thead th {\n",
       "        text-align: right;\n",
       "    }\n",
       "</style>\n",
       "<table border=\"1\" class=\"dataframe\">\n",
       "  <thead>\n",
       "    <tr style=\"text-align: right;\">\n",
       "      <th></th>\n",
       "    </tr>\n",
       "  </thead>\n",
       "  <tbody>\n",
       "  </tbody>\n",
       "</table>\n",
       "</div>"
      ],
      "text/plain": [
       "Empty DataFrame\n",
       "Columns: []\n",
       "Index: []"
      ]
     },
     "execution_count": 26,
     "metadata": {},
     "output_type": "execute_result"
    }
   ],
   "source": [
    "estimated_data_set.to_pandas().head()"
   ]
  },
  {
   "cell_type": "code",
   "execution_count": null,
   "metadata": {},
   "outputs": [],
   "source": []
  }
 ],
 "metadata": {
  "kernelspec": {
   "display_name": "Python 3",
   "language": "python",
   "name": "python3"
  },
  "language_info": {
   "codemirror_mode": {
    "name": "ipython",
    "version": 3
   },
   "file_extension": ".py",
   "mimetype": "text/x-python",
   "name": "python",
   "nbconvert_exporter": "python",
   "pygments_lexer": "ipython3",
   "version": "3.9.2"
  },
  "orig_nbformat": 4
 },
 "nbformat": 4,
 "nbformat_minor": 2
}
