{
 "cells": [
  {
   "cell_type": "markdown",
   "metadata": {},
   "source": [
    "# Core Imports and Setup"
   ]
  },
  {
   "cell_type": "code",
   "execution_count": 1,
   "metadata": {},
   "outputs": [],
   "source": [
    "from openff import toolkit, evaluator\n",
    "from openff.toolkit.typing.engines.smirnoff import forcefield, ForceField\n",
    "from openff.evaluator.forcefield import SmirnoffForceFieldSource"
   ]
  },
  {
   "cell_type": "code",
   "execution_count": 2,
   "metadata": {},
   "outputs": [
    {
     "ename": "SMIRNOFFVersionError",
     "evalue": "SMIRNOFF offxml file was written with version 0.4, but this version of ForceField only supports version 0.3 to version 0.3",
     "output_type": "error",
     "traceback": [
      "\u001b[0;31m---------------------------------------------------------------------------\u001b[0m",
      "\u001b[0;31mTypeError\u001b[0m                                 Traceback (most recent call last)",
      "File \u001b[0;32m~/miniconda3/envs/old-evaluator-test3/lib/python3.9/site-packages/openff/toolkit/typing/engines/smirnoff/parameters.py:462\u001b[0m, in \u001b[0;36mParameterAttribute._call_converter\u001b[0;34m(self, value, instance)\u001b[0m\n\u001b[1;32m    460\u001b[0m \u001b[38;5;28;01mtry\u001b[39;00m:\n\u001b[1;32m    461\u001b[0m     \u001b[38;5;66;03m# Static function.\u001b[39;00m\n\u001b[0;32m--> 462\u001b[0m     \u001b[38;5;28;01mreturn\u001b[39;00m \u001b[38;5;28;43mself\u001b[39;49m\u001b[38;5;241;43m.\u001b[39;49m\u001b[43m_converter\u001b[49m\u001b[43m(\u001b[49m\u001b[43mvalue\u001b[49m\u001b[43m)\u001b[49m\n\u001b[1;32m    463\u001b[0m \u001b[38;5;28;01mexcept\u001b[39;00m \u001b[38;5;167;01mTypeError\u001b[39;00m:\n\u001b[1;32m    464\u001b[0m     \u001b[38;5;66;03m# Instance method.\u001b[39;00m\n",
      "\u001b[0;31mTypeError\u001b[0m: version() missing 2 required positional arguments: 'attr' and 'new_version'",
      "\nDuring handling of the above exception, another exception occurred:\n",
      "\u001b[0;31mSMIRNOFFVersionError\u001b[0m                      Traceback (most recent call last)",
      "Cell \u001b[0;32mIn[2], line 2\u001b[0m\n\u001b[1;32m      1\u001b[0m \u001b[38;5;66;03m### load FF\u001b[39;00m\n\u001b[0;32m----> 2\u001b[0m force_field_path \u001b[38;5;241m=\u001b[39m \u001b[43mForceField\u001b[49m\u001b[43m(\u001b[49m\u001b[38;5;124;43m\"\u001b[39;49m\u001b[38;5;124;43mopenff-2.0.0.offxml\u001b[39;49m\u001b[38;5;124;43m\"\u001b[39;49m\u001b[43m,\u001b[49m\u001b[38;5;124;43m\"\u001b[39;49m\u001b[38;5;124;43mtip3p.offxml\u001b[39;49m\u001b[38;5;124;43m\"\u001b[39;49m\u001b[43m)\u001b[49m\n\u001b[1;32m      3\u001b[0m force_field_source \u001b[38;5;241m=\u001b[39m SmirnoffForceFieldSource\u001b[38;5;241m.\u001b[39mfrom_object(force_field_path)\n",
      "File \u001b[0;32m~/miniconda3/envs/old-evaluator-test3/lib/python3.9/site-packages/openff/toolkit/typing/engines/smirnoff/forcefield.py:320\u001b[0m, in \u001b[0;36mForceField.__init__\u001b[0;34m(self, aromaticity_model, parameter_handler_classes, parameter_io_handler_classes, disable_version_check, allow_cosmetic_attributes, load_plugins, *sources)\u001b[0m\n\u001b[1;32m    317\u001b[0m \u001b[38;5;28mself\u001b[39m\u001b[38;5;241m.\u001b[39m_register_parameter_io_handler_classes(parameter_io_handler_classes)\n\u001b[1;32m    319\u001b[0m \u001b[38;5;66;03m# Parse all sources containing SMIRNOFF parameter definitions\u001b[39;00m\n\u001b[0;32m--> 320\u001b[0m \u001b[38;5;28;43mself\u001b[39;49m\u001b[38;5;241;43m.\u001b[39;49m\u001b[43mparse_sources\u001b[49m\u001b[43m(\u001b[49m\u001b[43msources\u001b[49m\u001b[43m,\u001b[49m\u001b[43m \u001b[49m\u001b[43mallow_cosmetic_attributes\u001b[49m\u001b[38;5;241;43m=\u001b[39;49m\u001b[43mallow_cosmetic_attributes\u001b[49m\u001b[43m)\u001b[49m\n",
      "File \u001b[0;32m~/miniconda3/envs/old-evaluator-test3/lib/python3.9/site-packages/openff/toolkit/typing/engines/smirnoff/forcefield.py:873\u001b[0m, in \u001b[0;36mForceField.parse_sources\u001b[0;34m(self, sources, allow_cosmetic_attributes)\u001b[0m\n\u001b[1;32m    871\u001b[0m \u001b[38;5;28;01mfor\u001b[39;00m source \u001b[38;5;129;01min\u001b[39;00m sources:\n\u001b[1;32m    872\u001b[0m     smirnoff_data \u001b[38;5;241m=\u001b[39m \u001b[38;5;28mself\u001b[39m\u001b[38;5;241m.\u001b[39mparse_smirnoff_from_source(source)\n\u001b[0;32m--> 873\u001b[0m     \u001b[38;5;28;43mself\u001b[39;49m\u001b[38;5;241;43m.\u001b[39;49m\u001b[43m_load_smirnoff_data\u001b[49m\u001b[43m(\u001b[49m\n\u001b[1;32m    874\u001b[0m \u001b[43m        \u001b[49m\u001b[43msmirnoff_data\u001b[49m\u001b[43m,\u001b[49m\u001b[43m \u001b[49m\u001b[43mallow_cosmetic_attributes\u001b[49m\u001b[38;5;241;43m=\u001b[39;49m\u001b[43mallow_cosmetic_attributes\u001b[49m\n\u001b[1;32m    875\u001b[0m \u001b[43m    \u001b[49m\u001b[43m)\u001b[49m\n",
      "File \u001b[0;32m~/miniconda3/envs/old-evaluator-test3/lib/python3.9/site-packages/openff/toolkit/typing/engines/smirnoff/forcefield.py:1027\u001b[0m, in \u001b[0;36mForceField._load_smirnoff_data\u001b[0;34m(self, smirnoff_data, allow_cosmetic_attributes)\u001b[0m\n\u001b[1;32m   1023\u001b[0m     parameter_list_dict \u001b[38;5;241m=\u001b[39m {parameter_list_tagname: parameter_list_dict}\n\u001b[1;32m   1025\u001b[0m \u001b[38;5;66;03m# Retrieve or create parameter handler, passing in section_dict to check for\u001b[39;00m\n\u001b[1;32m   1026\u001b[0m \u001b[38;5;66;03m# compatibility if a handler for this parameter name already exists\u001b[39;00m\n\u001b[0;32m-> 1027\u001b[0m handler \u001b[38;5;241m=\u001b[39m \u001b[38;5;28;43mself\u001b[39;49m\u001b[38;5;241;43m.\u001b[39;49m\u001b[43mget_parameter_handler\u001b[49m\u001b[43m(\u001b[49m\n\u001b[1;32m   1028\u001b[0m \u001b[43m    \u001b[49m\u001b[43mparameter_name\u001b[49m\u001b[43m,\u001b[49m\n\u001b[1;32m   1029\u001b[0m \u001b[43m    \u001b[49m\u001b[43msection_dict\u001b[49m\u001b[43m,\u001b[49m\n\u001b[1;32m   1030\u001b[0m \u001b[43m    \u001b[49m\u001b[43mallow_cosmetic_attributes\u001b[49m\u001b[38;5;241;43m=\u001b[39;49m\u001b[43mallow_cosmetic_attributes\u001b[49m\u001b[43m,\u001b[49m\n\u001b[1;32m   1031\u001b[0m \u001b[43m\u001b[49m\u001b[43m)\u001b[49m\n\u001b[1;32m   1032\u001b[0m handler\u001b[38;5;241m.\u001b[39m_add_parameters(\n\u001b[1;32m   1033\u001b[0m     parameter_list_dict, allow_cosmetic_attributes\u001b[38;5;241m=\u001b[39mallow_cosmetic_attributes\n\u001b[1;32m   1034\u001b[0m )\n",
      "File \u001b[0;32m~/miniconda3/envs/old-evaluator-test3/lib/python3.9/site-packages/openff/toolkit/typing/engines/smirnoff/forcefield.py:755\u001b[0m, in \u001b[0;36mForceField.get_parameter_handler\u001b[0;34m(self, tagname, handler_kwargs, allow_cosmetic_attributes)\u001b[0m\n\u001b[1;32m    752\u001b[0m \u001b[38;5;66;03m# If no handler kwargs were provided, skip the compatibility check\u001b[39;00m\n\u001b[1;32m    753\u001b[0m \u001b[38;5;28;01mif\u001b[39;00m handler_kwargs \u001b[38;5;241m!=\u001b[39m {}:\n\u001b[1;32m    754\u001b[0m     \u001b[38;5;66;03m# Initialize a new instance of this parameter handler class with the given kwargs\u001b[39;00m\n\u001b[0;32m--> 755\u001b[0m     new_handler \u001b[38;5;241m=\u001b[39m \u001b[43mph_class\u001b[49m\u001b[43m(\u001b[49m\n\u001b[1;32m    756\u001b[0m \u001b[43m        \u001b[49m\u001b[38;5;241;43m*\u001b[39;49m\u001b[38;5;241;43m*\u001b[39;49m\u001b[43mhandler_kwargs\u001b[49m\u001b[43m,\u001b[49m\n\u001b[1;32m    757\u001b[0m \u001b[43m        \u001b[49m\u001b[43mallow_cosmetic_attributes\u001b[49m\u001b[38;5;241;43m=\u001b[39;49m\u001b[43mallow_cosmetic_attributes\u001b[49m\u001b[43m,\u001b[49m\n\u001b[1;32m    758\u001b[0m \u001b[43m        \u001b[49m\u001b[43mskip_version_check\u001b[49m\u001b[38;5;241;43m=\u001b[39;49m\u001b[43mskip_version_check\u001b[49m\u001b[43m,\u001b[49m\n\u001b[1;32m    759\u001b[0m \u001b[43m    \u001b[49m\u001b[43m)\u001b[49m\n\u001b[1;32m    760\u001b[0m     old_handler\u001b[38;5;241m.\u001b[39mcheck_handler_compatibility(new_handler)\n\u001b[1;32m    761\u001b[0m return_handler \u001b[38;5;241m=\u001b[39m old_handler\n",
      "File \u001b[0;32m~/miniconda3/envs/old-evaluator-test3/lib/python3.9/site-packages/openff/toolkit/typing/engines/smirnoff/parameters.py:1925\u001b[0m, in \u001b[0;36mParameterHandler.__init__\u001b[0;34m(self, allow_cosmetic_attributes, skip_version_check, **kwargs)\u001b[0m\n\u001b[1;32m   1922\u001b[0m \u001b[38;5;28mself\u001b[39m\u001b[38;5;241m.\u001b[39m_parameters \u001b[38;5;241m=\u001b[39m ParameterList()\n\u001b[1;32m   1924\u001b[0m \u001b[38;5;66;03m# Initialize ParameterAttributes and cosmetic attributes.\u001b[39;00m\n\u001b[0;32m-> 1925\u001b[0m \u001b[38;5;28;43msuper\u001b[39;49m\u001b[43m(\u001b[49m\u001b[43m)\u001b[49m\u001b[38;5;241;43m.\u001b[39;49m\u001b[38;5;21;43m__init__\u001b[39;49m\u001b[43m(\u001b[49m\u001b[43mallow_cosmetic_attributes\u001b[49m\u001b[38;5;241;43m=\u001b[39;49m\u001b[43mallow_cosmetic_attributes\u001b[49m\u001b[43m,\u001b[49m\u001b[43m \u001b[49m\u001b[38;5;241;43m*\u001b[39;49m\u001b[38;5;241;43m*\u001b[39;49m\u001b[43mkwargs\u001b[49m\u001b[43m)\u001b[49m\n",
      "File \u001b[0;32m~/miniconda3/envs/old-evaluator-test3/lib/python3.9/site-packages/openff/toolkit/typing/engines/smirnoff/parameters.py:889\u001b[0m, in \u001b[0;36m_ParameterAttributeHandler.__init__\u001b[0;34m(self, allow_cosmetic_attributes, **kwargs)\u001b[0m\n\u001b[1;32m    887\u001b[0m \u001b[38;5;28;01mfor\u001b[39;00m key, val \u001b[38;5;129;01min\u001b[39;00m smirnoff_data\u001b[38;5;241m.\u001b[39mitems():\n\u001b[1;32m    888\u001b[0m     \u001b[38;5;28;01mif\u001b[39;00m key \u001b[38;5;129;01min\u001b[39;00m allowed_attributes:\n\u001b[0;32m--> 889\u001b[0m         \u001b[38;5;28;43msetattr\u001b[39;49m\u001b[43m(\u001b[49m\u001b[38;5;28;43mself\u001b[39;49m\u001b[43m,\u001b[49m\u001b[43m \u001b[49m\u001b[43mkey\u001b[49m\u001b[43m,\u001b[49m\u001b[43m \u001b[49m\u001b[43mval\u001b[49m\u001b[43m)\u001b[49m\n\u001b[1;32m    890\u001b[0m     \u001b[38;5;66;03m# Handle all unknown kwargs as cosmetic so we can write them back out\u001b[39;00m\n\u001b[1;32m    891\u001b[0m     \u001b[38;5;28;01melif\u001b[39;00m allow_cosmetic_attributes:\n",
      "File \u001b[0;32m~/miniconda3/envs/old-evaluator-test3/lib/python3.9/site-packages/openff/toolkit/typing/engines/smirnoff/parameters.py:1202\u001b[0m, in \u001b[0;36m_ParameterAttributeHandler.__setattr__\u001b[0;34m(self, key, value)\u001b[0m\n\u001b[1;32m   1197\u001b[0m         \u001b[38;5;28;01mraise\u001b[39;00m MissingIndexedAttributeError(\n\u001b[1;32m   1198\u001b[0m             \u001b[38;5;124mf\u001b[39m\u001b[38;5;124m\"\u001b[39m\u001b[38;5;124m'\u001b[39m\u001b[38;5;132;01m{\u001b[39;00mkey\u001b[38;5;132;01m}\u001b[39;00m\u001b[38;5;124m'\u001b[39m\u001b[38;5;124m is out of bounds for indexed attribute \u001b[39m\u001b[38;5;124m'\u001b[39m\u001b[38;5;132;01m{\u001b[39;00mattr_name\u001b[38;5;132;01m}\u001b[39;00m\u001b[38;5;124m'\u001b[39m\u001b[38;5;124m\"\u001b[39m\n\u001b[1;32m   1199\u001b[0m         )\n\u001b[1;32m   1201\u001b[0m \u001b[38;5;66;03m# Forward the request to the next class in the MRO.\u001b[39;00m\n\u001b[0;32m-> 1202\u001b[0m \u001b[38;5;28;43msuper\u001b[39;49m\u001b[43m(\u001b[49m\u001b[43m)\u001b[49m\u001b[38;5;241;43m.\u001b[39;49m\u001b[38;5;21;43m__setattr__\u001b[39;49m\u001b[43m(\u001b[49m\u001b[43mkey\u001b[49m\u001b[43m,\u001b[49m\u001b[43m \u001b[49m\u001b[43mvalue\u001b[49m\u001b[43m)\u001b[49m\n",
      "File \u001b[0;32m~/miniconda3/envs/old-evaluator-test3/lib/python3.9/site-packages/openff/toolkit/typing/engines/smirnoff/parameters.py:411\u001b[0m, in \u001b[0;36mParameterAttribute.__set__\u001b[0;34m(self, instance, value)\u001b[0m\n\u001b[1;32m    409\u001b[0m \u001b[38;5;28;01mdef\u001b[39;00m \u001b[38;5;21m__set__\u001b[39m(\u001b[38;5;28mself\u001b[39m, instance, value):\n\u001b[1;32m    410\u001b[0m     \u001b[38;5;66;03m# Convert and validate the value.\u001b[39;00m\n\u001b[0;32m--> 411\u001b[0m     value \u001b[38;5;241m=\u001b[39m \u001b[38;5;28;43mself\u001b[39;49m\u001b[38;5;241;43m.\u001b[39;49m\u001b[43m_convert_and_validate\u001b[49m\u001b[43m(\u001b[49m\u001b[43minstance\u001b[49m\u001b[43m,\u001b[49m\u001b[43m \u001b[49m\u001b[43mvalue\u001b[49m\u001b[43m)\u001b[49m\n\u001b[1;32m    412\u001b[0m     \u001b[38;5;28msetattr\u001b[39m(instance, \u001b[38;5;28mself\u001b[39m\u001b[38;5;241m.\u001b[39m_name, value)\n",
      "File \u001b[0;32m~/miniconda3/envs/old-evaluator-test3/lib/python3.9/site-packages/openff/toolkit/typing/engines/smirnoff/parameters.py:429\u001b[0m, in \u001b[0;36mParameterAttribute._convert_and_validate\u001b[0;34m(self, instance, value)\u001b[0m\n\u001b[1;32m    427\u001b[0m value \u001b[38;5;241m=\u001b[39m \u001b[38;5;28mself\u001b[39m\u001b[38;5;241m.\u001b[39m_validate_units(value)\n\u001b[1;32m    428\u001b[0m \u001b[38;5;66;03m# Call the custom converter before setting the value.\u001b[39;00m\n\u001b[0;32m--> 429\u001b[0m value \u001b[38;5;241m=\u001b[39m \u001b[38;5;28;43mself\u001b[39;49m\u001b[38;5;241;43m.\u001b[39;49m\u001b[43m_call_converter\u001b[49m\u001b[43m(\u001b[49m\u001b[43mvalue\u001b[49m\u001b[43m,\u001b[49m\u001b[43m \u001b[49m\u001b[43minstance\u001b[49m\u001b[43m)\u001b[49m\n\u001b[1;32m    430\u001b[0m \u001b[38;5;28;01mreturn\u001b[39;00m value\n",
      "File \u001b[0;32m~/miniconda3/envs/old-evaluator-test3/lib/python3.9/site-packages/openff/toolkit/typing/engines/smirnoff/parameters.py:465\u001b[0m, in \u001b[0;36mParameterAttribute._call_converter\u001b[0;34m(self, value, instance)\u001b[0m\n\u001b[1;32m    462\u001b[0m         \u001b[38;5;28;01mreturn\u001b[39;00m \u001b[38;5;28mself\u001b[39m\u001b[38;5;241m.\u001b[39m_converter(value)\n\u001b[1;32m    463\u001b[0m     \u001b[38;5;28;01mexcept\u001b[39;00m \u001b[38;5;167;01mTypeError\u001b[39;00m:\n\u001b[1;32m    464\u001b[0m         \u001b[38;5;66;03m# Instance method.\u001b[39;00m\n\u001b[0;32m--> 465\u001b[0m         \u001b[38;5;28;01mreturn\u001b[39;00m \u001b[38;5;28;43mself\u001b[39;49m\u001b[38;5;241;43m.\u001b[39;49m\u001b[43m_converter\u001b[49m\u001b[43m(\u001b[49m\u001b[43minstance\u001b[49m\u001b[43m,\u001b[49m\u001b[43m \u001b[49m\u001b[38;5;28;43mself\u001b[39;49m\u001b[43m,\u001b[49m\u001b[43m \u001b[49m\u001b[43mvalue\u001b[49m\u001b[43m)\u001b[49m\n\u001b[1;32m    466\u001b[0m \u001b[38;5;28;01mreturn\u001b[39;00m value\n",
      "File \u001b[0;32m~/miniconda3/envs/old-evaluator-test3/lib/python3.9/site-packages/openff/toolkit/typing/engines/smirnoff/parameters.py:1886\u001b[0m, in \u001b[0;36mParameterHandler.version\u001b[0;34m(self, attr, new_version)\u001b[0m\n\u001b[1;32m   1878\u001b[0m \u001b[38;5;66;03m# Use PEP-440 compliant version number comparison, if requested\u001b[39;00m\n\u001b[1;32m   1879\u001b[0m \u001b[38;5;28;01mif\u001b[39;00m (\n\u001b[1;32m   1880\u001b[0m     packaging\u001b[38;5;241m.\u001b[39mversion\u001b[38;5;241m.\u001b[39mparse(\u001b[38;5;28mstr\u001b[39m(new_version))\n\u001b[1;32m   1881\u001b[0m     \u001b[38;5;241m>\u001b[39m packaging\u001b[38;5;241m.\u001b[39mversion\u001b[38;5;241m.\u001b[39mparse(\u001b[38;5;28mstr\u001b[39m(\u001b[38;5;28mself\u001b[39m\u001b[38;5;241m.\u001b[39m_MAX_SUPPORTED_SECTION_VERSION))\n\u001b[0;32m   (...)\u001b[0m\n\u001b[1;32m   1884\u001b[0m     \u001b[38;5;241m<\u001b[39m packaging\u001b[38;5;241m.\u001b[39mversion\u001b[38;5;241m.\u001b[39mparse(\u001b[38;5;28mstr\u001b[39m(\u001b[38;5;28mself\u001b[39m\u001b[38;5;241m.\u001b[39m_MIN_SUPPORTED_SECTION_VERSION))\n\u001b[1;32m   1885\u001b[0m ):\n\u001b[0;32m-> 1886\u001b[0m     \u001b[38;5;28;01mraise\u001b[39;00m SMIRNOFFVersionError(\n\u001b[1;32m   1887\u001b[0m         \u001b[38;5;124mf\u001b[39m\u001b[38;5;124m\"\u001b[39m\u001b[38;5;124mSMIRNOFF offxml file was written with version \u001b[39m\u001b[38;5;132;01m{\u001b[39;00mnew_version\u001b[38;5;132;01m}\u001b[39;00m\u001b[38;5;124m, but this version \u001b[39m\u001b[38;5;124m\"\u001b[39m\n\u001b[1;32m   1888\u001b[0m         \u001b[38;5;124mf\u001b[39m\u001b[38;5;124m\"\u001b[39m\u001b[38;5;124mof ForceField only supports version \u001b[39m\u001b[38;5;132;01m{\u001b[39;00m\u001b[38;5;28mself\u001b[39m\u001b[38;5;241m.\u001b[39m_MIN_SUPPORTED_SECTION_VERSION\u001b[38;5;132;01m}\u001b[39;00m\u001b[38;5;124m \u001b[39m\u001b[38;5;124m\"\u001b[39m\n\u001b[1;32m   1889\u001b[0m         \u001b[38;5;124mf\u001b[39m\u001b[38;5;124m\"\u001b[39m\u001b[38;5;124mto version \u001b[39m\u001b[38;5;132;01m{\u001b[39;00m\u001b[38;5;28mself\u001b[39m\u001b[38;5;241m.\u001b[39m_MAX_SUPPORTED_SECTION_VERSION\u001b[38;5;132;01m}\u001b[39;00m\u001b[38;5;124m\"\u001b[39m\n\u001b[1;32m   1890\u001b[0m     )\n\u001b[1;32m   1891\u001b[0m \u001b[38;5;28;01mreturn\u001b[39;00m new_version\n",
      "\u001b[0;31mSMIRNOFFVersionError\u001b[0m: SMIRNOFF offxml file was written with version 0.4, but this version of ForceField only supports version 0.3 to version 0.3"
     ]
    }
   ],
   "source": [
    "### load FF\n",
    "force_field_path = ForceField(\"openff-2.0.0.offxml\",\"tip3p.offxml\")\n",
    "force_field_source = SmirnoffForceFieldSource.from_object(force_field_path)"
   ]
  },
  {
   "cell_type": "code",
   "execution_count": null,
   "metadata": {},
   "outputs": [],
   "source": []
  },
  {
   "cell_type": "code",
   "execution_count": null,
   "metadata": {},
   "outputs": [],
   "source": []
  }
 ],
 "metadata": {
  "kernelspec": {
   "display_name": "Python 3",
   "language": "python",
   "name": "python3"
  },
  "language_info": {
   "codemirror_mode": {
    "name": "ipython",
    "version": 3
   },
   "file_extension": ".py",
   "mimetype": "text/x-python",
   "name": "python",
   "nbconvert_exporter": "python",
   "pygments_lexer": "ipython3",
   "version": "3.9.0"
  },
  "orig_nbformat": 4
 },
 "nbformat": 4,
 "nbformat_minor": 2
}
