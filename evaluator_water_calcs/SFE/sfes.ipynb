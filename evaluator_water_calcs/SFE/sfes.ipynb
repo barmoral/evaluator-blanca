{
 "cells": [
  {
   "cell_type": "markdown",
   "id": "02475179-e706-4139-a6f4-45527db12ed7",
   "metadata": {},
   "source": [
    "# SFEs"
   ]
  },
  {
   "cell_type": "code",
   "execution_count": 1,
   "id": "f220691f-a23a-4e85-967b-93ea4b68697c",
   "metadata": {},
   "outputs": [],
   "source": [
    "# set up force field as per usual\n",
    "\n",
    "from openff.evaluator.forcefield import SmirnoffForceFieldSource\n",
    "\n",
    "force_field_path = \"openff-2.0.0.offxml\"\n",
    "force_field_source = SmirnoffForceFieldSource.from_path(force_field_path)"
   ]
  },
  {
   "cell_type": "code",
   "execution_count": 2,
   "id": "637cb5d9-f4bf-4616-a4e1-ed636be2a65a",
   "metadata": {},
   "outputs": [
    {
     "name": "stderr",
     "output_type": "stream",
     "text": [
      "/home/bamo6610/miniconda3/envs/openff-sage/lib/python3.9/site-packages/cmiles/_cmiles_rd.py:349: UserWarning: Stereochemistry is unspecified. Problematic atoms [(4, 'C'), (5, 'C'), (8, 'C'), (14, 'C')], problematic bonds []\n",
      "  warnings.warn(\"Stereochemistry is unspecified. Problematic atoms {}, problematic bonds {}\".format(\n"
     ]
    }
   ],
   "source": [
    "# set up dataset\n",
    "\n",
    "from openff.evaluator.datasets import PhysicalPropertyDataSet\n",
    "dataset = PhysicalPropertyDataSet.from_json(\"freesolv.json\")"
   ]
  },
  {
   "cell_type": "code",
   "execution_count": 3,
   "id": "84a296ac-3d9e-457b-ae7e-5e6ab70b5fe6",
   "metadata": {},
   "outputs": [],
   "source": [
    "dataset._properties = dataset.properties[:1] # shrink to 1 property"
   ]
  },
  {
   "cell_type": "code",
   "execution_count": 4,
   "id": "8b1d0ff7-4cdc-4bae-bca6-003f6838cf09",
   "metadata": {},
   "outputs": [
    {
     "data": {
      "text/plain": [
       "<openff.evaluator.properties.solvation.SolvationFreeEnergy at 0x7f4aa63edf10>"
      ]
     },
     "execution_count": 4,
     "metadata": {},
     "output_type": "execute_result"
    }
   ],
   "source": [
    "dataset.properties[0]"
   ]
  },
  {
   "cell_type": "code",
   "execution_count": 6,
   "id": "e3985df5",
   "metadata": {},
   "outputs": [
    {
     "data": {
      "text/plain": [
       "<bound method PhysicalPropertyDataSet.properties_by_substance of <PhysicalPropertyDataSet n_properties=1 n_substances=1 n_sources=1>>"
      ]
     },
     "execution_count": 6,
     "metadata": {},
     "output_type": "execute_result"
    }
   ],
   "source": [
    "dataset.properties_by_substance"
   ]
  },
  {
   "cell_type": "code",
   "execution_count": 5,
   "id": "33065607-8849-4e40-9465-fa8087c6a5c9",
   "metadata": {},
   "outputs": [],
   "source": [
    "# set up dask local cluster etc\n",
    "\n",
    "import os\n",
    "\n",
    "from openff.evaluator.backends import ComputeResources\n",
    "from openff.evaluator.backends.dask import DaskLocalCluster\n",
    "\n",
    "os.environ[\"CUDA_VISIBLE_DEVICES\"] = \"0\"\n",
    "\n",
    "calculation_backend = DaskLocalCluster(\n",
    "    number_of_workers=1,\n",
    "    resources_per_worker=ComputeResources(\n",
    "        number_of_threads=1,\n",
    "        number_of_gpus=1,\n",
    "        preferred_gpu_toolkit=ComputeResources.GPUToolkit.CUDA,\n",
    "    ),\n",
    ")\n",
    "calculation_backend.start()\n"
   ]
  },
  {
   "cell_type": "code",
   "execution_count": 6,
   "id": "b8db35dd-638a-4d3a-bb15-1cecfd37a736",
   "metadata": {},
   "outputs": [],
   "source": [
    "# set up server\n",
    "\n",
    "from openff.evaluator.server import EvaluatorServer\n",
    "\n",
    "evaluator_server = EvaluatorServer(calculation_backend=calculation_backend)\n",
    "evaluator_server.start(asynchronous=True)"
   ]
  },
  {
   "cell_type": "code",
   "execution_count": 7,
   "id": "768c15b9-aa77-4d41-91b0-83fd5950d872",
   "metadata": {},
   "outputs": [
    {
     "name": "stderr",
     "output_type": "stream",
     "text": [
      "/Users/lily/micromamba/envs/openff-sage/lib/python3.9/site-packages/openff/units/openmm.py:13: UserWarning: Found units module in simtk namespace, not openmm. Use openff.units.simtk instead.\n",
      "  warnings.warn(\n",
      "/Users/lily/micromamba/envs/openff-sage/lib/python3.9/site-packages/openff/units/openmm.py:13: UserWarning: Found units module in simtk namespace, not openmm. Use openff.units.simtk instead.\n",
      "  warnings.warn(\n",
      "/Users/lily/micromamba/envs/openff-sage/lib/python3.9/site-packages/openff/units/openmm.py:13: UserWarning: Found units module in simtk namespace, not openmm. Use openff.units.simtk instead.\n",
      "  warnings.warn(\n",
      "/Users/lily/micromamba/envs/openff-sage/lib/python3.9/site-packages/openff/units/openmm.py:13: UserWarning: Found units module in simtk namespace, not openmm. Use openff.units.simtk instead.\n",
      "  warnings.warn(\n",
      "/Users/lily/micromamba/envs/openff-sage/lib/python3.9/site-packages/openff/units/openmm.py:13: UserWarning: Found units module in simtk namespace, not openmm. Use openff.units.simtk instead.\n",
      "  warnings.warn(\n",
      "Warning: Unable to load toolkit 'AmberTools'. \n",
      "/Users/lily/micromamba/envs/openff-sage/lib/python3.9/site-packages/openff/units/openmm.py:13: UserWarning: Found units module in simtk namespace, not openmm. Use openff.units.simtk instead.\n",
      "  warnings.warn(\n",
      "/Users/lily/micromamba/envs/openff-sage/lib/python3.9/site-packages/openff/units/openmm.py:13: UserWarning: Found units module in simtk namespace, not openmm. Use openff.units.simtk instead.\n",
      "  warnings.warn(\n",
      "Warning: Unable to load toolkit 'AmberTools'. \n",
      "/Users/lily/micromamba/envs/openff-sage/lib/python3.9/site-packages/openff/units/openmm.py:13: UserWarning: Found units module in simtk namespace, not openmm. Use openff.units.simtk instead.\n",
      "  warnings.warn(\n",
      "/Users/lily/micromamba/envs/openff-sage/lib/python3.9/site-packages/openff/units/openmm.py:13: UserWarning: Found units module in simtk namespace, not openmm. Use openff.units.simtk instead.\n",
      "  warnings.warn(\n",
      "/Users/lily/micromamba/envs/openff-sage/lib/python3.9/site-packages/openff/units/openmm.py:13: UserWarning: Found units module in simtk namespace, not openmm. Use openff.units.simtk instead.\n",
      "  warnings.warn(\n",
      "/Users/lily/micromamba/envs/openff-sage/lib/python3.9/site-packages/openff/units/openmm.py:13: UserWarning: Found units module in simtk namespace, not openmm. Use openff.units.simtk instead.\n",
      "  warnings.warn(\n",
      "/Users/lily/micromamba/envs/openff-sage/lib/python3.9/site-packages/openff/units/openmm.py:13: UserWarning: Found units module in simtk namespace, not openmm. Use openff.units.simtk instead.\n",
      "  warnings.warn(\n",
      "/Users/lily/micromamba/envs/openff-sage/lib/python3.9/site-packages/openff/units/openmm.py:13: UserWarning: Found units module in simtk namespace, not openmm. Use openff.units.simtk instead.\n",
      "  warnings.warn(\n",
      "/Users/lily/micromamba/envs/openff-sage/lib/python3.9/site-packages/openff/units/openmm.py:13: UserWarning: Found units module in simtk namespace, not openmm. Use openff.units.simtk instead.\n",
      "  warnings.warn(\n",
      "/Users/lily/micromamba/envs/openff-sage/lib/python3.9/site-packages/openff/units/openmm.py:13: UserWarning: Found units module in simtk namespace, not openmm. Use openff.units.simtk instead.\n",
      "  warnings.warn(\n",
      "/Users/lily/micromamba/envs/openff-sage/lib/python3.9/site-packages/openff/units/openmm.py:13: UserWarning: Found units module in simtk namespace, not openmm. Use openff.units.simtk instead.\n",
      "  warnings.warn(\n",
      "/Users/lily/micromamba/envs/openff-sage/lib/python3.9/site-packages/openff/units/openmm.py:13: UserWarning: Found units module in simtk namespace, not openmm. Use openff.units.simtk instead.\n",
      "  warnings.warn(\n"
     ]
    }
   ],
   "source": [
    "from openff.evaluator.client import EvaluatorClient\n",
    "\n",
    "evaluator_client = EvaluatorClient()\n",
    "\n",
    "request, exception = evaluator_client.request_estimate(\n",
    "    property_set=dataset,\n",
    "    force_field_source=force_field_source,\n",
    "    # options=estimation_options,\n",
    ")\n",
    "\n",
    "assert exception is None"
   ]
  },
  {
   "cell_type": "code",
   "execution_count": 8,
   "id": "cb5cebb7-26e0-470e-982f-9d9e38c16740",
   "metadata": {},
   "outputs": [],
   "source": [
    "results, exception = request.results(synchronous=True, polling_interval=30)\n",
    "assert exception is None"
   ]
  },
  {
   "cell_type": "code",
   "execution_count": null,
   "id": "23d17d66-61c1-4957-acf3-c2197b753e29",
   "metadata": {},
   "outputs": [],
   "source": []
  }
 ],
 "metadata": {
  "kernelspec": {
   "display_name": "openff-sage",
   "language": "python",
   "name": "python3"
  },
  "language_info": {
   "codemirror_mode": {
    "name": "ipython",
    "version": 3
   },
   "file_extension": ".py",
   "mimetype": "text/x-python",
   "name": "python",
   "nbconvert_exporter": "python",
   "pygments_lexer": "ipython3",
   "version": "3.9.18"
  }
 },
 "nbformat": 4,
 "nbformat_minor": 5
}
