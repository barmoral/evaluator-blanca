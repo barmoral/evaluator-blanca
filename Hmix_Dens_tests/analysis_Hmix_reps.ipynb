{
 "cells": [
  {
   "cell_type": "code",
   "execution_count": 1,
   "metadata": {},
   "outputs": [],
   "source": [
    "import numpy as np\n",
    "import pandas as pd\n",
    "import json\n",
    "import os"
   ]
  },
  {
   "cell_type": "code",
   "execution_count": 2,
   "metadata": {},
   "outputs": [
    {
     "name": "stdout",
     "output_type": "stream",
     "text": [
      "Data from 500_r1 loaded successfully into dataframe: 500_r1\n",
      "Data from 500_r2 loaded successfully into dataframe: 500_r2\n",
      "Data from 500_r3 loaded successfully into dataframe: 500_r3\n",
      "Data from 500_r4 loaded successfully into dataframe: 500_r4\n",
      "Data from 500_r5 loaded successfully into dataframe: 500_r5\n",
      "Data from 500_r6 loaded successfully into dataframe: 500_r6\n",
      "Dataframe 'df_500_r1':\n",
      "   #\"Step\"  Potential Energy (kJ/mole)  Kinetic Energy (kJ/mole)  \\\n",
      "0     2000                33560.084365              19377.997873   \n",
      "1     4000                33315.971654              19745.349717   \n",
      "2     6000                33494.813067              20222.252227   \n",
      "3     8000                33495.881493              19990.496594   \n",
      "4    10000                33222.176093              19843.434133   \n",
      "\n",
      "   Total Energy (kJ/mole)  Temperature (K)  Box Volume (nm^3)  Density (g/mL)  \\\n",
      "0            52938.082238       287.201163          63.771038        1.071383   \n",
      "1            53061.321371       292.645682          63.629724        1.073762   \n",
      "2            53717.065293       299.713851          63.308720        1.079207   \n",
      "3            53486.378087       296.279002          63.683392        1.072857   \n",
      "4            53065.610226       294.099391          63.149318        1.081931   \n",
      "\n",
      "   Speed (ns/day)  \n",
      "0               0  \n",
      "1             463  \n",
      "2             465  \n",
      "3             465  \n",
      "4             465  \n",
      "Dataframe 'df_500_r2':\n",
      "   #\"Step\"  Potential Energy (kJ/mole)  Kinetic Energy (kJ/mole)  \\\n",
      "0     2000                33331.336437              19954.035487   \n",
      "1     4000                33567.264662              19824.346810   \n",
      "2     6000                33136.923925              19538.115369   \n",
      "3     8000                32967.047427              19632.878463   \n",
      "4    10000                33156.202085              19624.056210   \n",
      "\n",
      "   Total Energy (kJ/mole)  Temperature (K)  Box Volume (nm^3)  Density (g/mL)  \\\n",
      "0            53285.371924       295.738613          62.899091        1.086235   \n",
      "1            53391.611472       293.816498          63.062041        1.083428   \n",
      "2            52675.039294       289.574264          62.933908        1.085634   \n",
      "3            52599.925890       290.978747          62.484306        1.093446   \n",
      "4            52780.258294       290.847992          62.781746        1.088265   \n",
      "\n",
      "   Speed (ns/day)  \n",
      "0               0  \n",
      "1             466  \n",
      "2             465  \n",
      "3             467  \n",
      "4             467  \n",
      "Dataframe 'df_500_r3':\n",
      "   #\"Step\"  Potential Energy (kJ/mole)  Kinetic Energy (kJ/mole)  \\\n",
      "0     2000                33916.829201              19460.692417   \n",
      "1     4000                32990.843139              19538.561496   \n",
      "2     6000                33295.627496              19744.157086   \n",
      "3     8000                33162.286544              19954.271906   \n",
      "4    10000                33694.587740              19930.786974   \n",
      "\n",
      "   Total Energy (kJ/mole)  Temperature (K)  Box Volume (nm^3)  Density (g/mL)  \\\n",
      "0            53377.521618       288.426779          63.476907        1.076347   \n",
      "1            52529.404635       289.580876          62.912758        1.085999   \n",
      "2            53039.784582       292.628006          63.458255        1.076664   \n",
      "3            53116.558451       295.742116          63.256285        1.080101   \n",
      "4            53625.374714       295.394046          63.150527        1.081910   \n",
      "\n",
      "   Speed (ns/day)  \n",
      "0               0  \n",
      "1             442  \n",
      "2             455  \n",
      "3             460  \n",
      "4             461  \n",
      "Dataframe 'df_500_r4':\n",
      "   #\"Step\"  Potential Energy (kJ/mole)  Kinetic Energy (kJ/mole)  \\\n",
      "0     2000                33644.452502              19455.135004   \n",
      "1     4000                33571.527512              19646.019080   \n",
      "2     6000                33179.681982              19880.924289   \n",
      "3     8000                33242.899068              19432.753313   \n",
      "4    10000                33539.635503              19377.089401   \n",
      "\n",
      "   Total Energy (kJ/mole)  Temperature (K)  Box Volume (nm^3)  Density (g/mL)  \\\n",
      "0            53099.587506       288.344412          62.711959        1.089476   \n",
      "1            53217.546592       291.173504          63.033920        1.083911   \n",
      "2            53060.606271       294.655032          62.360739        1.095612   \n",
      "3            52675.652381       288.012693          62.946586        1.085415   \n",
      "4            52916.724905       287.187699          62.732407        1.089121   \n",
      "\n",
      "   Speed (ns/day)  \n",
      "0               0  \n",
      "1             464  \n",
      "2             465  \n",
      "3             466  \n",
      "4             467  \n",
      "Dataframe 'df_500_r5':\n",
      "   #\"Step\"  Potential Energy (kJ/mole)  Kinetic Energy (kJ/mole)  \\\n",
      "0     2000                33136.982529              20037.366700   \n",
      "1     4000                33473.582428              19608.507992   \n",
      "2     6000                33299.091302              19912.667595   \n",
      "3     8000                33261.983077              19286.938652   \n",
      "4    10000                33436.593192              19348.034388   \n",
      "\n",
      "   Total Energy (kJ/mole)  Temperature (K)  Box Volume (nm^3)  Density (g/mL)  \\\n",
      "0            53174.349229       296.973664          62.817293        1.087649   \n",
      "1            53082.090420       290.617552          62.990991        1.084650   \n",
      "2            53211.758897       295.125499          62.814850        1.087692   \n",
      "3            52548.921729       285.851575          62.542994        1.092420   \n",
      "4            52784.627580       286.757075          62.611577        1.091223   \n",
      "\n",
      "   Speed (ns/day)  \n",
      "0               0  \n",
      "1             466  \n",
      "2             465  \n",
      "3             464  \n",
      "4             464  \n",
      "Dataframe 'df_500_r6':\n",
      "   #\"Step\"  Potential Energy (kJ/mole)  Kinetic Energy (kJ/mole)  \\\n",
      "0     2000                32917.645432              19572.621845   \n",
      "1     4000                33178.618286              19533.264529   \n",
      "2     6000                33729.295748              19595.516824   \n",
      "3     8000                33345.492307              19676.337660   \n",
      "4    10000                33682.119266              19565.670729   \n",
      "\n",
      "   Total Energy (kJ/mole)  Temperature (K)  Box Volume (nm^3)  Density (g/mL)  \\\n",
      "0            52490.267277       290.085684          62.122906        1.099807   \n",
      "1            52711.882815       289.502369          62.051473        1.101073   \n",
      "2            53324.812572       290.425010          62.288807        1.096877   \n",
      "3            53021.829967       291.622855          61.873028        1.104248   \n",
      "4            53247.789995       289.982661          61.943563        1.102991   \n",
      "\n",
      "   Speed (ns/day)  \n",
      "0               0  \n",
      "1             448  \n",
      "2             447  \n",
      "3             448  \n",
      "4             447  \n"
     ]
    }
   ],
   "source": [
    "# Specify the subdirectories you want to loop through\n",
    "subdirs = ['500_r1', '500_r2', '500_r3', '500_r4', '500_r5', '500_r6']  # List of subdirectories you want to loop through\n",
    "dataframes = {}  # Dictionary to store dataframes\n",
    "\n",
    "# Loop through each subdirectory\n",
    "for subdir in subdirs:\n",
    "    # Construct the path to the CSV file (assuming the CSV has the same name as the subdir)\n",
    "    csv_file_path = os.path.join(os.getcwd(), subdir, f'openmm_statistics.csv')\n",
    "\n",
    "    # Read the CSV into a pandas dataframe\n",
    "    if os.path.exists(csv_file_path):\n",
    "        df = pd.read_csv(csv_file_path)\n",
    "        # Store the dataframe with a unique name (using the subdirectory name)\n",
    "        dataframes[f'df_{subdir}'] = df\n",
    "        print(f\"Data from {subdir} loaded successfully into dataframe: {subdir}\")\n",
    "    else:\n",
    "        print(f\"CSV file not found in {subdir}\")\n",
    "\n",
    "# Access the dataframes\n",
    "for name, df in dataframes.items():\n",
    "    print(f\"Dataframe '{name}':\")\n",
    "    print(df.head())"
   ]
  },
  {
   "cell_type": "code",
   "execution_count": 3,
   "metadata": {},
   "outputs": [],
   "source": [
    "means_500_r1 = dataframes['df_500_r1'].mean()\n",
    "means_500_r2 = dataframes['df_500_r2'].mean()\n",
    "means_500_r3 = dataframes['df_500_r3'].mean()\n",
    "means_500_r4 = dataframes['df_500_r4'].mean()\n",
    "means_500_r5 = dataframes['df_500_r5'].mean()\n",
    "means_500_r6 = dataframes['df_500_r6'].mean()"
   ]
  },
  {
   "cell_type": "code",
   "execution_count": 4,
   "metadata": {},
   "outputs": [],
   "source": [
    "means_500_dict={}\n",
    "means_500_dict['rep1']=means_500_r1\n",
    "means_500_dict['rep2']=means_500_r2\n",
    "means_500_dict['rep3']=means_500_r3\n",
    "means_500_dict['rep4']=means_500_r4\n",
    "means_500_dict['rep5']=means_500_r5\n",
    "means_500_dict['rep6']=means_500_r6"
   ]
  },
  {
   "cell_type": "code",
   "execution_count": 5,
   "metadata": {},
   "outputs": [
    {
     "data": {
      "text/plain": [
       "{'rep1': #\"Step\"                       501000.000000\n",
       " Potential Energy (kJ/mole)     31504.409855\n",
       " Kinetic Energy (kJ/mole)       19665.431810\n",
       " Total Energy (kJ/mole)         51169.841666\n",
       " Temperature (K)                  291.461220\n",
       " Box Volume (nm^3)                 60.902604\n",
       " Density (g/mL)                     1.121968\n",
       " Speed (ns/day)                   444.548000\n",
       " dtype: float64,\n",
       " 'rep2': #\"Step\"                       501000.000000\n",
       " Potential Energy (kJ/mole)     31514.147336\n",
       " Kinetic Energy (kJ/mole)       19658.256034\n",
       " Total Energy (kJ/mole)         51172.403370\n",
       " Temperature (K)                  291.354867\n",
       " Box Volume (nm^3)                 60.865638\n",
       " Density (g/mL)                     1.122618\n",
       " Speed (ns/day)                   446.578000\n",
       " dtype: float64,\n",
       " 'rep3': #\"Step\"                       501000.000000\n",
       " Potential Energy (kJ/mole)     31499.593027\n",
       " Kinetic Energy (kJ/mole)       19640.740966\n",
       " Total Energy (kJ/mole)         51140.333993\n",
       " Temperature (K)                  291.095277\n",
       " Box Volume (nm^3)                 60.815058\n",
       " Density (g/mL)                     1.123586\n",
       " Speed (ns/day)                   450.988000\n",
       " dtype: float64,\n",
       " 'rep4': #\"Step\"                       501000.000000\n",
       " Potential Energy (kJ/mole)     31585.107089\n",
       " Kinetic Energy (kJ/mole)       19664.709687\n",
       " Total Energy (kJ/mole)         51249.816776\n",
       " Temperature (K)                  291.450517\n",
       " Box Volume (nm^3)                 60.899305\n",
       " Density (g/mL)                     1.122026\n",
       " Speed (ns/day)                   447.742000\n",
       " dtype: float64,\n",
       " 'rep5': #\"Step\"                       501000.000000\n",
       " Potential Energy (kJ/mole)     31464.262865\n",
       " Kinetic Energy (kJ/mole)       19657.782657\n",
       " Total Energy (kJ/mole)         51122.045522\n",
       " Temperature (K)                  291.347852\n",
       " Box Volume (nm^3)                 60.789754\n",
       " Density (g/mL)                     1.123998\n",
       " Speed (ns/day)                   446.858000\n",
       " dtype: float64,\n",
       " 'rep6': #\"Step\"                       501000.000000\n",
       " Potential Energy (kJ/mole)     31509.616232\n",
       " Kinetic Energy (kJ/mole)       19642.572322\n",
       " Total Energy (kJ/mole)         51152.188553\n",
       " Temperature (K)                  291.122419\n",
       " Box Volume (nm^3)                 60.892574\n",
       " Density (g/mL)                     1.122074\n",
       " Speed (ns/day)                   428.626000\n",
       " dtype: float64}"
      ]
     },
     "execution_count": 5,
     "metadata": {},
     "output_type": "execute_result"
    }
   ],
   "source": [
    "means_500_dict"
   ]
  },
  {
   "cell_type": "code",
   "execution_count": 6,
   "metadata": {},
   "outputs": [
    {
     "name": "stdout",
     "output_type": "stream",
     "text": [
      "Key: rep1\n",
      "Key: rep2\n",
      "Key: rep3\n",
      "Key: rep4\n",
      "Key: rep5\n",
      "Key: rep6\n"
     ]
    }
   ],
   "source": [
    "PE_500=[]\n",
    "KE_500=[]\n",
    "TE_500=[]\n",
    "bVol_500=[]\n",
    "dens_500=[]\n",
    "\n",
    "for key, value_list in means_500_dict.items():\n",
    "    print(f'Key: {key}')\n",
    "    # print(f'Values: {value_list}')\n",
    "    PE_500.append(value_list.iloc[1])\n",
    "    KE_500.append(value_list.iloc[2])\n",
    "    TE_500.append(value_list.iloc[3])\n",
    "    bVol_500.append(value_list.iloc[5])\n",
    "    dens_500.append(value_list.iloc[6])\n"
   ]
  },
  {
   "cell_type": "code",
   "execution_count": 7,
   "metadata": {},
   "outputs": [
    {
     "name": "stdout",
     "output_type": "stream",
     "text": [
      "Hmix 500 replicates, Potential Energy (kJ/mol): 31512.856 +/- 16.167\n"
     ]
    }
   ],
   "source": [
    "PE_500_mean=np.array(PE_500).mean()\n",
    "PE_500_std=np.array(PE_500).std(ddof=1)\n",
    "PE_500_err=PE_500_std/np.sqrt(len(PE_500))\n",
    "print(f'Hmix 500 replicates, Potential Energy (kJ/mol): {PE_500_mean:.3f} +/- {PE_500_err:.3f}')"
   ]
  },
  {
   "cell_type": "code",
   "execution_count": 8,
   "metadata": {},
   "outputs": [
    {
     "name": "stdout",
     "output_type": "stream",
     "text": [
      "Hmix 500 replicates, Kinetic Energy (kJ/mol): 19654.916 +/- 4.394\n"
     ]
    }
   ],
   "source": [
    "KE_500_mean=np.array(KE_500).mean()\n",
    "KE_500_std=np.array(KE_500).std(ddof=1)\n",
    "KE_500_err=KE_500_std/np.sqrt(len(KE_500))\n",
    "print(f'Hmix 500 replicates, Kinetic Energy (kJ/mol): {KE_500_mean:.3f} +/- {KE_500_err:.3f}')"
   ]
  },
  {
   "cell_type": "code",
   "execution_count": 9,
   "metadata": {},
   "outputs": [
    {
     "name": "stdout",
     "output_type": "stream",
     "text": [
      "Hmix 500 replicates, Total Energy (kJ/mol): 51167.772 +/- 18.114\n"
     ]
    }
   ],
   "source": [
    "TE_500_mean=np.array(TE_500).mean()\n",
    "TE_500_std=np.array(TE_500).std(ddof=1)\n",
    "TE_500_err=TE_500_std/np.sqrt(len(TE_500))\n",
    "print(f'Hmix 500 replicates, Total Energy (kJ/mol): {TE_500_mean:.3f} +/- {TE_500_err:.3f}')"
   ]
  },
  {
   "cell_type": "code",
   "execution_count": 10,
   "metadata": {},
   "outputs": [
    {
     "name": "stdout",
     "output_type": "stream",
     "text": [
      "Hmix 500 replicates, Box Volume (nm^3): 60.861 +/- 0.019\n"
     ]
    }
   ],
   "source": [
    "bVol_500_mean=np.array(bVol_500).mean()\n",
    "bVol_500_std=np.array(bVol_500).std(ddof=1)\n",
    "bVol_500_err=bVol_500_std/np.sqrt(len(bVol_500))\n",
    "print(f'Hmix 500 replicates, Box Volume (nm^3): {bVol_500_mean:.3f} +/- {bVol_500_err:.3f}')"
   ]
  },
  {
   "cell_type": "code",
   "execution_count": 11,
   "metadata": {},
   "outputs": [
    {
     "name": "stdout",
     "output_type": "stream",
     "text": [
      "Hmix 500 replicates, Density (g/mL): 1.123 +/- 0.000\n"
     ]
    }
   ],
   "source": [
    "dens_500_mean=np.array(dens_500).mean()\n",
    "dens_500_std=np.array(dens_500).std(ddof=1)\n",
    "dens_500_err=dens_500_std/np.sqrt(len(dens_500))\n",
    "print(f'Hmix 500 replicates, Density (g/mL): {dens_500_mean:.3f} +/- {dens_500_err:.3f}')"
   ]
  },
  {
   "cell_type": "code",
   "execution_count": 12,
   "metadata": {},
   "outputs": [],
   "source": [
    "with open('output_stats_500_2ns.txt', 'w') as file:\n",
    "    file.write(str(means_500_dict))\n",
    "    file.write(f'Hmix 500 replicates, Potential Energy (kJ/mol): {PE_500_mean:.3f} +/- {PE_500_err:.3f}')\n",
    "    file.write(f'Hmix 500 replicates, Kinetic Energy (kJ/mol): {KE_500_mean:.3f} +/- {KE_500_err:.3f}')\n",
    "    file.write(f'Hmix 500 replicates, Total Energy (kJ/mol): {TE_500_mean:.3f} +/- {TE_500_err:.3f}')\n",
    "    file.write(f'Hmix 500 replicates, Box Volume (nm^3): {bVol_500_mean:.3f} +/- {bVol_500_err:.3f}')\n",
    "    file.write(f'Hmix 500 replicates, Density (g/mL): {dens_500_mean:.3f} +/- {dens_500_err:.3f}')\n",
    "    "
   ]
  },
  {
   "cell_type": "code",
   "execution_count": 13,
   "metadata": {},
   "outputs": [
    {
     "name": "stdout",
     "output_type": "stream",
     "text": [
      "Data from 500_r1 loaded successfully into dataframe: 500_r1\n",
      "Data from 500_r2 loaded successfully into dataframe: 500_r2\n",
      "Data from 500_r3 loaded successfully into dataframe: 500_r3\n",
      "Data from 500_r4 loaded successfully into dataframe: 500_r4\n",
      "Data from 500_r5 loaded successfully into dataframe: 500_r5\n",
      "Data from 500_r6 loaded successfully into dataframe: 500_r6\n",
      "Dataframe 'value_500_r1':\n",
      "Dataframe 'error_500_r1':\n",
      "Dataframe 'value_500_r2':\n",
      "Dataframe 'error_500_r2':\n",
      "Dataframe 'value_500_r3':\n",
      "Dataframe 'error_500_r3':\n",
      "Dataframe 'value_500_r4':\n",
      "Dataframe 'error_500_r4':\n",
      "Dataframe 'value_500_r5':\n",
      "Dataframe 'error_500_r5':\n",
      "Dataframe 'value_500_r6':\n",
      "Dataframe 'error_500_r6':\n"
     ]
    }
   ],
   "source": [
    "# Specify the subdirectories you want to loop through\n",
    "obs_df = {}  # Dictionary to store obs_df\n",
    "\n",
    "# Loop through each xdirectory\n",
    "for xdir in subdirs:\n",
    "    # Construct the path to the CSV file (assuming the CSV has the same name as the xdir)\n",
    "    csv_file_path = os.path.join(os.getcwd(), xdir, f'6421_calculate_excess_observable_output.json')\n",
    "\n",
    "    # Read the CSV into a pandas dataframe\n",
    "    if os.path.exists(csv_file_path):\n",
    "        jsdf = pd.read_json(csv_file_path)\n",
    "        # Store the dataframe with a unique name (using the xdirectory name)\n",
    "        obs_df[f'value_{xdir}'] = jsdf['.result']['value']['value']\n",
    "        obs_df[f'error_{xdir}'] = jsdf['.result']['value']['error']\n",
    "        print(f\"Data from {xdir} loaded successfully into dataframe: {xdir}\")\n",
    "    else:\n",
    "        print(f\"CSV file not found in {xdir}\")\n",
    "\n",
    "# Access the obs_df\n",
    "for name, jsdf in obs_df.items():\n",
    "    print(f\"Dataframe '{name}':\")\n",
    "    # print(jsdf.head())"
   ]
  },
  {
   "cell_type": "code",
   "execution_count": 14,
   "metadata": {},
   "outputs": [],
   "source": [
    "observables={}\n",
    "observables['value_r1']=obs_df['value_500_r1']\n",
    "observables['error_r1']=obs_df['error_500_r1']\n",
    "observables['value_r2']=obs_df['value_500_r2']\n",
    "observables['error_r2']=obs_df['error_500_r2']\n",
    "observables['value_r3']=obs_df['value_500_r3']\n",
    "observables['error_r3']=obs_df['error_500_r3']\n",
    "observables['value_r4']=obs_df['value_500_r4']\n",
    "observables['error_r4']=obs_df['error_500_r4']\n",
    "observables['value_r5']=obs_df['value_500_r5']\n",
    "observables['error_r5']=obs_df['error_500_r5']\n",
    "observables['value_r6']=obs_df['value_500_r6']\n",
    "observables['error_r6']=obs_df['error_500_r6']"
   ]
  },
  {
   "cell_type": "code",
   "execution_count": 15,
   "metadata": {},
   "outputs": [
    {
     "data": {
      "text/plain": [
       "{'value_r1': {'value': -1.5354113035687642,\n",
       "  'unit': 'kilojoule / mole',\n",
       "  '@type': 'openff.evaluator.unit.Quantity'},\n",
       " 'error_r1': {'value': 0.09132507014914701,\n",
       "  'unit': 'kilojoule / mole',\n",
       "  '@type': 'openff.evaluator.unit.Quantity'},\n",
       " 'value_r2': {'value': -1.4651932172143631,\n",
       "  'unit': 'kilojoule / mole',\n",
       "  '@type': 'openff.evaluator.unit.Quantity'},\n",
       " 'error_r2': {'value': 0.101108802339387,\n",
       "  'unit': 'kilojoule / mole',\n",
       "  '@type': 'openff.evaluator.unit.Quantity'},\n",
       " 'value_r3': {'value': -1.500722359357212,\n",
       "  'unit': 'kilojoule / mole',\n",
       "  '@type': 'openff.evaluator.unit.Quantity'},\n",
       " 'error_r3': {'value': 0.110143628359312,\n",
       "  'unit': 'kilojoule / mole',\n",
       "  '@type': 'openff.evaluator.unit.Quantity'},\n",
       " 'value_r4': {'value': -1.102634648787642,\n",
       "  'unit': 'kilojoule / mole',\n",
       "  '@type': 'openff.evaluator.unit.Quantity'},\n",
       " 'error_r4': {'value': 0.116825975105314,\n",
       "  'unit': 'kilojoule / mole',\n",
       "  '@type': 'openff.evaluator.unit.Quantity'},\n",
       " 'value_r5': {'value': -1.503496497456069,\n",
       "  'unit': 'kilojoule / mole',\n",
       "  '@type': 'openff.evaluator.unit.Quantity'},\n",
       " 'error_r5': {'value': 0.07744090362391601,\n",
       "  'unit': 'kilojoule / mole',\n",
       "  '@type': 'openff.evaluator.unit.Quantity'},\n",
       " 'value_r6': {'value': -1.7146722272061221,\n",
       "  'unit': 'kilojoule / mole',\n",
       "  '@type': 'openff.evaluator.unit.Quantity'},\n",
       " 'error_r6': {'value': 0.09215569297355901,\n",
       "  'unit': 'kilojoule / mole',\n",
       "  '@type': 'openff.evaluator.unit.Quantity'}}"
      ]
     },
     "execution_count": 15,
     "metadata": {},
     "output_type": "execute_result"
    }
   ],
   "source": [
    "observables"
   ]
  },
  {
   "cell_type": "code",
   "execution_count": 16,
   "metadata": {},
   "outputs": [
    {
     "name": "stdout",
     "output_type": "stream",
     "text": [
      "value_r1:-1.5354113035687642\n",
      "error_r1:0.09132507014914701\n",
      "value_r2:-1.4651932172143631\n",
      "error_r2:0.101108802339387\n",
      "value_r3:-1.500722359357212\n",
      "error_r3:0.110143628359312\n",
      "value_r4:-1.102634648787642\n",
      "error_r4:0.116825975105314\n",
      "value_r5:-1.503496497456069\n",
      "error_r5:0.07744090362391601\n",
      "value_r6:-1.7146722272061221\n",
      "error_r6:0.09215569297355901\n"
     ]
    }
   ],
   "source": [
    "obs_values=[]\n",
    "obs_errors=[]\n",
    "for key, mr in observables.items():\n",
    "    if 'value' in key:\n",
    "        print(f\"{key}:{mr['value']}\")\n",
    "        obs_values.append(mr['value'])\n",
    "    elif 'error' in key:\n",
    "        print(f\"{key}:{mr['value']}\")\n",
    "        obs_errors.append(mr['value'])"
   ]
  },
  {
   "cell_type": "code",
   "execution_count": 17,
   "metadata": {},
   "outputs": [
    {
     "name": "stdout",
     "output_type": "stream",
     "text": [
      "[-1.5354113035687642, -1.4651932172143631, -1.500722359357212, -1.102634648787642, -1.503496497456069, -1.7146722272061221]\n"
     ]
    }
   ],
   "source": [
    "print(obs_values)"
   ]
  },
  {
   "cell_type": "code",
   "execution_count": 18,
   "metadata": {},
   "outputs": [],
   "source": [
    "with open('output_observables_500_2ns.txt', 'w') as file:\n",
    "    file.write(str(observables))\n",
    "    file.write('\\n')\n",
    "    file.write(f'Values list: {obs_values} \\n')\n",
    "    file.write(f'Errors list: {obs_errors} \\n')"
   ]
  },
  {
   "cell_type": "code",
   "execution_count": 19,
   "metadata": {},
   "outputs": [
    {
     "name": "stdout",
     "output_type": "stream",
     "text": [
      "Data from 500_r1 loaded successfully into dataframe: 500_r1\n",
      "Data from 500_r2 loaded successfully into dataframe: 500_r2\n",
      "Data from 500_r3 loaded successfully into dataframe: 500_r3\n",
      "Data from 500_r4 loaded successfully into dataframe: 500_r4\n",
      "Data from 500_r5 loaded successfully into dataframe: 500_r5\n",
      "Data from 500_r6 loaded successfully into dataframe: 500_r6\n",
      "Dataframe 'value_500_r1':\n",
      "Dataframe 'error_500_r1':\n",
      "Dataframe 'n_total_points_500_r1':\n",
      "Dataframe 'n_uncorrelated_points_500_r1':\n",
      "Dataframe 'statistical_inefficiency_500_r1':\n",
      "Dataframe 'equilibration_index_500_r1':\n",
      "Dataframe 'value_500_r2':\n",
      "Dataframe 'error_500_r2':\n",
      "Dataframe 'n_total_points_500_r2':\n",
      "Dataframe 'n_uncorrelated_points_500_r2':\n",
      "Dataframe 'statistical_inefficiency_500_r2':\n",
      "Dataframe 'equilibration_index_500_r2':\n",
      "Dataframe 'value_500_r3':\n",
      "Dataframe 'error_500_r3':\n",
      "Dataframe 'n_total_points_500_r3':\n",
      "Dataframe 'n_uncorrelated_points_500_r3':\n",
      "Dataframe 'statistical_inefficiency_500_r3':\n",
      "Dataframe 'equilibration_index_500_r3':\n",
      "Dataframe 'value_500_r4':\n",
      "Dataframe 'error_500_r4':\n",
      "Dataframe 'n_total_points_500_r4':\n",
      "Dataframe 'n_uncorrelated_points_500_r4':\n",
      "Dataframe 'statistical_inefficiency_500_r4':\n",
      "Dataframe 'equilibration_index_500_r4':\n",
      "Dataframe 'value_500_r5':\n",
      "Dataframe 'error_500_r5':\n",
      "Dataframe 'n_total_points_500_r5':\n",
      "Dataframe 'n_uncorrelated_points_500_r5':\n",
      "Dataframe 'statistical_inefficiency_500_r5':\n",
      "Dataframe 'equilibration_index_500_r5':\n",
      "Dataframe 'value_500_r6':\n",
      "Dataframe 'error_500_r6':\n",
      "Dataframe 'n_total_points_500_r6':\n",
      "Dataframe 'n_uncorrelated_points_500_r6':\n",
      "Dataframe 'statistical_inefficiency_500_r6':\n",
      "Dataframe 'equilibration_index_500_r6':\n"
     ]
    }
   ],
   "source": [
    "# Specify the subdirectories you want to loop through\n",
    "exobs_df = {}  # Dictionary to store exobs_df\n",
    "\n",
    "# Loop through each ydirectory\n",
    "for ydir in subdirs:\n",
    "    # Construct the path to the CSV file (assuming the CSV has the same name as the ydir)\n",
    "    csv_file_path = os.path.join(os.getcwd(), ydir, f'6421_extract_observable_mixture_output.json')\n",
    "\n",
    "    # Read the CSV into a pandas dataframe\n",
    "    if os.path.exists(csv_file_path):\n",
    "        jsdf = pd.read_json(csv_file_path)\n",
    "        # Store the dataframe with a unique name (using the ydirectory name)\n",
    "        exobs_df[f'value_{ydir}'] = jsdf['.value']['value']['value']\n",
    "        exobs_df[f'error_{ydir}'] = jsdf['.value']['value']['error']\n",
    "        exobs_df[f'n_total_points_{ydir}'] = jsdf['.time_series_statistics'][\"n_total_points\"]\n",
    "        exobs_df[f'n_uncorrelated_points_{ydir}'] = jsdf['.time_series_statistics'][\"n_uncorrelated_points\"]\n",
    "        exobs_df[f'statistical_inefficiency_{ydir}'] = jsdf['.time_series_statistics'][\"statistical_inefficiency\"]\n",
    "        exobs_df[f'equilibration_index_{ydir}'] = jsdf['.time_series_statistics'][\"equilibration_index\"]\n",
    "\n",
    "        print(f\"Data from {ydir} loaded successfully into dataframe: {ydir}\")\n",
    "    else:\n",
    "        print(f\"CSV file not found in {ydir}\")\n",
    "\n",
    "# Access the exobs_df\n",
    "for name, jsdf in exobs_df.items():\n",
    "    print(f\"Dataframe '{name}':\")\n",
    "    # print(jsdf.head())"
   ]
  },
  {
   "cell_type": "code",
   "execution_count": 20,
   "metadata": {},
   "outputs": [],
   "source": [
    "mixout={}\n",
    "\n",
    "mixout['value_r1']=exobs_df['value_500_r1']\n",
    "mixout['error_r1']=exobs_df['error_500_r1']\n",
    "mixout['total_points_r1']=exobs_df['n_total_points_500_r1']\n",
    "mixout['uncorr_points_r1']=exobs_df['n_uncorrelated_points_500_r1']\n",
    "mixout['stat_ineff_r1']=exobs_df['statistical_inefficiency_500_r1']\n",
    "mixout['equil_index_r1']=exobs_df['equilibration_index_500_r1']\n",
    "\n",
    "mixout['value_r2']=exobs_df['value_500_r2']\n",
    "mixout['error_r2']=exobs_df['error_500_r2']\n",
    "mixout['total_points_r2']=exobs_df['n_total_points_500_r2']\n",
    "mixout['uncorr_points_r2']=exobs_df['n_uncorrelated_points_500_r2']\n",
    "mixout['stat_ineff_r2']=exobs_df['statistical_inefficiency_500_r2']\n",
    "mixout['equil_index_r2']=exobs_df['equilibration_index_500_r2']\n",
    "\n",
    "mixout['value_r3']=exobs_df['value_500_r3']\n",
    "mixout['error_r3']=exobs_df['error_500_r3']\n",
    "mixout['total_points_r3']=exobs_df['n_total_points_500_r3']\n",
    "mixout['uncorr_points_r3']=exobs_df['n_uncorrelated_points_500_r3']\n",
    "mixout['stat_ineff_r3']=exobs_df['statistical_inefficiency_500_r3']\n",
    "mixout['equil_index_r3']=exobs_df['equilibration_index_500_r3']\n",
    "\n",
    "mixout['value_r4']=exobs_df['value_500_r4']\n",
    "mixout['error_r4']=exobs_df['error_500_r4']\n",
    "mixout['total_points_r4']=exobs_df['n_total_points_500_r4']\n",
    "mixout['uncorr_points_r4']=exobs_df['n_uncorrelated_points_500_r4']\n",
    "mixout['stat_ineff_r4']=exobs_df['statistical_inefficiency_500_r4']\n",
    "mixout['equil_index_r4']=exobs_df['equilibration_index_500_r4']\n",
    "\n",
    "mixout['value_r5']=exobs_df['value_500_r5']\n",
    "mixout['error_r5']=exobs_df['error_500_r5']\n",
    "mixout['total_points_r5']=exobs_df['n_total_points_500_r5']\n",
    "mixout['uncorr_points_r5']=exobs_df['n_uncorrelated_points_500_r5']\n",
    "mixout['stat_ineff_r5']=exobs_df['statistical_inefficiency_500_r5']\n",
    "mixout['equil_index_r5']=exobs_df['equilibration_index_500_r5']\n",
    "\n",
    "mixout['value_r6']=exobs_df['value_500_r6']\n",
    "mixout['error_r6']=exobs_df['error_500_r6']\n",
    "mixout['total_points_r6']=exobs_df['n_total_points_500_r6']\n",
    "mixout['uncorr_points_r6']=exobs_df['n_uncorrelated_points_500_r6']\n",
    "mixout['stat_ineff_r6']=exobs_df['statistical_inefficiency_500_r6']\n",
    "mixout['equil_index_r6']=exobs_df['equilibration_index_500_r6']"
   ]
  },
  {
   "cell_type": "code",
   "execution_count": 21,
   "metadata": {},
   "outputs": [
    {
     "data": {
      "text/plain": [
       "{'value_r1': {'value': 101.40731510718878,\n",
       "  'unit': 'kilojoule / mole',\n",
       "  '@type': 'openff.evaluator.unit.Quantity'},\n",
       " 'error_r1': {'value': 0.07420582843498301,\n",
       "  'unit': 'kilojoule / mole',\n",
       "  '@type': 'openff.evaluator.unit.Quantity'},\n",
       " 'total_points_r1': 500,\n",
       " 'uncorr_points_r1': 152,\n",
       " 'stat_ineff_r1': 1.089122639390278,\n",
       " 'equil_index_r1': 196,\n",
       " 'value_r2': {'value': 101.23559543102985,\n",
       "  'unit': 'kilojoule / mole',\n",
       "  '@type': 'openff.evaluator.unit.Quantity'},\n",
       " 'error_r2': {'value': 0.078661533116317,\n",
       "  'unit': 'kilojoule / mole',\n",
       "  '@type': 'openff.evaluator.unit.Quantity'},\n",
       " 'total_points_r2': 500,\n",
       " 'uncorr_points_r2': 93,\n",
       " 'stat_ineff_r2': 1.7868991321666212,\n",
       " 'equil_index_r2': 315,\n",
       " 'value_r3': {'value': 101.081156385655,\n",
       "  'unit': 'kilojoule / mole',\n",
       "  '@type': 'openff.evaluator.unit.Quantity'},\n",
       " 'error_r3': {'value': 0.09768388895117901,\n",
       "  'unit': 'kilojoule / mole',\n",
       "  '@type': 'openff.evaluator.unit.Quantity'},\n",
       " 'total_points_r3': 500,\n",
       " 'uncorr_points_r3': 50,\n",
       " 'stat_ineff_r3': 2.308010359643837,\n",
       " 'equil_index_r3': 351,\n",
       " 'value_r4': {'value': 101.44905423613649,\n",
       "  'unit': 'kilojoule / mole',\n",
       "  '@type': 'openff.evaluator.unit.Quantity'},\n",
       " 'error_r4': {'value': 0.07781132294665101,\n",
       "  'unit': 'kilojoule / mole',\n",
       "  '@type': 'openff.evaluator.unit.Quantity'},\n",
       " 'total_points_r4': 500,\n",
       " 'uncorr_points_r4': 83,\n",
       " 'stat_ineff_r4': 2.1426619155211712,\n",
       " 'equil_index_r4': 253,\n",
       " 'value_r5': {'value': 101.17491941642545,\n",
       "  'unit': 'kilojoule / mole',\n",
       "  '@type': 'openff.evaluator.unit.Quantity'},\n",
       " 'error_r5': {'value': 0.046293786127654,\n",
       "  'unit': 'kilojoule / mole',\n",
       "  '@type': 'openff.evaluator.unit.Quantity'},\n",
       " 'total_points_r5': 500,\n",
       " 'uncorr_points_r5': 248,\n",
       " 'stat_ineff_r5': 1.0,\n",
       " 'equil_index_r5': 252,\n",
       " 'value_r6': {'value': 101.30540860170333,\n",
       "  'unit': 'kilojoule / mole',\n",
       "  '@type': 'openff.evaluator.unit.Quantity'},\n",
       " 'error_r6': {'value': 0.06480285886127901,\n",
       "  'unit': 'kilojoule / mole',\n",
       "  '@type': 'openff.evaluator.unit.Quantity'},\n",
       " 'total_points_r6': 500,\n",
       " 'uncorr_points_r6': 96,\n",
       " 'stat_ineff_r6': 1.9913116269182631,\n",
       " 'equil_index_r6': 309}"
      ]
     },
     "execution_count": 21,
     "metadata": {},
     "output_type": "execute_result"
    }
   ],
   "source": [
    "mixout"
   ]
  },
  {
   "cell_type": "code",
   "execution_count": 22,
   "metadata": {},
   "outputs": [
    {
     "name": "stdout",
     "output_type": "stream",
     "text": [
      "value_r1:101.40731510718878\n",
      "error_r1:0.07420582843498301\n",
      "total_points_r1:500\n",
      "uncorr_points_r1:152\n",
      "stat_ineff_r1:1.089122639390278\n",
      "equil_index_r1:196\n",
      "value_r2:101.23559543102985\n",
      "error_r2:0.078661533116317\n",
      "total_points_r2:500\n",
      "uncorr_points_r2:93\n",
      "stat_ineff_r2:1.7868991321666212\n",
      "equil_index_r2:315\n",
      "value_r3:101.081156385655\n",
      "error_r3:0.09768388895117901\n",
      "total_points_r3:500\n",
      "uncorr_points_r3:50\n",
      "stat_ineff_r3:2.308010359643837\n",
      "equil_index_r3:351\n",
      "value_r4:101.44905423613649\n",
      "error_r4:0.07781132294665101\n",
      "total_points_r4:500\n",
      "uncorr_points_r4:83\n",
      "stat_ineff_r4:2.1426619155211712\n",
      "equil_index_r4:253\n",
      "value_r5:101.17491941642545\n",
      "error_r5:0.046293786127654\n",
      "total_points_r5:500\n",
      "uncorr_points_r5:248\n",
      "stat_ineff_r5:1.0\n",
      "equil_index_r5:252\n",
      "value_r6:101.30540860170333\n",
      "error_r6:0.06480285886127901\n",
      "total_points_r6:500\n",
      "uncorr_points_r6:96\n",
      "stat_ineff_r6:1.9913116269182631\n",
      "equil_index_r6:309\n"
     ]
    }
   ],
   "source": [
    "mixout_values=[]\n",
    "mixout_errors=[]\n",
    "mixout_totpts=[]\n",
    "mixout_uncorrpts=[]\n",
    "mixout_statineff=[]\n",
    "mixout_equilindex=[]\n",
    "\n",
    "for key, mr in mixout.items():\n",
    "    if 'value' in key:\n",
    "        print(f\"{key}:{mr['value']}\")\n",
    "        mixout_values.append(mr['value'])\n",
    "    elif 'error' in key:\n",
    "        print(f\"{key}:{mr['value']}\")\n",
    "        mixout_errors.append(mr['value'])\n",
    "    elif 'total_points' in key:\n",
    "        print(f\"{key}:{mr}\")\n",
    "        mixout_totpts.append(mr)\n",
    "    elif 'uncorr_points' in key:\n",
    "        print(f\"{key}:{mr}\")\n",
    "        mixout_uncorrpts.append(mr)\n",
    "    elif 'stat_ineff' in key:\n",
    "        print(f\"{key}:{mr}\")\n",
    "        mixout_statineff.append(mr)\n",
    "    elif 'equil_index' in key:\n",
    "        print(f\"{key}:{mr}\")\n",
    "        mixout_equilindex.append(mr)"
   ]
  },
  {
   "cell_type": "code",
   "execution_count": 23,
   "metadata": {},
   "outputs": [],
   "source": [
    "with open('mixture_output_500_2ns.txt', 'w') as file:\n",
    "    file.write(str(mixout))\n",
    "    file.write('\\n')\n",
    "    file.write(f'Values list: {mixout_values} \\n')\n",
    "    file.write(f'Errors list: {mixout_errors} \\n')\n",
    "    file.write(f'Total points list: {mixout_totpts} \\n')\n",
    "    file.write(f'Uncorrelated points list: {mixout_uncorrpts} \\n')\n",
    "    file.write(f'Statistical inefficiency list: {mixout_statineff} \\n')\n",
    "    file.write(f'Equilibration index list: {mixout_equilindex} \\n')"
   ]
  }
 ],
 "metadata": {
  "kernelspec": {
   "display_name": "mdanalysis",
   "language": "python",
   "name": "python3"
  },
  "language_info": {
   "codemirror_mode": {
    "name": "ipython",
    "version": 3
   },
   "file_extension": ".py",
   "mimetype": "text/x-python",
   "name": "python",
   "nbconvert_exporter": "python",
   "pygments_lexer": "ipython3",
   "version": "3.9.18"
  }
 },
 "nbformat": 4,
 "nbformat_minor": 2
}
